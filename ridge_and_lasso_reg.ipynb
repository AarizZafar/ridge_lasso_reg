{
 "cells": [
  {
   "cell_type": "markdown",
   "metadata": {},
   "source": [
    "```plaintext\n",
    "Understanding the impact og model complexity on the magnitude of coefficient. \n",
    "taking the example of a sine curve (between 60° and 300°) and adding some random noise. \n"
   ]
  },
  {
   "cell_type": "code",
   "execution_count": 1,
   "metadata": {},
   "outputs": [],
   "source": [
    "import pandas as pd\n",
    "import numpy as np \n",
    "import random\n",
    "\n",
    "import plotly.express as px\n",
    "import plotly.graph_objects as go\n",
    "from sklearn.linear_model import LinearRegression\n",
    "import plotly.graph_objects as go\n",
    "from plotly.subplots import make_subplots\n",
    "from sklearn.preprocessing import StandardScaler\n",
    "from sklearn.linear_model import Ridge, Lasso"
   ]
  },
  {
   "cell_type": "markdown",
   "metadata": {},
   "source": [
    "```plaintext\n",
    "[i * np.pi/180 for i in range(60, 300, 4)]: A list comprehension that applies the conversion to each value in the range.\n",
    "\n",
    "range(60, 300, 4) - geneates a sequence of numbers (60 - 296) step size 4\n",
    "i * np.pi/180 for each number i multiplies it by np.pi/180 to convert degree to radians. \n",
    "\n",
    "radians = degree × π/180"
   ]
  },
  {
   "cell_type": "code",
   "execution_count": 2,
   "metadata": {},
   "outputs": [
    {
     "data": {
      "application/vnd.plotly.v1+json": {
       "config": {
        "plotlyServerURL": "https://plot.ly"
       },
       "data": [
        {
         "mode": "markers",
         "name": "Sine Curve",
         "type": "scatter",
         "x": [
          1.0471975511965976,
          1.117010721276371,
          1.1868238913561442,
          1.2566370614359172,
          1.3264502315156903,
          1.3962634015954636,
          1.4660765716752369,
          1.53588974175501,
          1.605702911834783,
          1.6755160819145563,
          1.7453292519943295,
          1.8151424220741028,
          1.8849555921538759,
          1.9547687622336491,
          2.0245819323134224,
          2.0943951023931953,
          2.1642082724729685,
          2.234021442552742,
          2.303834612632515,
          2.3736477827122884,
          2.443460952792061,
          2.5132741228718345,
          2.5830872929516078,
          2.6529004630313806,
          2.722713633111154,
          2.792526803190927,
          2.8623399732707,
          2.9321531433504737,
          3.0019663134302466,
          3.07177948351002,
          3.141592653589793,
          3.211405823669566,
          3.2812189937493397,
          3.3510321638291125,
          3.420845333908886,
          3.490658503988659,
          3.560471674068432,
          3.6302848441482056,
          3.7000980142279785,
          3.7699111843077517,
          3.839724354387525,
          3.9095375244672983,
          3.979350694547071,
          4.049163864626845,
          4.118977034706617,
          4.1887902047863905,
          4.258603374866164,
          4.328416544945937,
          4.39822971502571,
          4.468042885105484,
          4.537856055185257,
          4.60766922526503,
          4.677482395344803,
          4.747295565424577,
          4.817108735504349,
          4.886921905584122,
          4.956735075663896,
          5.026548245743669,
          5.096361415823442,
          5.1661745859032155
         ],
         "y": [
          0.8660254037844386,
          0.898794046299167,
          0.9271838545667874,
          0.9510565162951535,
          0.9702957262759965,
          0.984807753012208,
          0.9945218953682733,
          0.9993908270190958,
          0.9993908270190958,
          0.9945218953682734,
          0.984807753012208,
          0.9702957262759965,
          0.9510565162951536,
          0.9271838545667874,
          0.8987940462991669,
          0.8660254037844387,
          0.8290375725550417,
          0.788010753606722,
          0.7431448254773942,
          0.6946583704589971,
          0.6427876096865395,
          0.5877852522924732,
          0.5299192642332049,
          0.4694715627858911,
          0.40673664307580043,
          0.3420201433256689,
          0.27563735581699966,
          0.20791169081775931,
          0.13917310096006574,
          0.06975647374412552,
          1.2246467991473532e-16,
          -0.06975647374412483,
          -0.13917310096006552,
          -0.20791169081775907,
          -0.275637355816999,
          -0.34202014332566866,
          -0.4067366430757998,
          -0.46947156278589086,
          -0.5299192642332048,
          -0.587785252292473,
          -0.6427876096865393,
          -0.6946583704589973,
          -0.743144825477394,
          -0.7880107536067221,
          -0.8290375725550414,
          -0.8660254037844385,
          -0.8987940462991668,
          -0.9271838545667873,
          -0.9510565162951535,
          -0.9702957262759965,
          -0.984807753012208,
          -0.9945218953682734,
          -0.9993908270190957,
          -0.9993908270190958,
          -0.9945218953682734,
          -0.9848077530122081,
          -0.9702957262759966,
          -0.9510565162951536,
          -0.9271838545667874,
          -0.898794046299167
         ]
        },
        {
         "mode": "markers",
         "name": "Sine Curve with noise",
         "type": "scatter",
         "x": [
          1.0471975511965976,
          1.117010721276371,
          1.1868238913561442,
          1.2566370614359172,
          1.3264502315156903,
          1.3962634015954636,
          1.4660765716752369,
          1.53588974175501,
          1.605702911834783,
          1.6755160819145563,
          1.7453292519943295,
          1.8151424220741028,
          1.8849555921538759,
          1.9547687622336491,
          2.0245819323134224,
          2.0943951023931953,
          2.1642082724729685,
          2.234021442552742,
          2.303834612632515,
          2.3736477827122884,
          2.443460952792061,
          2.5132741228718345,
          2.5830872929516078,
          2.6529004630313806,
          2.722713633111154,
          2.792526803190927,
          2.8623399732707,
          2.9321531433504737,
          3.0019663134302466,
          3.07177948351002,
          3.141592653589793,
          3.211405823669566,
          3.2812189937493397,
          3.3510321638291125,
          3.420845333908886,
          3.490658503988659,
          3.560471674068432,
          3.6302848441482056,
          3.7000980142279785,
          3.7699111843077517,
          3.839724354387525,
          3.9095375244672983,
          3.979350694547071,
          4.049163864626845,
          4.118977034706617,
          4.1887902047863905,
          4.258603374866164,
          4.328416544945937,
          4.39822971502571,
          4.468042885105484,
          4.537856055185257,
          4.60766922526503,
          4.677482395344803,
          4.747295565424577,
          4.817108735504349,
          4.886921905584122,
          4.956735075663896,
          5.026548245743669,
          5.096361415823442,
          5.1661745859032155
         ],
         "y": [
          1.0657633794038663,
          1.0060858924589278,
          0.6953738107500972,
          0.9497989388058752,
          1.0634961223595685,
          0.8767949189043736,
          1.0343486332220913,
          1.015673105876341,
          1.0000345416592007,
          0.9683318637793322,
          1.0497616815052477,
          1.1507513323478282,
          0.8062966657176391,
          1.081424966264193,
          0.9330885658178659,
          0.9327960457089909,
          0.6585472407803852,
          0.8082812853740173,
          0.9658253757528816,
          0.5326876375912057,
          0.3461283675878534,
          0.32627940790763715,
          0.5698297888332875,
          0.8272166623925556,
          0.575290331087214,
          0.592913475321843,
          0.2905097381922862,
          0.4176111473817956,
          0.09848590276519861,
          0.1617371014730714,
          -0.04009757830103517,
          -0.15215282585994666,
          -0.11926685659607285,
          -0.27933299305685966,
          -0.07936639368747736,
          -0.31276815144070474,
          -0.34670514483794757,
          -0.5201164133487205,
          -0.34144842466993147,
          -0.6975806775926542,
          -0.5437528770025923,
          -0.747289154174978,
          -0.8840598294417767,
          -0.8614113361394199,
          -0.9497262438955346,
          -0.8979300495910152,
          -0.949665083208682,
          -0.880358364119804,
          -0.8662836158466595,
          -0.9924087649350495,
          -0.988693553534636,
          -0.9511577647976832,
          -1.0803726877190007,
          -0.8931668240301053,
          -0.868188184610875,
          -0.9542706334130864,
          -0.6110901765433163,
          -0.8134376756685893,
          -0.9440247252459114,
          -0.9531211133705031
         ]
        }
       ],
       "layout": {
        "legend": {
         "title": {
          "text": "Legend"
         }
        },
        "template": {
         "data": {
          "bar": [
           {
            "error_x": {
             "color": "#2a3f5f"
            },
            "error_y": {
             "color": "#2a3f5f"
            },
            "marker": {
             "line": {
              "color": "white",
              "width": 0.5
             },
             "pattern": {
              "fillmode": "overlay",
              "size": 10,
              "solidity": 0.2
             }
            },
            "type": "bar"
           }
          ],
          "barpolar": [
           {
            "marker": {
             "line": {
              "color": "white",
              "width": 0.5
             },
             "pattern": {
              "fillmode": "overlay",
              "size": 10,
              "solidity": 0.2
             }
            },
            "type": "barpolar"
           }
          ],
          "carpet": [
           {
            "aaxis": {
             "endlinecolor": "#2a3f5f",
             "gridcolor": "#C8D4E3",
             "linecolor": "#C8D4E3",
             "minorgridcolor": "#C8D4E3",
             "startlinecolor": "#2a3f5f"
            },
            "baxis": {
             "endlinecolor": "#2a3f5f",
             "gridcolor": "#C8D4E3",
             "linecolor": "#C8D4E3",
             "minorgridcolor": "#C8D4E3",
             "startlinecolor": "#2a3f5f"
            },
            "type": "carpet"
           }
          ],
          "choropleth": [
           {
            "colorbar": {
             "outlinewidth": 0,
             "ticks": ""
            },
            "type": "choropleth"
           }
          ],
          "contour": [
           {
            "colorbar": {
             "outlinewidth": 0,
             "ticks": ""
            },
            "colorscale": [
             [
              0,
              "#0d0887"
             ],
             [
              0.1111111111111111,
              "#46039f"
             ],
             [
              0.2222222222222222,
              "#7201a8"
             ],
             [
              0.3333333333333333,
              "#9c179e"
             ],
             [
              0.4444444444444444,
              "#bd3786"
             ],
             [
              0.5555555555555556,
              "#d8576b"
             ],
             [
              0.6666666666666666,
              "#ed7953"
             ],
             [
              0.7777777777777778,
              "#fb9f3a"
             ],
             [
              0.8888888888888888,
              "#fdca26"
             ],
             [
              1,
              "#f0f921"
             ]
            ],
            "type": "contour"
           }
          ],
          "contourcarpet": [
           {
            "colorbar": {
             "outlinewidth": 0,
             "ticks": ""
            },
            "type": "contourcarpet"
           }
          ],
          "heatmap": [
           {
            "colorbar": {
             "outlinewidth": 0,
             "ticks": ""
            },
            "colorscale": [
             [
              0,
              "#0d0887"
             ],
             [
              0.1111111111111111,
              "#46039f"
             ],
             [
              0.2222222222222222,
              "#7201a8"
             ],
             [
              0.3333333333333333,
              "#9c179e"
             ],
             [
              0.4444444444444444,
              "#bd3786"
             ],
             [
              0.5555555555555556,
              "#d8576b"
             ],
             [
              0.6666666666666666,
              "#ed7953"
             ],
             [
              0.7777777777777778,
              "#fb9f3a"
             ],
             [
              0.8888888888888888,
              "#fdca26"
             ],
             [
              1,
              "#f0f921"
             ]
            ],
            "type": "heatmap"
           }
          ],
          "heatmapgl": [
           {
            "colorbar": {
             "outlinewidth": 0,
             "ticks": ""
            },
            "colorscale": [
             [
              0,
              "#0d0887"
             ],
             [
              0.1111111111111111,
              "#46039f"
             ],
             [
              0.2222222222222222,
              "#7201a8"
             ],
             [
              0.3333333333333333,
              "#9c179e"
             ],
             [
              0.4444444444444444,
              "#bd3786"
             ],
             [
              0.5555555555555556,
              "#d8576b"
             ],
             [
              0.6666666666666666,
              "#ed7953"
             ],
             [
              0.7777777777777778,
              "#fb9f3a"
             ],
             [
              0.8888888888888888,
              "#fdca26"
             ],
             [
              1,
              "#f0f921"
             ]
            ],
            "type": "heatmapgl"
           }
          ],
          "histogram": [
           {
            "marker": {
             "pattern": {
              "fillmode": "overlay",
              "size": 10,
              "solidity": 0.2
             }
            },
            "type": "histogram"
           }
          ],
          "histogram2d": [
           {
            "colorbar": {
             "outlinewidth": 0,
             "ticks": ""
            },
            "colorscale": [
             [
              0,
              "#0d0887"
             ],
             [
              0.1111111111111111,
              "#46039f"
             ],
             [
              0.2222222222222222,
              "#7201a8"
             ],
             [
              0.3333333333333333,
              "#9c179e"
             ],
             [
              0.4444444444444444,
              "#bd3786"
             ],
             [
              0.5555555555555556,
              "#d8576b"
             ],
             [
              0.6666666666666666,
              "#ed7953"
             ],
             [
              0.7777777777777778,
              "#fb9f3a"
             ],
             [
              0.8888888888888888,
              "#fdca26"
             ],
             [
              1,
              "#f0f921"
             ]
            ],
            "type": "histogram2d"
           }
          ],
          "histogram2dcontour": [
           {
            "colorbar": {
             "outlinewidth": 0,
             "ticks": ""
            },
            "colorscale": [
             [
              0,
              "#0d0887"
             ],
             [
              0.1111111111111111,
              "#46039f"
             ],
             [
              0.2222222222222222,
              "#7201a8"
             ],
             [
              0.3333333333333333,
              "#9c179e"
             ],
             [
              0.4444444444444444,
              "#bd3786"
             ],
             [
              0.5555555555555556,
              "#d8576b"
             ],
             [
              0.6666666666666666,
              "#ed7953"
             ],
             [
              0.7777777777777778,
              "#fb9f3a"
             ],
             [
              0.8888888888888888,
              "#fdca26"
             ],
             [
              1,
              "#f0f921"
             ]
            ],
            "type": "histogram2dcontour"
           }
          ],
          "mesh3d": [
           {
            "colorbar": {
             "outlinewidth": 0,
             "ticks": ""
            },
            "type": "mesh3d"
           }
          ],
          "parcoords": [
           {
            "line": {
             "colorbar": {
              "outlinewidth": 0,
              "ticks": ""
             }
            },
            "type": "parcoords"
           }
          ],
          "pie": [
           {
            "automargin": true,
            "type": "pie"
           }
          ],
          "scatter": [
           {
            "fillpattern": {
             "fillmode": "overlay",
             "size": 10,
             "solidity": 0.2
            },
            "type": "scatter"
           }
          ],
          "scatter3d": [
           {
            "line": {
             "colorbar": {
              "outlinewidth": 0,
              "ticks": ""
             }
            },
            "marker": {
             "colorbar": {
              "outlinewidth": 0,
              "ticks": ""
             }
            },
            "type": "scatter3d"
           }
          ],
          "scattercarpet": [
           {
            "marker": {
             "colorbar": {
              "outlinewidth": 0,
              "ticks": ""
             }
            },
            "type": "scattercarpet"
           }
          ],
          "scattergeo": [
           {
            "marker": {
             "colorbar": {
              "outlinewidth": 0,
              "ticks": ""
             }
            },
            "type": "scattergeo"
           }
          ],
          "scattergl": [
           {
            "marker": {
             "colorbar": {
              "outlinewidth": 0,
              "ticks": ""
             }
            },
            "type": "scattergl"
           }
          ],
          "scattermapbox": [
           {
            "marker": {
             "colorbar": {
              "outlinewidth": 0,
              "ticks": ""
             }
            },
            "type": "scattermapbox"
           }
          ],
          "scatterpolar": [
           {
            "marker": {
             "colorbar": {
              "outlinewidth": 0,
              "ticks": ""
             }
            },
            "type": "scatterpolar"
           }
          ],
          "scatterpolargl": [
           {
            "marker": {
             "colorbar": {
              "outlinewidth": 0,
              "ticks": ""
             }
            },
            "type": "scatterpolargl"
           }
          ],
          "scatterternary": [
           {
            "marker": {
             "colorbar": {
              "outlinewidth": 0,
              "ticks": ""
             }
            },
            "type": "scatterternary"
           }
          ],
          "surface": [
           {
            "colorbar": {
             "outlinewidth": 0,
             "ticks": ""
            },
            "colorscale": [
             [
              0,
              "#0d0887"
             ],
             [
              0.1111111111111111,
              "#46039f"
             ],
             [
              0.2222222222222222,
              "#7201a8"
             ],
             [
              0.3333333333333333,
              "#9c179e"
             ],
             [
              0.4444444444444444,
              "#bd3786"
             ],
             [
              0.5555555555555556,
              "#d8576b"
             ],
             [
              0.6666666666666666,
              "#ed7953"
             ],
             [
              0.7777777777777778,
              "#fb9f3a"
             ],
             [
              0.8888888888888888,
              "#fdca26"
             ],
             [
              1,
              "#f0f921"
             ]
            ],
            "type": "surface"
           }
          ],
          "table": [
           {
            "cells": {
             "fill": {
              "color": "#EBF0F8"
             },
             "line": {
              "color": "white"
             }
            },
            "header": {
             "fill": {
              "color": "#C8D4E3"
             },
             "line": {
              "color": "white"
             }
            },
            "type": "table"
           }
          ]
         },
         "layout": {
          "annotationdefaults": {
           "arrowcolor": "#2a3f5f",
           "arrowhead": 0,
           "arrowwidth": 1
          },
          "autotypenumbers": "strict",
          "coloraxis": {
           "colorbar": {
            "outlinewidth": 0,
            "ticks": ""
           }
          },
          "colorscale": {
           "diverging": [
            [
             0,
             "#8e0152"
            ],
            [
             0.1,
             "#c51b7d"
            ],
            [
             0.2,
             "#de77ae"
            ],
            [
             0.3,
             "#f1b6da"
            ],
            [
             0.4,
             "#fde0ef"
            ],
            [
             0.5,
             "#f7f7f7"
            ],
            [
             0.6,
             "#e6f5d0"
            ],
            [
             0.7,
             "#b8e186"
            ],
            [
             0.8,
             "#7fbc41"
            ],
            [
             0.9,
             "#4d9221"
            ],
            [
             1,
             "#276419"
            ]
           ],
           "sequential": [
            [
             0,
             "#0d0887"
            ],
            [
             0.1111111111111111,
             "#46039f"
            ],
            [
             0.2222222222222222,
             "#7201a8"
            ],
            [
             0.3333333333333333,
             "#9c179e"
            ],
            [
             0.4444444444444444,
             "#bd3786"
            ],
            [
             0.5555555555555556,
             "#d8576b"
            ],
            [
             0.6666666666666666,
             "#ed7953"
            ],
            [
             0.7777777777777778,
             "#fb9f3a"
            ],
            [
             0.8888888888888888,
             "#fdca26"
            ],
            [
             1,
             "#f0f921"
            ]
           ],
           "sequentialminus": [
            [
             0,
             "#0d0887"
            ],
            [
             0.1111111111111111,
             "#46039f"
            ],
            [
             0.2222222222222222,
             "#7201a8"
            ],
            [
             0.3333333333333333,
             "#9c179e"
            ],
            [
             0.4444444444444444,
             "#bd3786"
            ],
            [
             0.5555555555555556,
             "#d8576b"
            ],
            [
             0.6666666666666666,
             "#ed7953"
            ],
            [
             0.7777777777777778,
             "#fb9f3a"
            ],
            [
             0.8888888888888888,
             "#fdca26"
            ],
            [
             1,
             "#f0f921"
            ]
           ]
          },
          "colorway": [
           "#636efa",
           "#EF553B",
           "#00cc96",
           "#ab63fa",
           "#FFA15A",
           "#19d3f3",
           "#FF6692",
           "#B6E880",
           "#FF97FF",
           "#FECB52"
          ],
          "font": {
           "color": "#2a3f5f"
          },
          "geo": {
           "bgcolor": "white",
           "lakecolor": "white",
           "landcolor": "white",
           "showlakes": true,
           "showland": true,
           "subunitcolor": "#C8D4E3"
          },
          "hoverlabel": {
           "align": "left"
          },
          "hovermode": "closest",
          "mapbox": {
           "style": "light"
          },
          "paper_bgcolor": "white",
          "plot_bgcolor": "white",
          "polar": {
           "angularaxis": {
            "gridcolor": "#EBF0F8",
            "linecolor": "#EBF0F8",
            "ticks": ""
           },
           "bgcolor": "white",
           "radialaxis": {
            "gridcolor": "#EBF0F8",
            "linecolor": "#EBF0F8",
            "ticks": ""
           }
          },
          "scene": {
           "xaxis": {
            "backgroundcolor": "white",
            "gridcolor": "#DFE8F3",
            "gridwidth": 2,
            "linecolor": "#EBF0F8",
            "showbackground": true,
            "ticks": "",
            "zerolinecolor": "#EBF0F8"
           },
           "yaxis": {
            "backgroundcolor": "white",
            "gridcolor": "#DFE8F3",
            "gridwidth": 2,
            "linecolor": "#EBF0F8",
            "showbackground": true,
            "ticks": "",
            "zerolinecolor": "#EBF0F8"
           },
           "zaxis": {
            "backgroundcolor": "white",
            "gridcolor": "#DFE8F3",
            "gridwidth": 2,
            "linecolor": "#EBF0F8",
            "showbackground": true,
            "ticks": "",
            "zerolinecolor": "#EBF0F8"
           }
          },
          "shapedefaults": {
           "line": {
            "color": "#2a3f5f"
           }
          },
          "ternary": {
           "aaxis": {
            "gridcolor": "#DFE8F3",
            "linecolor": "#A2B1C6",
            "ticks": ""
           },
           "baxis": {
            "gridcolor": "#DFE8F3",
            "linecolor": "#A2B1C6",
            "ticks": ""
           },
           "bgcolor": "white",
           "caxis": {
            "gridcolor": "#DFE8F3",
            "linecolor": "#A2B1C6",
            "ticks": ""
           }
          },
          "title": {
           "x": 0.05
          },
          "xaxis": {
           "automargin": true,
           "gridcolor": "#EBF0F8",
           "linecolor": "#EBF0F8",
           "ticks": "",
           "title": {
            "standoff": 15
           },
           "zerolinecolor": "#EBF0F8",
           "zerolinewidth": 2
          },
          "yaxis": {
           "automargin": true,
           "gridcolor": "#EBF0F8",
           "linecolor": "#EBF0F8",
           "ticks": "",
           "title": {
            "standoff": 15
           },
           "zerolinecolor": "#EBF0F8",
           "zerolinewidth": 2
          }
         }
        },
        "title": {
         "text": "Proper Sine Curver and Curve with Noise"
        },
        "xaxis": {
         "title": {
          "text": "x (radians)"
         }
        },
        "yaxis": {
         "title": {
          "text": "y"
         }
        }
       }
      }
     },
     "metadata": {},
     "output_type": "display_data"
    }
   ],
   "source": [
    "x = np.array([i * np.pi/180 for i in range(60, 300, 4)])    # defining angles from 60 to 300 converting them to radians\n",
    "np.random.seed(10)                      \n",
    "                    \n",
    "y_proper = np.sin(x)\n",
    "y_noise = np.sin(x) + np.random.normal(0, 0.15, len(x))     \n",
    "\n",
    "data = pd.DataFrame({'x' : x, 'y_noise' : y_noise, 'y_proper' : y_proper})\n",
    "fig = go.Figure()\n",
    "\n",
    "fig.add_traces(go.Scatter(x = data['x'], y = data['y_proper'], mode='markers', name='Sine Curve'))\n",
    "fig.add_traces(go.Scatter(x = data['x'], y = data['y_noise'], mode='markers', name='Sine Curve with noise'))\n",
    "\n",
    "fig.update_layout(\n",
    "    title = 'Proper Sine Curver and Curve with Noise',\n",
    "    xaxis_title='x (radians)',\n",
    "    yaxis_title='y',\n",
    "    legend=dict(title='Legend'),\n",
    "    template='plotly_white'\n",
    ")\n",
    "\n",
    "fig.show()"
   ]
  },
  {
   "cell_type": "code",
   "execution_count": 3,
   "metadata": {},
   "outputs": [
    {
     "data": {
      "text/html": [
       "<div>\n",
       "<style scoped>\n",
       "    .dataframe tbody tr th:only-of-type {\n",
       "        vertical-align: middle;\n",
       "    }\n",
       "\n",
       "    .dataframe tbody tr th {\n",
       "        vertical-align: top;\n",
       "    }\n",
       "\n",
       "    .dataframe thead th {\n",
       "        text-align: right;\n",
       "    }\n",
       "</style>\n",
       "<table border=\"1\" class=\"dataframe\">\n",
       "  <thead>\n",
       "    <tr style=\"text-align: right;\">\n",
       "      <th></th>\n",
       "      <th>x</th>\n",
       "      <th>y_noise</th>\n",
       "      <th>y_proper</th>\n",
       "      <th>x_2</th>\n",
       "      <th>x_3</th>\n",
       "      <th>x_4</th>\n",
       "      <th>x_5</th>\n",
       "      <th>x_6</th>\n",
       "      <th>x_7</th>\n",
       "      <th>x_8</th>\n",
       "      <th>x_9</th>\n",
       "      <th>x_10</th>\n",
       "      <th>x_11</th>\n",
       "      <th>x_12</th>\n",
       "      <th>x_13</th>\n",
       "      <th>x_14</th>\n",
       "      <th>x_15</th>\n",
       "    </tr>\n",
       "  </thead>\n",
       "  <tbody>\n",
       "    <tr>\n",
       "      <th>0</th>\n",
       "      <td>1.047198</td>\n",
       "      <td>1.065763</td>\n",
       "      <td>0.866025</td>\n",
       "      <td>1.096623</td>\n",
       "      <td>1.148381</td>\n",
       "      <td>1.202581</td>\n",
       "      <td>1.259340</td>\n",
       "      <td>1.318778</td>\n",
       "      <td>1.381021</td>\n",
       "      <td>1.446202</td>\n",
       "      <td>1.514459</td>\n",
       "      <td>1.585938</td>\n",
       "      <td>1.660790</td>\n",
       "      <td>1.739176</td>\n",
       "      <td>1.821260</td>\n",
       "      <td>1.907219</td>\n",
       "      <td>1.997235</td>\n",
       "    </tr>\n",
       "    <tr>\n",
       "      <th>1</th>\n",
       "      <td>1.117011</td>\n",
       "      <td>1.006086</td>\n",
       "      <td>0.898794</td>\n",
       "      <td>1.247713</td>\n",
       "      <td>1.393709</td>\n",
       "      <td>1.556788</td>\n",
       "      <td>1.738948</td>\n",
       "      <td>1.942424</td>\n",
       "      <td>2.169709</td>\n",
       "      <td>2.423588</td>\n",
       "      <td>2.707173</td>\n",
       "      <td>3.023942</td>\n",
       "      <td>3.377775</td>\n",
       "      <td>3.773011</td>\n",
       "      <td>4.214494</td>\n",
       "      <td>4.707635</td>\n",
       "      <td>5.258479</td>\n",
       "    </tr>\n",
       "    <tr>\n",
       "      <th>2</th>\n",
       "      <td>1.186824</td>\n",
       "      <td>0.695374</td>\n",
       "      <td>0.927184</td>\n",
       "      <td>1.408551</td>\n",
       "      <td>1.671702</td>\n",
       "      <td>1.984016</td>\n",
       "      <td>2.354677</td>\n",
       "      <td>2.794587</td>\n",
       "      <td>3.316683</td>\n",
       "      <td>3.936319</td>\n",
       "      <td>4.671717</td>\n",
       "      <td>5.544505</td>\n",
       "      <td>6.580351</td>\n",
       "      <td>7.809718</td>\n",
       "      <td>9.268760</td>\n",
       "      <td>11.000386</td>\n",
       "      <td>13.055521</td>\n",
       "    </tr>\n",
       "    <tr>\n",
       "      <th>3</th>\n",
       "      <td>1.256637</td>\n",
       "      <td>0.949799</td>\n",
       "      <td>0.951057</td>\n",
       "      <td>1.579137</td>\n",
       "      <td>1.984402</td>\n",
       "      <td>2.493673</td>\n",
       "      <td>3.133642</td>\n",
       "      <td>3.937850</td>\n",
       "      <td>4.948448</td>\n",
       "      <td>6.218404</td>\n",
       "      <td>7.814277</td>\n",
       "      <td>9.819710</td>\n",
       "      <td>12.339811</td>\n",
       "      <td>15.506664</td>\n",
       "      <td>19.486248</td>\n",
       "      <td>24.487142</td>\n",
       "      <td>30.771450</td>\n",
       "    </tr>\n",
       "    <tr>\n",
       "      <th>4</th>\n",
       "      <td>1.326450</td>\n",
       "      <td>1.063496</td>\n",
       "      <td>0.970296</td>\n",
       "      <td>1.759470</td>\n",
       "      <td>2.333850</td>\n",
       "      <td>3.095735</td>\n",
       "      <td>4.106339</td>\n",
       "      <td>5.446854</td>\n",
       "      <td>7.224981</td>\n",
       "      <td>9.583578</td>\n",
       "      <td>12.712139</td>\n",
       "      <td>16.862020</td>\n",
       "      <td>22.366630</td>\n",
       "      <td>29.668222</td>\n",
       "      <td>39.353420</td>\n",
       "      <td>52.200353</td>\n",
       "      <td>69.241170</td>\n",
       "    </tr>\n",
       "  </tbody>\n",
       "</table>\n",
       "</div>"
      ],
      "text/plain": [
       "          x   y_noise  y_proper       x_2       x_3       x_4       x_5  \\\n",
       "0  1.047198  1.065763  0.866025  1.096623  1.148381  1.202581  1.259340   \n",
       "1  1.117011  1.006086  0.898794  1.247713  1.393709  1.556788  1.738948   \n",
       "2  1.186824  0.695374  0.927184  1.408551  1.671702  1.984016  2.354677   \n",
       "3  1.256637  0.949799  0.951057  1.579137  1.984402  2.493673  3.133642   \n",
       "4  1.326450  1.063496  0.970296  1.759470  2.333850  3.095735  4.106339   \n",
       "\n",
       "        x_6       x_7       x_8        x_9       x_10       x_11       x_12  \\\n",
       "0  1.318778  1.381021  1.446202   1.514459   1.585938   1.660790   1.739176   \n",
       "1  1.942424  2.169709  2.423588   2.707173   3.023942   3.377775   3.773011   \n",
       "2  2.794587  3.316683  3.936319   4.671717   5.544505   6.580351   7.809718   \n",
       "3  3.937850  4.948448  6.218404   7.814277   9.819710  12.339811  15.506664   \n",
       "4  5.446854  7.224981  9.583578  12.712139  16.862020  22.366630  29.668222   \n",
       "\n",
       "        x_13       x_14       x_15  \n",
       "0   1.821260   1.907219   1.997235  \n",
       "1   4.214494   4.707635   5.258479  \n",
       "2   9.268760  11.000386  13.055521  \n",
       "3  19.486248  24.487142  30.771450  \n",
       "4  39.353420  52.200353  69.241170  "
      ]
     },
     "execution_count": 3,
     "metadata": {},
     "output_type": "execute_result"
    }
   ],
   "source": [
    "for i in range(2,16):\n",
    "    colname = 'x_%d'%i\n",
    "    data[colname] = data['x']**i\n",
    "data.head()"
   ]
  },
  {
   "cell_type": "markdown",
   "metadata": {},
   "source": [
    "### why we see nonlinear curves\n",
    "\n",
    "we will obtain nonlinear curves in the plot. the reason for it is explained below.\n",
    "\n",
    "### the core issue - polynomial features in linear regression\n",
    "\n",
    "the basic line of y = mx + c will plot a straight line. but in the code, we are adding polynomial features like x^2, x^3, ..., x^15 to the model. this turns it into polynomial regression.\n",
    "\n",
    "polynomial curves can wiggle and bend to fit the data. the equation becomes:\n",
    "\n",
    "y = b0 + b1x + b2x^2 + b3x^3 + ... + bnx^n\n",
    "\n",
    "where n is the power. even though the regression is linear in coefficients (b0, b1, b2, ...), the relationship between x and y is nonlinear because of the polynomial terms.\n",
    "\n",
    "### higher-order polynomials\n",
    "\n",
    "as power increases, the model gains more flexibility to fit the data.\n",
    "\n",
    "### examples to imagine:\n",
    "\n",
    "- power = 1:  \n",
    "  y = 0.5x + 0.1  \n",
    "  this is a straight line. it’s a poor fit to sin(x).\n",
    "\n",
    "- power = 3:  \n",
    "  y = 0.1 + 0.8x - 0.2x^2 + 0.05x^3  \n",
    "  this is a cubic curve. it starts to resemble a sine wave.\n",
    "\n",
    "- power = 15:  \n",
    "  a high-degree polynomial with many terms. it wiggles to match sin(x) + noise.\n",
    "\n",
    "when you plot these against x, only the power = 1 case is a straight line. the rest are curves because they’re polynomials of degree greater than 1."
   ]
  },
  {
   "cell_type": "code",
   "execution_count": 4,
   "metadata": {},
   "outputs": [
    {
     "data": {
      "application/vnd.plotly.v1+json": {
       "config": {
        "plotlyServerURL": "https://plot.ly"
       },
       "data": [
        {
         "mode": "lines",
         "name": "Predicted (Power 1)",
         "showlegend": false,
         "type": "scatter",
         "x": [
          1.0471975511965976,
          1.117010721276371,
          1.1868238913561442,
          1.2566370614359172,
          1.3264502315156903,
          1.3962634015954636,
          1.4660765716752369,
          1.53588974175501,
          1.605702911834783,
          1.6755160819145563,
          1.7453292519943295,
          1.8151424220741028,
          1.8849555921538759,
          1.9547687622336491,
          2.0245819323134224,
          2.0943951023931953,
          2.1642082724729685,
          2.234021442552742,
          2.303834612632515,
          2.3736477827122884,
          2.443460952792061,
          2.5132741228718345,
          2.5830872929516078,
          2.6529004630313806,
          2.722713633111154,
          2.792526803190927,
          2.8623399732707,
          2.9321531433504737,
          3.0019663134302466,
          3.07177948351002,
          3.141592653589793,
          3.211405823669566,
          3.2812189937493397,
          3.3510321638291125,
          3.420845333908886,
          3.490658503988659,
          3.560471674068432,
          3.6302848441482056,
          3.7000980142279785,
          3.7699111843077517,
          3.839724354387525,
          3.9095375244672983,
          3.979350694547071,
          4.049163864626845,
          4.118977034706617,
          4.1887902047863905,
          4.258603374866164,
          4.328416544945937,
          4.39822971502571,
          4.468042885105484,
          4.537856055185257,
          4.60766922526503,
          4.677482395344803,
          4.747295565424577,
          4.817108735504349,
          4.886921905584122,
          4.956735075663896,
          5.026548245743669,
          5.096361415823442,
          5.1661745859032155
         ],
         "xaxis": "x",
         "y": [
          1.3140387181651751,
          1.2707842530354756,
          1.227529787905776,
          1.1842753227760763,
          1.1410208576463767,
          1.097766392516677,
          1.0545119273869774,
          1.0112574622572776,
          0.9680029971275782,
          0.9247485319978785,
          0.8814940668681788,
          0.8382396017384789,
          0.7949851366087795,
          0.7517306714790797,
          0.7084762063493799,
          0.6652217412196805,
          0.6219672760899807,
          0.578712810960281,
          0.5354583458305813,
          0.49220388070088145,
          0.44894941557118195,
          0.40569495044148224,
          0.3624404853117825,
          0.3191860201820831,
          0.2759315550523833,
          0.23267708992268366,
          0.1894226247929842,
          0.14616815966328414,
          0.1029136945335847,
          0.05965922940388496,
          0.01640476427418523,
          -0.026849700855514226,
          -0.07010416598521424,
          -0.1133586311149137,
          -0.15661309624461345,
          -0.19986756137431314,
          -0.24312202650401263,
          -0.28637649163371265,
          -0.3296309567634121,
          -0.3728854218931118,
          -0.4161398870228116,
          -0.45939435215251134,
          -0.5026488172822108,
          -0.5459032824119108,
          -0.5891577475416099,
          -0.6324122126713096,
          -0.6756666778010094,
          -0.7189211429307092,
          -0.7621756080604088,
          -0.8054300731901086,
          -0.8486845383198083,
          -0.891939003449508,
          -0.9351934685792072,
          -0.9784479337089075,
          -1.021702398838607,
          -1.0649568639683065,
          -1.1082113290980062,
          -1.151465794227706,
          -1.1947202593574058,
          -1.2379747244871055
         ],
         "yaxis": "y"
        },
        {
         "mode": "markers",
         "name": "Actual (Power 1)",
         "showlegend": false,
         "type": "scatter",
         "x": [
          1.0471975511965976,
          1.117010721276371,
          1.1868238913561442,
          1.2566370614359172,
          1.3264502315156903,
          1.3962634015954636,
          1.4660765716752369,
          1.53588974175501,
          1.605702911834783,
          1.6755160819145563,
          1.7453292519943295,
          1.8151424220741028,
          1.8849555921538759,
          1.9547687622336491,
          2.0245819323134224,
          2.0943951023931953,
          2.1642082724729685,
          2.234021442552742,
          2.303834612632515,
          2.3736477827122884,
          2.443460952792061,
          2.5132741228718345,
          2.5830872929516078,
          2.6529004630313806,
          2.722713633111154,
          2.792526803190927,
          2.8623399732707,
          2.9321531433504737,
          3.0019663134302466,
          3.07177948351002,
          3.141592653589793,
          3.211405823669566,
          3.2812189937493397,
          3.3510321638291125,
          3.420845333908886,
          3.490658503988659,
          3.560471674068432,
          3.6302848441482056,
          3.7000980142279785,
          3.7699111843077517,
          3.839724354387525,
          3.9095375244672983,
          3.979350694547071,
          4.049163864626845,
          4.118977034706617,
          4.1887902047863905,
          4.258603374866164,
          4.328416544945937,
          4.39822971502571,
          4.468042885105484,
          4.537856055185257,
          4.60766922526503,
          4.677482395344803,
          4.747295565424577,
          4.817108735504349,
          4.886921905584122,
          4.956735075663896,
          5.026548245743669,
          5.096361415823442,
          5.1661745859032155
         ],
         "xaxis": "x",
         "y": [
          1.0657633794038663,
          1.0060858924589278,
          0.6953738107500972,
          0.9497989388058752,
          1.0634961223595685,
          0.8767949189043736,
          1.0343486332220913,
          1.015673105876341,
          1.0000345416592007,
          0.9683318637793322,
          1.0497616815052477,
          1.1507513323478282,
          0.8062966657176391,
          1.081424966264193,
          0.9330885658178659,
          0.9327960457089909,
          0.6585472407803852,
          0.8082812853740173,
          0.9658253757528816,
          0.5326876375912057,
          0.3461283675878534,
          0.32627940790763715,
          0.5698297888332875,
          0.8272166623925556,
          0.575290331087214,
          0.592913475321843,
          0.2905097381922862,
          0.4176111473817956,
          0.09848590276519861,
          0.1617371014730714,
          -0.04009757830103517,
          -0.15215282585994666,
          -0.11926685659607285,
          -0.27933299305685966,
          -0.07936639368747736,
          -0.31276815144070474,
          -0.34670514483794757,
          -0.5201164133487205,
          -0.34144842466993147,
          -0.6975806775926542,
          -0.5437528770025923,
          -0.747289154174978,
          -0.8840598294417767,
          -0.8614113361394199,
          -0.9497262438955346,
          -0.8979300495910152,
          -0.949665083208682,
          -0.880358364119804,
          -0.8662836158466595,
          -0.9924087649350495,
          -0.988693553534636,
          -0.9511577647976832,
          -1.0803726877190007,
          -0.8931668240301053,
          -0.868188184610875,
          -0.9542706334130864,
          -0.6110901765433163,
          -0.8134376756685893,
          -0.9440247252459114,
          -0.9531211133705031
         ],
         "yaxis": "y"
        },
        {
         "mode": "lines",
         "name": "Predicted (Power 3)",
         "showlegend": false,
         "type": "scatter",
         "x": [
          1.0471975511965976,
          1.117010721276371,
          1.1868238913561442,
          1.2566370614359172,
          1.3264502315156903,
          1.3962634015954636,
          1.4660765716752369,
          1.53588974175501,
          1.605702911834783,
          1.6755160819145563,
          1.7453292519943295,
          1.8151424220741028,
          1.8849555921538759,
          1.9547687622336491,
          2.0245819323134224,
          2.0943951023931953,
          2.1642082724729685,
          2.234021442552742,
          2.303834612632515,
          2.3736477827122884,
          2.443460952792061,
          2.5132741228718345,
          2.5830872929516078,
          2.6529004630313806,
          2.722713633111154,
          2.792526803190927,
          2.8623399732707,
          2.9321531433504737,
          3.0019663134302466,
          3.07177948351002,
          3.141592653589793,
          3.211405823669566,
          3.2812189937493397,
          3.3510321638291125,
          3.420845333908886,
          3.490658503988659,
          3.560471674068432,
          3.6302848441482056,
          3.7000980142279785,
          3.7699111843077517,
          3.839724354387525,
          3.9095375244672983,
          3.979350694547071,
          4.049163864626845,
          4.118977034706617,
          4.1887902047863905,
          4.258603374866164,
          4.328416544945937,
          4.39822971502571,
          4.468042885105484,
          4.537856055185257,
          4.60766922526503,
          4.677482395344803,
          4.747295565424577,
          4.817108735504349,
          4.886921905584122,
          4.956735075663896,
          5.026548245743669,
          5.096361415823442,
          5.1661745859032155
         ],
         "xaxis": "x2",
         "y": [
          0.8418766482754513,
          0.8929707004589692,
          0.9360183862906998,
          0.9712999963673142,
          0.9990958212854891,
          1.0196861516418843,
          1.0333512780331733,
          1.0403714910560293,
          1.0410270813071139,
          1.035598339383107,
          1.0243655558806737,
          1.00760902139648,
          0.9856090265272012,
          0.9586458618695045,
          0.926999818020061,
          0.8909511855755393,
          0.8507802551326106,
          0.8067673172879425,
          0.7591926626382063,
          0.7083365817800723,
          0.6544793653102087,
          0.5979013038252857,
          0.5388826879219734,
          0.47770380819694286,
          0.4146449552468627,
          0.3499864196684019,
          0.28400849205823037,
          0.2169914630130211,
          0.14921562312943873,
          0.08096126300415488,
          0.012508673233842117,
          -0.05586185558483366,
          -0.12387003285519824,
          -0.19123556798058658,
          -0.25767817036432566,
          -0.32291754940974776,
          -0.38667341452018145,
          -0.44866547509895643,
          -0.5086134405494053,
          -0.566237020274858,
          -0.6212559236786451,
          -0.6733898601640912,
          -0.722358539134535,
          -0.7678816699933008,
          -0.80967896214372,
          -0.8474701249891269,
          -0.8809748679328421,
          -0.9099129003782059,
          -0.9340039317285446,
          -0.9529676713871859,
          -0.9665238287574657,
          -0.9743921132427101,
          -0.9762922342462498,
          -0.971943901171416,
          -0.9610668234215395,
          -0.943380710399948,
          -0.918605271509973,
          -0.8864602161549405,
          -0.8466652537381963,
          -0.7989400936630487
         ],
         "yaxis": "y2"
        },
        {
         "mode": "markers",
         "name": "Actual (Power 3)",
         "showlegend": false,
         "type": "scatter",
         "x": [
          1.0471975511965976,
          1.117010721276371,
          1.1868238913561442,
          1.2566370614359172,
          1.3264502315156903,
          1.3962634015954636,
          1.4660765716752369,
          1.53588974175501,
          1.605702911834783,
          1.6755160819145563,
          1.7453292519943295,
          1.8151424220741028,
          1.8849555921538759,
          1.9547687622336491,
          2.0245819323134224,
          2.0943951023931953,
          2.1642082724729685,
          2.234021442552742,
          2.303834612632515,
          2.3736477827122884,
          2.443460952792061,
          2.5132741228718345,
          2.5830872929516078,
          2.6529004630313806,
          2.722713633111154,
          2.792526803190927,
          2.8623399732707,
          2.9321531433504737,
          3.0019663134302466,
          3.07177948351002,
          3.141592653589793,
          3.211405823669566,
          3.2812189937493397,
          3.3510321638291125,
          3.420845333908886,
          3.490658503988659,
          3.560471674068432,
          3.6302848441482056,
          3.7000980142279785,
          3.7699111843077517,
          3.839724354387525,
          3.9095375244672983,
          3.979350694547071,
          4.049163864626845,
          4.118977034706617,
          4.1887902047863905,
          4.258603374866164,
          4.328416544945937,
          4.39822971502571,
          4.468042885105484,
          4.537856055185257,
          4.60766922526503,
          4.677482395344803,
          4.747295565424577,
          4.817108735504349,
          4.886921905584122,
          4.956735075663896,
          5.026548245743669,
          5.096361415823442,
          5.1661745859032155
         ],
         "xaxis": "x2",
         "y": [
          1.0657633794038663,
          1.0060858924589278,
          0.6953738107500972,
          0.9497989388058752,
          1.0634961223595685,
          0.8767949189043736,
          1.0343486332220913,
          1.015673105876341,
          1.0000345416592007,
          0.9683318637793322,
          1.0497616815052477,
          1.1507513323478282,
          0.8062966657176391,
          1.081424966264193,
          0.9330885658178659,
          0.9327960457089909,
          0.6585472407803852,
          0.8082812853740173,
          0.9658253757528816,
          0.5326876375912057,
          0.3461283675878534,
          0.32627940790763715,
          0.5698297888332875,
          0.8272166623925556,
          0.575290331087214,
          0.592913475321843,
          0.2905097381922862,
          0.4176111473817956,
          0.09848590276519861,
          0.1617371014730714,
          -0.04009757830103517,
          -0.15215282585994666,
          -0.11926685659607285,
          -0.27933299305685966,
          -0.07936639368747736,
          -0.31276815144070474,
          -0.34670514483794757,
          -0.5201164133487205,
          -0.34144842466993147,
          -0.6975806775926542,
          -0.5437528770025923,
          -0.747289154174978,
          -0.8840598294417767,
          -0.8614113361394199,
          -0.9497262438955346,
          -0.8979300495910152,
          -0.949665083208682,
          -0.880358364119804,
          -0.8662836158466595,
          -0.9924087649350495,
          -0.988693553534636,
          -0.9511577647976832,
          -1.0803726877190007,
          -0.8931668240301053,
          -0.868188184610875,
          -0.9542706334130864,
          -0.6110901765433163,
          -0.8134376756685893,
          -0.9440247252459114,
          -0.9531211133705031
         ],
         "yaxis": "y2"
        },
        {
         "mode": "lines",
         "name": "Predicted (Power 6)",
         "showlegend": false,
         "type": "scatter",
         "x": [
          1.0471975511965976,
          1.117010721276371,
          1.1868238913561442,
          1.2566370614359172,
          1.3264502315156903,
          1.3962634015954636,
          1.4660765716752369,
          1.53588974175501,
          1.605702911834783,
          1.6755160819145563,
          1.7453292519943295,
          1.8151424220741028,
          1.8849555921538759,
          1.9547687622336491,
          2.0245819323134224,
          2.0943951023931953,
          2.1642082724729685,
          2.234021442552742,
          2.303834612632515,
          2.3736477827122884,
          2.443460952792061,
          2.5132741228718345,
          2.5830872929516078,
          2.6529004630313806,
          2.722713633111154,
          2.792526803190927,
          2.8623399732707,
          2.9321531433504737,
          3.0019663134302466,
          3.07177948351002,
          3.141592653589793,
          3.211405823669566,
          3.2812189937493397,
          3.3510321638291125,
          3.420845333908886,
          3.490658503988659,
          3.560471674068432,
          3.6302848441482056,
          3.7000980142279785,
          3.7699111843077517,
          3.839724354387525,
          3.9095375244672983,
          3.979350694547071,
          4.049163864626845,
          4.118977034706617,
          4.1887902047863905,
          4.258603374866164,
          4.328416544945937,
          4.39822971502571,
          4.468042885105484,
          4.537856055185257,
          4.60766922526503,
          4.677482395344803,
          4.747295565424577,
          4.817108735504349,
          4.886921905584122,
          4.956735075663896,
          5.026548245743669,
          5.096361415823442,
          5.1661745859032155
         ],
         "xaxis": "x3",
         "y": [
          0.9197896760408846,
          0.9512667959686418,
          0.9738498650729845,
          0.9890500874413626,
          0.998116637413083,
          1.0020631889703886,
          1.0016933103315104,
          0.9976247237465465,
          0.9903124304957978,
          0.9800707010903047,
          0.9670939306755522,
          0.9514763596371474,
          0.9332306594093247,
          0.9123053834853387,
          0.8886012836317356,
          0.8619864913035322,
          0.8323105642629891,
          0.7994173984004569,
          0.7631570047580774,
          0.7233961517553589,
          0.680027872618161,
          0.632979838009397,
          0.5822215938628184,
          0.5277706644187738,
          0.469697520463334,
          0.40812941276856596,
          0.343253070737098,
          0.27531626624753547,
          0.20462824270345625,
          0.13155900928453623,
          0.05653750040024552,
          -0.019951399653998392,
          -0.09737096683800028,
          -0.17513788230563487,
          -0.25262861214112386,
          -0.3291869218925363,
          -0.40413252590326176,
          -0.47677087144031627,
          -0.5464040576210276,
          -0.6123428891362941,
          -0.6739200647716792,
          -0.7305045007262911,
          -0.7815167887287593,
          -0.8264457889505799,
          -0.8648663577176101,
          -0.8964582100182887,
          -0.9210259168096193,
          -0.9385200371210451,
          -0.9490593849548723,
          -0.9529544309851381,
          -0.9507318390536816,
          -0.9431601374630325,
          -0.931276525068008,
          -0.9164148121632614,
          -0.9002344961698803,
          -0.8847509721185041,
          -0.8723668779304965,
          -0.865904574495098,
          -0.8686397605472187,
          -0.8843362223381994
         ],
         "yaxis": "y3"
        },
        {
         "mode": "markers",
         "name": "Actual (Power 6)",
         "showlegend": false,
         "type": "scatter",
         "x": [
          1.0471975511965976,
          1.117010721276371,
          1.1868238913561442,
          1.2566370614359172,
          1.3264502315156903,
          1.3962634015954636,
          1.4660765716752369,
          1.53588974175501,
          1.605702911834783,
          1.6755160819145563,
          1.7453292519943295,
          1.8151424220741028,
          1.8849555921538759,
          1.9547687622336491,
          2.0245819323134224,
          2.0943951023931953,
          2.1642082724729685,
          2.234021442552742,
          2.303834612632515,
          2.3736477827122884,
          2.443460952792061,
          2.5132741228718345,
          2.5830872929516078,
          2.6529004630313806,
          2.722713633111154,
          2.792526803190927,
          2.8623399732707,
          2.9321531433504737,
          3.0019663134302466,
          3.07177948351002,
          3.141592653589793,
          3.211405823669566,
          3.2812189937493397,
          3.3510321638291125,
          3.420845333908886,
          3.490658503988659,
          3.560471674068432,
          3.6302848441482056,
          3.7000980142279785,
          3.7699111843077517,
          3.839724354387525,
          3.9095375244672983,
          3.979350694547071,
          4.049163864626845,
          4.118977034706617,
          4.1887902047863905,
          4.258603374866164,
          4.328416544945937,
          4.39822971502571,
          4.468042885105484,
          4.537856055185257,
          4.60766922526503,
          4.677482395344803,
          4.747295565424577,
          4.817108735504349,
          4.886921905584122,
          4.956735075663896,
          5.026548245743669,
          5.096361415823442,
          5.1661745859032155
         ],
         "xaxis": "x3",
         "y": [
          1.0657633794038663,
          1.0060858924589278,
          0.6953738107500972,
          0.9497989388058752,
          1.0634961223595685,
          0.8767949189043736,
          1.0343486332220913,
          1.015673105876341,
          1.0000345416592007,
          0.9683318637793322,
          1.0497616815052477,
          1.1507513323478282,
          0.8062966657176391,
          1.081424966264193,
          0.9330885658178659,
          0.9327960457089909,
          0.6585472407803852,
          0.8082812853740173,
          0.9658253757528816,
          0.5326876375912057,
          0.3461283675878534,
          0.32627940790763715,
          0.5698297888332875,
          0.8272166623925556,
          0.575290331087214,
          0.592913475321843,
          0.2905097381922862,
          0.4176111473817956,
          0.09848590276519861,
          0.1617371014730714,
          -0.04009757830103517,
          -0.15215282585994666,
          -0.11926685659607285,
          -0.27933299305685966,
          -0.07936639368747736,
          -0.31276815144070474,
          -0.34670514483794757,
          -0.5201164133487205,
          -0.34144842466993147,
          -0.6975806775926542,
          -0.5437528770025923,
          -0.747289154174978,
          -0.8840598294417767,
          -0.8614113361394199,
          -0.9497262438955346,
          -0.8979300495910152,
          -0.949665083208682,
          -0.880358364119804,
          -0.8662836158466595,
          -0.9924087649350495,
          -0.988693553534636,
          -0.9511577647976832,
          -1.0803726877190007,
          -0.8931668240301053,
          -0.868188184610875,
          -0.9542706334130864,
          -0.6110901765433163,
          -0.8134376756685893,
          -0.9440247252459114,
          -0.9531211133705031
         ],
         "yaxis": "y3"
        },
        {
         "mode": "lines",
         "name": "Predicted (Power 9)",
         "showlegend": false,
         "type": "scatter",
         "x": [
          1.0471975511965976,
          1.117010721276371,
          1.1868238913561442,
          1.2566370614359172,
          1.3264502315156903,
          1.3962634015954636,
          1.4660765716752369,
          1.53588974175501,
          1.605702911834783,
          1.6755160819145563,
          1.7453292519943295,
          1.8151424220741028,
          1.8849555921538759,
          1.9547687622336491,
          2.0245819323134224,
          2.0943951023931953,
          2.1642082724729685,
          2.234021442552742,
          2.303834612632515,
          2.3736477827122884,
          2.443460952792061,
          2.5132741228718345,
          2.5830872929516078,
          2.6529004630313806,
          2.722713633111154,
          2.792526803190927,
          2.8623399732707,
          2.9321531433504737,
          3.0019663134302466,
          3.07177948351002,
          3.141592653589793,
          3.211405823669566,
          3.2812189937493397,
          3.3510321638291125,
          3.420845333908886,
          3.490658503988659,
          3.560471674068432,
          3.6302848441482056,
          3.7000980142279785,
          3.7699111843077517,
          3.839724354387525,
          3.9095375244672983,
          3.979350694547071,
          4.049163864626845,
          4.118977034706617,
          4.1887902047863905,
          4.258603374866164,
          4.328416544945937,
          4.39822971502571,
          4.468042885105484,
          4.537856055185257,
          4.60766922526503,
          4.677482395344803,
          4.747295565424577,
          4.817108735504349,
          4.886921905584122,
          4.956735075663896,
          5.026548245743669,
          5.096361415823442,
          5.1661745859032155
         ],
         "xaxis": "x4",
         "y": [
          1.082475397696227,
          0.9198357044146646,
          0.8682045753025263,
          0.8793663846958693,
          0.9199449666297836,
          0.9679803753719638,
          1.0100921464185844,
          1.0391576564865785,
          1.0524397566036454,
          1.050103215324681,
          1.0340646605222459,
          1.0071256488531175,
          0.9723432191144197,
          0.932596803124808,
          0.8903146700835818,
          0.8473271762108665,
          0.8048179694637396,
          0.7633479697883117,
          0.7229304023589533,
          0.6831384066294517,
          0.6432297783207572,
          0.6022762224051361,
          0.5592871063485758,
          0.5133201015073168,
          0.46357328498875305,
          0.4094552530600153,
          0.3506315550389003,
          0.28704731390230465,
          0.21892723341666298,
          0.14675532387305013,
          0.0712375915058614,
          -0.006748357536297218,
          -0.08621235616424072,
          -0.1661146352785623,
          -0.24542791069011272,
          -0.32319394885193886,
          -0.3985703175845161,
          -0.47086359423569646,
          -0.5395460817563149,
          -0.6042540743510914,
          -0.6647669151830529,
          -0.7209675027279887,
          -0.7727865285587983,
          -0.8201345654612611,
          -0.8628281746549875,
          -0.9005184618826421,
          -0.9326329840730965,
          -0.9583445932189976,
          -0.9765837006053049,
          -0.9861135518254274,
          -0.9856914228353604,
          -0.974342180832126,
          -0.9517743929477989,
          -0.9189731260171798,
          -0.879007743487408,
          -0.8380973860380878,
          -0.8069814136411411,
          -0.8026468875082615,
          -0.8504701845682108,
          -0.9868350661613918
         ],
         "yaxis": "y4"
        },
        {
         "mode": "markers",
         "name": "Actual (Power 9)",
         "showlegend": false,
         "type": "scatter",
         "x": [
          1.0471975511965976,
          1.117010721276371,
          1.1868238913561442,
          1.2566370614359172,
          1.3264502315156903,
          1.3962634015954636,
          1.4660765716752369,
          1.53588974175501,
          1.605702911834783,
          1.6755160819145563,
          1.7453292519943295,
          1.8151424220741028,
          1.8849555921538759,
          1.9547687622336491,
          2.0245819323134224,
          2.0943951023931953,
          2.1642082724729685,
          2.234021442552742,
          2.303834612632515,
          2.3736477827122884,
          2.443460952792061,
          2.5132741228718345,
          2.5830872929516078,
          2.6529004630313806,
          2.722713633111154,
          2.792526803190927,
          2.8623399732707,
          2.9321531433504737,
          3.0019663134302466,
          3.07177948351002,
          3.141592653589793,
          3.211405823669566,
          3.2812189937493397,
          3.3510321638291125,
          3.420845333908886,
          3.490658503988659,
          3.560471674068432,
          3.6302848441482056,
          3.7000980142279785,
          3.7699111843077517,
          3.839724354387525,
          3.9095375244672983,
          3.979350694547071,
          4.049163864626845,
          4.118977034706617,
          4.1887902047863905,
          4.258603374866164,
          4.328416544945937,
          4.39822971502571,
          4.468042885105484,
          4.537856055185257,
          4.60766922526503,
          4.677482395344803,
          4.747295565424577,
          4.817108735504349,
          4.886921905584122,
          4.956735075663896,
          5.026548245743669,
          5.096361415823442,
          5.1661745859032155
         ],
         "xaxis": "x4",
         "y": [
          1.0657633794038663,
          1.0060858924589278,
          0.6953738107500972,
          0.9497989388058752,
          1.0634961223595685,
          0.8767949189043736,
          1.0343486332220913,
          1.015673105876341,
          1.0000345416592007,
          0.9683318637793322,
          1.0497616815052477,
          1.1507513323478282,
          0.8062966657176391,
          1.081424966264193,
          0.9330885658178659,
          0.9327960457089909,
          0.6585472407803852,
          0.8082812853740173,
          0.9658253757528816,
          0.5326876375912057,
          0.3461283675878534,
          0.32627940790763715,
          0.5698297888332875,
          0.8272166623925556,
          0.575290331087214,
          0.592913475321843,
          0.2905097381922862,
          0.4176111473817956,
          0.09848590276519861,
          0.1617371014730714,
          -0.04009757830103517,
          -0.15215282585994666,
          -0.11926685659607285,
          -0.27933299305685966,
          -0.07936639368747736,
          -0.31276815144070474,
          -0.34670514483794757,
          -0.5201164133487205,
          -0.34144842466993147,
          -0.6975806775926542,
          -0.5437528770025923,
          -0.747289154174978,
          -0.8840598294417767,
          -0.8614113361394199,
          -0.9497262438955346,
          -0.8979300495910152,
          -0.949665083208682,
          -0.880358364119804,
          -0.8662836158466595,
          -0.9924087649350495,
          -0.988693553534636,
          -0.9511577647976832,
          -1.0803726877190007,
          -0.8931668240301053,
          -0.868188184610875,
          -0.9542706334130864,
          -0.6110901765433163,
          -0.8134376756685893,
          -0.9440247252459114,
          -0.9531211133705031
         ],
         "yaxis": "y4"
        },
        {
         "mode": "lines",
         "name": "Predicted (Power 12)",
         "showlegend": false,
         "type": "scatter",
         "x": [
          1.0471975511965976,
          1.117010721276371,
          1.1868238913561442,
          1.2566370614359172,
          1.3264502315156903,
          1.3962634015954636,
          1.4660765716752369,
          1.53588974175501,
          1.605702911834783,
          1.6755160819145563,
          1.7453292519943295,
          1.8151424220741028,
          1.8849555921538759,
          1.9547687622336491,
          2.0245819323134224,
          2.0943951023931953,
          2.1642082724729685,
          2.234021442552742,
          2.303834612632515,
          2.3736477827122884,
          2.443460952792061,
          2.5132741228718345,
          2.5830872929516078,
          2.6529004630313806,
          2.722713633111154,
          2.792526803190927,
          2.8623399732707,
          2.9321531433504737,
          3.0019663134302466,
          3.07177948351002,
          3.141592653589793,
          3.211405823669566,
          3.2812189937493397,
          3.3510321638291125,
          3.420845333908886,
          3.490658503988659,
          3.560471674068432,
          3.6302848441482056,
          3.7000980142279785,
          3.7699111843077517,
          3.839724354387525,
          3.9095375244672983,
          3.979350694547071,
          4.049163864626845,
          4.118977034706617,
          4.1887902047863905,
          4.258603374866164,
          4.328416544945937,
          4.39822971502571,
          4.468042885105484,
          4.537856055185257,
          4.60766922526503,
          4.677482395344803,
          4.747295565424577,
          4.817108735504349,
          4.886921905584122,
          4.956735075663896,
          5.026548245743669,
          5.096361415823442,
          5.1661745859032155
         ],
         "xaxis": "x5",
         "y": [
          1.0633524114747115,
          0.9435279977988967,
          0.8860240255963573,
          0.8795621072423229,
          0.9069988912452528,
          0.9508929074291655,
          0.9965700505782434,
          1.033458626690931,
          1.0552898564857014,
          1.0596141748611398,
          1.0469639658477672,
          1.0198961695205935,
          0.9820707662512133,
          0.9374605359990665,
          0.8897413917366931,
          0.841878498300589,
          0.7958996662419805,
          0.7528318263140091,
          0.7127675701413819,
          0.6750250173282394,
          0.6383645011593172,
          0.6012287920821974,
          0.561978432211704,
          0.5191000149135062,
          0.471371793049998,
          0.4179774670411417,
          0.3585651538815865,
          0.2932536470253536,
          0.2225924593877563,
          0.14748519738358945,
          0.0690878563110301,
          -0.011305549785815779,
          -0.09237780016692787,
          -0.172892602764391,
          -0.2517788295153013,
          -0.32818808466973215,
          -0.40152163817393094,
          -0.47142573390001863,
          -0.5377572184878817,
          -0.6005240254088721,
          -0.6598073971908024,
          -0.7156743171143761,
          -0.7680897149474776,
          -0.8168383544761172,
          -0.8614659986996275,
          -0.9012486055943599,
          -0.935197084814631,
          -0.9621038489493957,
          -0.9806363905298939,
          -0.9894829207550219,
          -0.9875564227330914,
          -0.9742667629833749,
          -0.9498773237209251,
          -0.9159730869795611,
          -0.8760834561179808,
          -0.8365259274359277,
          -0.8075682792331508,
          -0.8050481743629506,
          -0.8526433381702235,
          -0.9850530914481214
         ],
         "yaxis": "y5"
        },
        {
         "mode": "markers",
         "name": "Actual (Power 12)",
         "showlegend": false,
         "type": "scatter",
         "x": [
          1.0471975511965976,
          1.117010721276371,
          1.1868238913561442,
          1.2566370614359172,
          1.3264502315156903,
          1.3962634015954636,
          1.4660765716752369,
          1.53588974175501,
          1.605702911834783,
          1.6755160819145563,
          1.7453292519943295,
          1.8151424220741028,
          1.8849555921538759,
          1.9547687622336491,
          2.0245819323134224,
          2.0943951023931953,
          2.1642082724729685,
          2.234021442552742,
          2.303834612632515,
          2.3736477827122884,
          2.443460952792061,
          2.5132741228718345,
          2.5830872929516078,
          2.6529004630313806,
          2.722713633111154,
          2.792526803190927,
          2.8623399732707,
          2.9321531433504737,
          3.0019663134302466,
          3.07177948351002,
          3.141592653589793,
          3.211405823669566,
          3.2812189937493397,
          3.3510321638291125,
          3.420845333908886,
          3.490658503988659,
          3.560471674068432,
          3.6302848441482056,
          3.7000980142279785,
          3.7699111843077517,
          3.839724354387525,
          3.9095375244672983,
          3.979350694547071,
          4.049163864626845,
          4.118977034706617,
          4.1887902047863905,
          4.258603374866164,
          4.328416544945937,
          4.39822971502571,
          4.468042885105484,
          4.537856055185257,
          4.60766922526503,
          4.677482395344803,
          4.747295565424577,
          4.817108735504349,
          4.886921905584122,
          4.956735075663896,
          5.026548245743669,
          5.096361415823442,
          5.1661745859032155
         ],
         "xaxis": "x5",
         "y": [
          1.0657633794038663,
          1.0060858924589278,
          0.6953738107500972,
          0.9497989388058752,
          1.0634961223595685,
          0.8767949189043736,
          1.0343486332220913,
          1.015673105876341,
          1.0000345416592007,
          0.9683318637793322,
          1.0497616815052477,
          1.1507513323478282,
          0.8062966657176391,
          1.081424966264193,
          0.9330885658178659,
          0.9327960457089909,
          0.6585472407803852,
          0.8082812853740173,
          0.9658253757528816,
          0.5326876375912057,
          0.3461283675878534,
          0.32627940790763715,
          0.5698297888332875,
          0.8272166623925556,
          0.575290331087214,
          0.592913475321843,
          0.2905097381922862,
          0.4176111473817956,
          0.09848590276519861,
          0.1617371014730714,
          -0.04009757830103517,
          -0.15215282585994666,
          -0.11926685659607285,
          -0.27933299305685966,
          -0.07936639368747736,
          -0.31276815144070474,
          -0.34670514483794757,
          -0.5201164133487205,
          -0.34144842466993147,
          -0.6975806775926542,
          -0.5437528770025923,
          -0.747289154174978,
          -0.8840598294417767,
          -0.8614113361394199,
          -0.9497262438955346,
          -0.8979300495910152,
          -0.949665083208682,
          -0.880358364119804,
          -0.8662836158466595,
          -0.9924087649350495,
          -0.988693553534636,
          -0.9511577647976832,
          -1.0803726877190007,
          -0.8931668240301053,
          -0.868188184610875,
          -0.9542706334130864,
          -0.6110901765433163,
          -0.8134376756685893,
          -0.9440247252459114,
          -0.9531211133705031
         ],
         "yaxis": "y5"
        },
        {
         "mode": "lines",
         "name": "Predicted (Power 15)",
         "showlegend": false,
         "type": "scatter",
         "x": [
          1.0471975511965976,
          1.117010721276371,
          1.1868238913561442,
          1.2566370614359172,
          1.3264502315156903,
          1.3962634015954636,
          1.4660765716752369,
          1.53588974175501,
          1.605702911834783,
          1.6755160819145563,
          1.7453292519943295,
          1.8151424220741028,
          1.8849555921538759,
          1.9547687622336491,
          2.0245819323134224,
          2.0943951023931953,
          2.1642082724729685,
          2.234021442552742,
          2.303834612632515,
          2.3736477827122884,
          2.443460952792061,
          2.5132741228718345,
          2.5830872929516078,
          2.6529004630313806,
          2.722713633111154,
          2.792526803190927,
          2.8623399732707,
          2.9321531433504737,
          3.0019663134302466,
          3.07177948351002,
          3.141592653589793,
          3.211405823669566,
          3.2812189937493397,
          3.3510321638291125,
          3.420845333908886,
          3.490658503988659,
          3.560471674068432,
          3.6302848441482056,
          3.7000980142279785,
          3.7699111843077517,
          3.839724354387525,
          3.9095375244672983,
          3.979350694547071,
          4.049163864626845,
          4.118977034706617,
          4.1887902047863905,
          4.258603374866164,
          4.328416544945937,
          4.39822971502571,
          4.468042885105484,
          4.537856055185257,
          4.60766922526503,
          4.677482395344803,
          4.747295565424577,
          4.817108735504349,
          4.886921905584122,
          4.956735075663896,
          5.026548245743669,
          5.096361415823442,
          5.1661745859032155
         ],
         "xaxis": "x6",
         "y": [
          1.0850458034902069,
          0.9100597390561552,
          0.8545868137507887,
          0.8927665242581816,
          0.9532826283603163,
          0.9935193100600691,
          1.0062861928372833,
          1.0039995500474426,
          1.001792241039798,
          1.0074512550263854,
          1.0190765598445388,
          1.027858797612712,
          1.023168537917659,
          0.9972201624541731,
          0.9479736426501723,
          0.8796522358088942,
          0.8012843170791121,
          0.7239306905894728,
          0.6576619187026472,
          0.6090006420045347,
          0.5794201085000487,
          0.5652328917413206,
          0.5586037525563688,
          0.5495336988597365,
          0.528233546915576,
          0.48726623148016646,
          0.4231767395167799,
          0.33717446416907026,
          0.2347864845424147,
          0.12455375880293564,
          0.016178328695818936,
          -0.08162095755048081,
          -0.16302175432153032,
          -0.22634353846020983,
          -0.27437035351701067,
          -0.31365963428921984,
          -0.35291082769341753,
          -0.4007217249245195,
          -0.46328316241212175,
          -0.5424102207989244,
          -0.6346325463027506,
          -0.7315066343516855,
          -0.8214170074433832,
          -0.8925088530749826,
          -0.9361594802112131,
          -0.9501052907080202,
          -0.9401165655226259,
          -0.9192923920572548,
          -0.9044516313233225,
          -0.909957598742917,
          -0.9405191427440195,
          -0.985362153348401,
          -1.0180349907249955,
          -1.0050740054220704,
          -0.925779770907834,
          -0.7992812207312135,
          -0.7043375185102968,
          -0.7570813706488161,
          -0.9798946192831545,
          -0.9440015366644411
         ],
         "yaxis": "y6"
        },
        {
         "mode": "markers",
         "name": "Actual (Power 15)",
         "showlegend": false,
         "type": "scatter",
         "x": [
          1.0471975511965976,
          1.117010721276371,
          1.1868238913561442,
          1.2566370614359172,
          1.3264502315156903,
          1.3962634015954636,
          1.4660765716752369,
          1.53588974175501,
          1.605702911834783,
          1.6755160819145563,
          1.7453292519943295,
          1.8151424220741028,
          1.8849555921538759,
          1.9547687622336491,
          2.0245819323134224,
          2.0943951023931953,
          2.1642082724729685,
          2.234021442552742,
          2.303834612632515,
          2.3736477827122884,
          2.443460952792061,
          2.5132741228718345,
          2.5830872929516078,
          2.6529004630313806,
          2.722713633111154,
          2.792526803190927,
          2.8623399732707,
          2.9321531433504737,
          3.0019663134302466,
          3.07177948351002,
          3.141592653589793,
          3.211405823669566,
          3.2812189937493397,
          3.3510321638291125,
          3.420845333908886,
          3.490658503988659,
          3.560471674068432,
          3.6302848441482056,
          3.7000980142279785,
          3.7699111843077517,
          3.839724354387525,
          3.9095375244672983,
          3.979350694547071,
          4.049163864626845,
          4.118977034706617,
          4.1887902047863905,
          4.258603374866164,
          4.328416544945937,
          4.39822971502571,
          4.468042885105484,
          4.537856055185257,
          4.60766922526503,
          4.677482395344803,
          4.747295565424577,
          4.817108735504349,
          4.886921905584122,
          4.956735075663896,
          5.026548245743669,
          5.096361415823442,
          5.1661745859032155
         ],
         "xaxis": "x6",
         "y": [
          1.0657633794038663,
          1.0060858924589278,
          0.6953738107500972,
          0.9497989388058752,
          1.0634961223595685,
          0.8767949189043736,
          1.0343486332220913,
          1.015673105876341,
          1.0000345416592007,
          0.9683318637793322,
          1.0497616815052477,
          1.1507513323478282,
          0.8062966657176391,
          1.081424966264193,
          0.9330885658178659,
          0.9327960457089909,
          0.6585472407803852,
          0.8082812853740173,
          0.9658253757528816,
          0.5326876375912057,
          0.3461283675878534,
          0.32627940790763715,
          0.5698297888332875,
          0.8272166623925556,
          0.575290331087214,
          0.592913475321843,
          0.2905097381922862,
          0.4176111473817956,
          0.09848590276519861,
          0.1617371014730714,
          -0.04009757830103517,
          -0.15215282585994666,
          -0.11926685659607285,
          -0.27933299305685966,
          -0.07936639368747736,
          -0.31276815144070474,
          -0.34670514483794757,
          -0.5201164133487205,
          -0.34144842466993147,
          -0.6975806775926542,
          -0.5437528770025923,
          -0.747289154174978,
          -0.8840598294417767,
          -0.8614113361394199,
          -0.9497262438955346,
          -0.8979300495910152,
          -0.949665083208682,
          -0.880358364119804,
          -0.8662836158466595,
          -0.9924087649350495,
          -0.988693553534636,
          -0.9511577647976832,
          -1.0803726877190007,
          -0.8931668240301053,
          -0.868188184610875,
          -0.9542706334130864,
          -0.6110901765433163,
          -0.8134376756685893,
          -0.9440247252459114,
          -0.9531211133705031
         ],
         "yaxis": "y6"
        }
       ],
       "layout": {
        "annotations": [
         {
          "font": {
           "size": 16
          },
          "showarrow": false,
          "text": "Power: 1",
          "x": 0.225,
          "xanchor": "center",
          "xref": "paper",
          "y": 1,
          "yanchor": "bottom",
          "yref": "paper"
         },
         {
          "font": {
           "size": 16
          },
          "showarrow": false,
          "text": "Power: 3",
          "x": 0.775,
          "xanchor": "center",
          "xref": "paper",
          "y": 1,
          "yanchor": "bottom",
          "yref": "paper"
         },
         {
          "font": {
           "size": 16
          },
          "showarrow": false,
          "text": "Power: 6",
          "x": 0.225,
          "xanchor": "center",
          "xref": "paper",
          "y": 0.6111111111111112,
          "yanchor": "bottom",
          "yref": "paper"
         },
         {
          "font": {
           "size": 16
          },
          "showarrow": false,
          "text": "Power: 9",
          "x": 0.775,
          "xanchor": "center",
          "xref": "paper",
          "y": 0.6111111111111112,
          "yanchor": "bottom",
          "yref": "paper"
         },
         {
          "font": {
           "size": 16
          },
          "showarrow": false,
          "text": "Power: 12",
          "x": 0.225,
          "xanchor": "center",
          "xref": "paper",
          "y": 0.22222222222222224,
          "yanchor": "bottom",
          "yref": "paper"
         },
         {
          "font": {
           "size": 16
          },
          "showarrow": false,
          "text": "Power: 15",
          "x": 0.775,
          "xanchor": "center",
          "xref": "paper",
          "y": 0.22222222222222224,
          "yanchor": "bottom",
          "yref": "paper"
         }
        ],
        "height": 900,
        "template": {
         "data": {
          "bar": [
           {
            "error_x": {
             "color": "#2a3f5f"
            },
            "error_y": {
             "color": "#2a3f5f"
            },
            "marker": {
             "line": {
              "color": "white",
              "width": 0.5
             },
             "pattern": {
              "fillmode": "overlay",
              "size": 10,
              "solidity": 0.2
             }
            },
            "type": "bar"
           }
          ],
          "barpolar": [
           {
            "marker": {
             "line": {
              "color": "white",
              "width": 0.5
             },
             "pattern": {
              "fillmode": "overlay",
              "size": 10,
              "solidity": 0.2
             }
            },
            "type": "barpolar"
           }
          ],
          "carpet": [
           {
            "aaxis": {
             "endlinecolor": "#2a3f5f",
             "gridcolor": "#C8D4E3",
             "linecolor": "#C8D4E3",
             "minorgridcolor": "#C8D4E3",
             "startlinecolor": "#2a3f5f"
            },
            "baxis": {
             "endlinecolor": "#2a3f5f",
             "gridcolor": "#C8D4E3",
             "linecolor": "#C8D4E3",
             "minorgridcolor": "#C8D4E3",
             "startlinecolor": "#2a3f5f"
            },
            "type": "carpet"
           }
          ],
          "choropleth": [
           {
            "colorbar": {
             "outlinewidth": 0,
             "ticks": ""
            },
            "type": "choropleth"
           }
          ],
          "contour": [
           {
            "colorbar": {
             "outlinewidth": 0,
             "ticks": ""
            },
            "colorscale": [
             [
              0,
              "#0d0887"
             ],
             [
              0.1111111111111111,
              "#46039f"
             ],
             [
              0.2222222222222222,
              "#7201a8"
             ],
             [
              0.3333333333333333,
              "#9c179e"
             ],
             [
              0.4444444444444444,
              "#bd3786"
             ],
             [
              0.5555555555555556,
              "#d8576b"
             ],
             [
              0.6666666666666666,
              "#ed7953"
             ],
             [
              0.7777777777777778,
              "#fb9f3a"
             ],
             [
              0.8888888888888888,
              "#fdca26"
             ],
             [
              1,
              "#f0f921"
             ]
            ],
            "type": "contour"
           }
          ],
          "contourcarpet": [
           {
            "colorbar": {
             "outlinewidth": 0,
             "ticks": ""
            },
            "type": "contourcarpet"
           }
          ],
          "heatmap": [
           {
            "colorbar": {
             "outlinewidth": 0,
             "ticks": ""
            },
            "colorscale": [
             [
              0,
              "#0d0887"
             ],
             [
              0.1111111111111111,
              "#46039f"
             ],
             [
              0.2222222222222222,
              "#7201a8"
             ],
             [
              0.3333333333333333,
              "#9c179e"
             ],
             [
              0.4444444444444444,
              "#bd3786"
             ],
             [
              0.5555555555555556,
              "#d8576b"
             ],
             [
              0.6666666666666666,
              "#ed7953"
             ],
             [
              0.7777777777777778,
              "#fb9f3a"
             ],
             [
              0.8888888888888888,
              "#fdca26"
             ],
             [
              1,
              "#f0f921"
             ]
            ],
            "type": "heatmap"
           }
          ],
          "heatmapgl": [
           {
            "colorbar": {
             "outlinewidth": 0,
             "ticks": ""
            },
            "colorscale": [
             [
              0,
              "#0d0887"
             ],
             [
              0.1111111111111111,
              "#46039f"
             ],
             [
              0.2222222222222222,
              "#7201a8"
             ],
             [
              0.3333333333333333,
              "#9c179e"
             ],
             [
              0.4444444444444444,
              "#bd3786"
             ],
             [
              0.5555555555555556,
              "#d8576b"
             ],
             [
              0.6666666666666666,
              "#ed7953"
             ],
             [
              0.7777777777777778,
              "#fb9f3a"
             ],
             [
              0.8888888888888888,
              "#fdca26"
             ],
             [
              1,
              "#f0f921"
             ]
            ],
            "type": "heatmapgl"
           }
          ],
          "histogram": [
           {
            "marker": {
             "pattern": {
              "fillmode": "overlay",
              "size": 10,
              "solidity": 0.2
             }
            },
            "type": "histogram"
           }
          ],
          "histogram2d": [
           {
            "colorbar": {
             "outlinewidth": 0,
             "ticks": ""
            },
            "colorscale": [
             [
              0,
              "#0d0887"
             ],
             [
              0.1111111111111111,
              "#46039f"
             ],
             [
              0.2222222222222222,
              "#7201a8"
             ],
             [
              0.3333333333333333,
              "#9c179e"
             ],
             [
              0.4444444444444444,
              "#bd3786"
             ],
             [
              0.5555555555555556,
              "#d8576b"
             ],
             [
              0.6666666666666666,
              "#ed7953"
             ],
             [
              0.7777777777777778,
              "#fb9f3a"
             ],
             [
              0.8888888888888888,
              "#fdca26"
             ],
             [
              1,
              "#f0f921"
             ]
            ],
            "type": "histogram2d"
           }
          ],
          "histogram2dcontour": [
           {
            "colorbar": {
             "outlinewidth": 0,
             "ticks": ""
            },
            "colorscale": [
             [
              0,
              "#0d0887"
             ],
             [
              0.1111111111111111,
              "#46039f"
             ],
             [
              0.2222222222222222,
              "#7201a8"
             ],
             [
              0.3333333333333333,
              "#9c179e"
             ],
             [
              0.4444444444444444,
              "#bd3786"
             ],
             [
              0.5555555555555556,
              "#d8576b"
             ],
             [
              0.6666666666666666,
              "#ed7953"
             ],
             [
              0.7777777777777778,
              "#fb9f3a"
             ],
             [
              0.8888888888888888,
              "#fdca26"
             ],
             [
              1,
              "#f0f921"
             ]
            ],
            "type": "histogram2dcontour"
           }
          ],
          "mesh3d": [
           {
            "colorbar": {
             "outlinewidth": 0,
             "ticks": ""
            },
            "type": "mesh3d"
           }
          ],
          "parcoords": [
           {
            "line": {
             "colorbar": {
              "outlinewidth": 0,
              "ticks": ""
             }
            },
            "type": "parcoords"
           }
          ],
          "pie": [
           {
            "automargin": true,
            "type": "pie"
           }
          ],
          "scatter": [
           {
            "fillpattern": {
             "fillmode": "overlay",
             "size": 10,
             "solidity": 0.2
            },
            "type": "scatter"
           }
          ],
          "scatter3d": [
           {
            "line": {
             "colorbar": {
              "outlinewidth": 0,
              "ticks": ""
             }
            },
            "marker": {
             "colorbar": {
              "outlinewidth": 0,
              "ticks": ""
             }
            },
            "type": "scatter3d"
           }
          ],
          "scattercarpet": [
           {
            "marker": {
             "colorbar": {
              "outlinewidth": 0,
              "ticks": ""
             }
            },
            "type": "scattercarpet"
           }
          ],
          "scattergeo": [
           {
            "marker": {
             "colorbar": {
              "outlinewidth": 0,
              "ticks": ""
             }
            },
            "type": "scattergeo"
           }
          ],
          "scattergl": [
           {
            "marker": {
             "colorbar": {
              "outlinewidth": 0,
              "ticks": ""
             }
            },
            "type": "scattergl"
           }
          ],
          "scattermapbox": [
           {
            "marker": {
             "colorbar": {
              "outlinewidth": 0,
              "ticks": ""
             }
            },
            "type": "scattermapbox"
           }
          ],
          "scatterpolar": [
           {
            "marker": {
             "colorbar": {
              "outlinewidth": 0,
              "ticks": ""
             }
            },
            "type": "scatterpolar"
           }
          ],
          "scatterpolargl": [
           {
            "marker": {
             "colorbar": {
              "outlinewidth": 0,
              "ticks": ""
             }
            },
            "type": "scatterpolargl"
           }
          ],
          "scatterternary": [
           {
            "marker": {
             "colorbar": {
              "outlinewidth": 0,
              "ticks": ""
             }
            },
            "type": "scatterternary"
           }
          ],
          "surface": [
           {
            "colorbar": {
             "outlinewidth": 0,
             "ticks": ""
            },
            "colorscale": [
             [
              0,
              "#0d0887"
             ],
             [
              0.1111111111111111,
              "#46039f"
             ],
             [
              0.2222222222222222,
              "#7201a8"
             ],
             [
              0.3333333333333333,
              "#9c179e"
             ],
             [
              0.4444444444444444,
              "#bd3786"
             ],
             [
              0.5555555555555556,
              "#d8576b"
             ],
             [
              0.6666666666666666,
              "#ed7953"
             ],
             [
              0.7777777777777778,
              "#fb9f3a"
             ],
             [
              0.8888888888888888,
              "#fdca26"
             ],
             [
              1,
              "#f0f921"
             ]
            ],
            "type": "surface"
           }
          ],
          "table": [
           {
            "cells": {
             "fill": {
              "color": "#EBF0F8"
             },
             "line": {
              "color": "white"
             }
            },
            "header": {
             "fill": {
              "color": "#C8D4E3"
             },
             "line": {
              "color": "white"
             }
            },
            "type": "table"
           }
          ]
         },
         "layout": {
          "annotationdefaults": {
           "arrowcolor": "#2a3f5f",
           "arrowhead": 0,
           "arrowwidth": 1
          },
          "autotypenumbers": "strict",
          "coloraxis": {
           "colorbar": {
            "outlinewidth": 0,
            "ticks": ""
           }
          },
          "colorscale": {
           "diverging": [
            [
             0,
             "#8e0152"
            ],
            [
             0.1,
             "#c51b7d"
            ],
            [
             0.2,
             "#de77ae"
            ],
            [
             0.3,
             "#f1b6da"
            ],
            [
             0.4,
             "#fde0ef"
            ],
            [
             0.5,
             "#f7f7f7"
            ],
            [
             0.6,
             "#e6f5d0"
            ],
            [
             0.7,
             "#b8e186"
            ],
            [
             0.8,
             "#7fbc41"
            ],
            [
             0.9,
             "#4d9221"
            ],
            [
             1,
             "#276419"
            ]
           ],
           "sequential": [
            [
             0,
             "#0d0887"
            ],
            [
             0.1111111111111111,
             "#46039f"
            ],
            [
             0.2222222222222222,
             "#7201a8"
            ],
            [
             0.3333333333333333,
             "#9c179e"
            ],
            [
             0.4444444444444444,
             "#bd3786"
            ],
            [
             0.5555555555555556,
             "#d8576b"
            ],
            [
             0.6666666666666666,
             "#ed7953"
            ],
            [
             0.7777777777777778,
             "#fb9f3a"
            ],
            [
             0.8888888888888888,
             "#fdca26"
            ],
            [
             1,
             "#f0f921"
            ]
           ],
           "sequentialminus": [
            [
             0,
             "#0d0887"
            ],
            [
             0.1111111111111111,
             "#46039f"
            ],
            [
             0.2222222222222222,
             "#7201a8"
            ],
            [
             0.3333333333333333,
             "#9c179e"
            ],
            [
             0.4444444444444444,
             "#bd3786"
            ],
            [
             0.5555555555555556,
             "#d8576b"
            ],
            [
             0.6666666666666666,
             "#ed7953"
            ],
            [
             0.7777777777777778,
             "#fb9f3a"
            ],
            [
             0.8888888888888888,
             "#fdca26"
            ],
            [
             1,
             "#f0f921"
            ]
           ]
          },
          "colorway": [
           "#636efa",
           "#EF553B",
           "#00cc96",
           "#ab63fa",
           "#FFA15A",
           "#19d3f3",
           "#FF6692",
           "#B6E880",
           "#FF97FF",
           "#FECB52"
          ],
          "font": {
           "color": "#2a3f5f"
          },
          "geo": {
           "bgcolor": "white",
           "lakecolor": "white",
           "landcolor": "white",
           "showlakes": true,
           "showland": true,
           "subunitcolor": "#C8D4E3"
          },
          "hoverlabel": {
           "align": "left"
          },
          "hovermode": "closest",
          "mapbox": {
           "style": "light"
          },
          "paper_bgcolor": "white",
          "plot_bgcolor": "white",
          "polar": {
           "angularaxis": {
            "gridcolor": "#EBF0F8",
            "linecolor": "#EBF0F8",
            "ticks": ""
           },
           "bgcolor": "white",
           "radialaxis": {
            "gridcolor": "#EBF0F8",
            "linecolor": "#EBF0F8",
            "ticks": ""
           }
          },
          "scene": {
           "xaxis": {
            "backgroundcolor": "white",
            "gridcolor": "#DFE8F3",
            "gridwidth": 2,
            "linecolor": "#EBF0F8",
            "showbackground": true,
            "ticks": "",
            "zerolinecolor": "#EBF0F8"
           },
           "yaxis": {
            "backgroundcolor": "white",
            "gridcolor": "#DFE8F3",
            "gridwidth": 2,
            "linecolor": "#EBF0F8",
            "showbackground": true,
            "ticks": "",
            "zerolinecolor": "#EBF0F8"
           },
           "zaxis": {
            "backgroundcolor": "white",
            "gridcolor": "#DFE8F3",
            "gridwidth": 2,
            "linecolor": "#EBF0F8",
            "showbackground": true,
            "ticks": "",
            "zerolinecolor": "#EBF0F8"
           }
          },
          "shapedefaults": {
           "line": {
            "color": "#2a3f5f"
           }
          },
          "ternary": {
           "aaxis": {
            "gridcolor": "#DFE8F3",
            "linecolor": "#A2B1C6",
            "ticks": ""
           },
           "baxis": {
            "gridcolor": "#DFE8F3",
            "linecolor": "#A2B1C6",
            "ticks": ""
           },
           "bgcolor": "white",
           "caxis": {
            "gridcolor": "#DFE8F3",
            "linecolor": "#A2B1C6",
            "ticks": ""
           }
          },
          "title": {
           "x": 0.05
          },
          "xaxis": {
           "automargin": true,
           "gridcolor": "#EBF0F8",
           "linecolor": "#EBF0F8",
           "ticks": "",
           "title": {
            "standoff": 15
           },
           "zerolinecolor": "#EBF0F8",
           "zerolinewidth": 2
          },
          "yaxis": {
           "automargin": true,
           "gridcolor": "#EBF0F8",
           "linecolor": "#EBF0F8",
           "ticks": "",
           "title": {
            "standoff": 15
           },
           "zerolinecolor": "#EBF0F8",
           "zerolinewidth": 2
          }
         }
        },
        "title": {
         "text": "Polynomial Regression Models"
        },
        "width": 1500,
        "xaxis": {
         "anchor": "y",
         "domain": [
          0,
          0.45
         ]
        },
        "xaxis2": {
         "anchor": "y2",
         "domain": [
          0.55,
          1
         ]
        },
        "xaxis3": {
         "anchor": "y3",
         "domain": [
          0,
          0.45
         ]
        },
        "xaxis4": {
         "anchor": "y4",
         "domain": [
          0.55,
          1
         ]
        },
        "xaxis5": {
         "anchor": "y5",
         "domain": [
          0,
          0.45
         ]
        },
        "xaxis6": {
         "anchor": "y6",
         "domain": [
          0.55,
          1
         ]
        },
        "yaxis": {
         "anchor": "x",
         "domain": [
          0.7777777777777778,
          1
         ]
        },
        "yaxis2": {
         "anchor": "x2",
         "domain": [
          0.7777777777777778,
          1
         ]
        },
        "yaxis3": {
         "anchor": "x3",
         "domain": [
          0.3888888888888889,
          0.6111111111111112
         ]
        },
        "yaxis4": {
         "anchor": "x4",
         "domain": [
          0.3888888888888889,
          0.6111111111111112
         ]
        },
        "yaxis5": {
         "anchor": "x5",
         "domain": [
          0,
          0.22222222222222224
         ]
        },
        "yaxis6": {
         "anchor": "x6",
         "domain": [
          0,
          0.22222222222222224
         ]
        }
       }
      }
     },
     "metadata": {},
     "output_type": "display_data"
    }
   ],
   "source": [
    "def linear_regression(data, power):\n",
    "    predictor = ['x']                \n",
    "    \n",
    "    if power >= 2:\n",
    "        predictor.extend('x_%d'% i for i in range(2, power + 1))    # the values of predictor will get added based on the power no change in data frame. \n",
    "        \n",
    "    scaler = StandardScaler()                              \n",
    "    x_train = scaler.fit_transform(data[predictor])     # training column \n",
    "    y_train = data['y_noise']                           # predicting column \n",
    "    \n",
    "    model = LinearRegression()                          \n",
    "    model.fit(x_train, y_train)\n",
    "    \n",
    "    y_pred = model.predict(x_train)                     # doing prediction on the x_train data\n",
    "    \n",
    "    rss = sum((y_pred - y_train)**2)    # residual sum of error\n",
    "    ret = [rss]                         # converting it back to a list\n",
    "    \n",
    "    ret.extend([model.intercept_])      \n",
    "    ret.extend([model.coef_])\n",
    "    \n",
    "    return y_pred, ret\n",
    "\n",
    "models_to_plot = [1,3,6,9,12,15]\n",
    "\n",
    "fig = make_subplots(rows=3, cols=2, subplot_titles=[f'Power: {p}' for p in models_to_plot])\n",
    "\n",
    "row, col = 1,1\n",
    "for i, power in enumerate(models_to_plot, start=1):\n",
    "    y_pred, _ = linear_regression(data, power)\n",
    "    \n",
    "    fig.add_trace(go.Scatter(x=data['x'], y=y_pred,          mode='lines',   name=f'Predicted (Power {power})', showlegend=False), row=row, col=col)\n",
    "    fig.add_trace(go.Scatter(x=data['x'], y=data['y_noise'], mode='markers', name=f'Actual (Power {power})', showlegend=False),    row=row, col=col)\n",
    "    \n",
    "    col += 1\n",
    "    if col > 2:  # Move to the next row after 2 columns\n",
    "        col = 1\n",
    "        row += 1\n",
    "\n",
    "fig.update_layout(\n",
    "    height      =    900,  \n",
    "    width       =    1500,   \n",
    "    title       =    'Polynomial Regression Models',\n",
    "    template    =    'plotly_white'\n",
    ")  \n",
    "\n",
    "fig.show()"
   ]
  },
  {
   "cell_type": "code",
   "execution_count": 5,
   "metadata": {},
   "outputs": [
    {
     "data": {
      "text/html": [
       "<div>\n",
       "<style scoped>\n",
       "    .dataframe tbody tr th:only-of-type {\n",
       "        vertical-align: middle;\n",
       "    }\n",
       "\n",
       "    .dataframe tbody tr th {\n",
       "        vertical-align: top;\n",
       "    }\n",
       "\n",
       "    .dataframe thead th {\n",
       "        text-align: right;\n",
       "    }\n",
       "</style>\n",
       "<table border=\"1\" class=\"dataframe\">\n",
       "  <thead>\n",
       "    <tr style=\"text-align: right;\">\n",
       "      <th></th>\n",
       "      <th>rss</th>\n",
       "      <th>intercept</th>\n",
       "      <th>coef_x_1</th>\n",
       "      <th>coef_x_2</th>\n",
       "      <th>coef_x_3</th>\n",
       "      <th>coef_x_4</th>\n",
       "      <th>coef_x_5</th>\n",
       "      <th>coef_x_6</th>\n",
       "      <th>coef_x_7</th>\n",
       "      <th>coef_x_8</th>\n",
       "      <th>coef_x_9</th>\n",
       "      <th>coef_x_10</th>\n",
       "      <th>coef_x_11</th>\n",
       "      <th>coef_x_12</th>\n",
       "      <th>coef_x_13</th>\n",
       "      <th>coef_x_14</th>\n",
       "      <th>coef_x_15</th>\n",
       "    </tr>\n",
       "  </thead>\n",
       "  <tbody>\n",
       "    <tr>\n",
       "      <th>model_pow_1</th>\n",
       "      <td>3.280316</td>\n",
       "      <td>0.038032</td>\n",
       "      <td>-0.749085</td>\n",
       "      <td>NaN</td>\n",
       "      <td>NaN</td>\n",
       "      <td>NaN</td>\n",
       "      <td>NaN</td>\n",
       "      <td>NaN</td>\n",
       "      <td>NaN</td>\n",
       "      <td>NaN</td>\n",
       "      <td>NaN</td>\n",
       "      <td>NaN</td>\n",
       "      <td>NaN</td>\n",
       "      <td>NaN</td>\n",
       "      <td>NaN</td>\n",
       "      <td>NaN</td>\n",
       "      <td>NaN</td>\n",
       "    </tr>\n",
       "    <tr>\n",
       "      <th>model_pow_2</th>\n",
       "      <td>3.276677</td>\n",
       "      <td>0.038032</td>\n",
       "      <td>-0.704322</td>\n",
       "      <td>-0.045435</td>\n",
       "      <td>NaN</td>\n",
       "      <td>NaN</td>\n",
       "      <td>NaN</td>\n",
       "      <td>NaN</td>\n",
       "      <td>NaN</td>\n",
       "      <td>NaN</td>\n",
       "      <td>NaN</td>\n",
       "      <td>NaN</td>\n",
       "      <td>NaN</td>\n",
       "      <td>NaN</td>\n",
       "      <td>NaN</td>\n",
       "      <td>NaN</td>\n",
       "      <td>NaN</td>\n",
       "    </tr>\n",
       "    <tr>\n",
       "      <th>model_pow_3</th>\n",
       "      <td>1.103352</td>\n",
       "      <td>0.038032</td>\n",
       "      <td>3.665259</td>\n",
       "      <td>-9.802146</td>\n",
       "      <td>5.50628</td>\n",
       "      <td>NaN</td>\n",
       "      <td>NaN</td>\n",
       "      <td>NaN</td>\n",
       "      <td>NaN</td>\n",
       "      <td>NaN</td>\n",
       "      <td>NaN</td>\n",
       "      <td>NaN</td>\n",
       "      <td>NaN</td>\n",
       "      <td>NaN</td>\n",
       "      <td>NaN</td>\n",
       "      <td>NaN</td>\n",
       "      <td>NaN</td>\n",
       "    </tr>\n",
       "    <tr>\n",
       "      <th>model_pow_4</th>\n",
       "      <td>1.078576</td>\n",
       "      <td>0.038032</td>\n",
       "      <td>2.039542</td>\n",
       "      <td>-4.054606</td>\n",
       "      <td>-1.430933</td>\n",
       "      <td>2.813007</td>\n",
       "      <td>NaN</td>\n",
       "      <td>NaN</td>\n",
       "      <td>NaN</td>\n",
       "      <td>NaN</td>\n",
       "      <td>NaN</td>\n",
       "      <td>NaN</td>\n",
       "      <td>NaN</td>\n",
       "      <td>NaN</td>\n",
       "      <td>NaN</td>\n",
       "      <td>NaN</td>\n",
       "      <td>NaN</td>\n",
       "    </tr>\n",
       "    <tr>\n",
       "      <th>model_pow_5</th>\n",
       "      <td>1.018574</td>\n",
       "      <td>0.038032</td>\n",
       "      <td>-6.187537</td>\n",
       "      <td>36.025149</td>\n",
       "      <td>-77.347587</td>\n",
       "      <td>67.648438</td>\n",
       "      <td>-20.7948</td>\n",
       "      <td>NaN</td>\n",
       "      <td>NaN</td>\n",
       "      <td>NaN</td>\n",
       "      <td>NaN</td>\n",
       "      <td>NaN</td>\n",
       "      <td>NaN</td>\n",
       "      <td>NaN</td>\n",
       "      <td>NaN</td>\n",
       "      <td>NaN</td>\n",
       "      <td>NaN</td>\n",
       "    </tr>\n",
       "    <tr>\n",
       "      <th>model_pow_6</th>\n",
       "      <td>0.990074</td>\n",
       "      <td>0.038032</td>\n",
       "      <td>11.505926</td>\n",
       "      <td>-74.063131</td>\n",
       "      <td>209.599315</td>\n",
       "      <td>-314.236679</td>\n",
       "      <td>234.696654</td>\n",
       "      <td>-68.150543</td>\n",
       "      <td>NaN</td>\n",
       "      <td>NaN</td>\n",
       "      <td>NaN</td>\n",
       "      <td>NaN</td>\n",
       "      <td>NaN</td>\n",
       "      <td>NaN</td>\n",
       "      <td>NaN</td>\n",
       "      <td>NaN</td>\n",
       "      <td>NaN</td>\n",
       "    </tr>\n",
       "    <tr>\n",
       "      <th>model_pow_7</th>\n",
       "      <td>0.928265</td>\n",
       "      <td>0.038032</td>\n",
       "      <td>-67.648136</td>\n",
       "      <td>525.790581</td>\n",
       "      <td>-1790.022779</td>\n",
       "      <td>3337.57283</td>\n",
       "      <td>-3552.3136</td>\n",
       "      <td>2025.054366</td>\n",
       "      <td>-479.106216</td>\n",
       "      <td>NaN</td>\n",
       "      <td>NaN</td>\n",
       "      <td>NaN</td>\n",
       "      <td>NaN</td>\n",
       "      <td>NaN</td>\n",
       "      <td>NaN</td>\n",
       "      <td>NaN</td>\n",
       "      <td>NaN</td>\n",
       "    </tr>\n",
       "    <tr>\n",
       "      <th>model_pow_8</th>\n",
       "      <td>0.91761</td>\n",
       "      <td>0.038032</td>\n",
       "      <td>-165.652786</td>\n",
       "      <td>1401.667375</td>\n",
       "      <td>-5354.169422</td>\n",
       "      <td>11656.187251</td>\n",
       "      <td>-15357.179105</td>\n",
       "      <td>12097.679865</td>\n",
       "      <td>-5233.371142</td>\n",
       "      <td>954.165835</td>\n",
       "      <td>NaN</td>\n",
       "      <td>NaN</td>\n",
       "      <td>NaN</td>\n",
       "      <td>NaN</td>\n",
       "      <td>NaN</td>\n",
       "      <td>NaN</td>\n",
       "      <td>NaN</td>\n",
       "    </tr>\n",
       "    <tr>\n",
       "      <th>model_pow_9</th>\n",
       "      <td>0.874941</td>\n",
       "      <td>0.038032</td>\n",
       "      <td>-742.966092</td>\n",
       "      <td>7345.942803</td>\n",
       "      <td>-33947.478809</td>\n",
       "      <td>93146.729114</td>\n",
       "      <td>-162957.723499</td>\n",
       "      <td>184016.396946</td>\n",
       "      <td>-130094.965971</td>\n",
       "      <td>52439.96296</td>\n",
       "      <td>-9206.539208</td>\n",
       "      <td>NaN</td>\n",
       "      <td>NaN</td>\n",
       "      <td>NaN</td>\n",
       "      <td>NaN</td>\n",
       "      <td>NaN</td>\n",
       "      <td>NaN</td>\n",
       "    </tr>\n",
       "    <tr>\n",
       "      <th>model_pow_10</th>\n",
       "      <td>0.874578</td>\n",
       "      <td>0.038032</td>\n",
       "      <td>-587.740733</td>\n",
       "      <td>5536.760041</td>\n",
       "      <td>-23898.602115</td>\n",
       "      <td>59265.584821</td>\n",
       "      <td>-88055.674864</td>\n",
       "      <td>72820.882645</td>\n",
       "      <td>-20086.177409</td>\n",
       "      <td>-17178.033947</td>\n",
       "      <td>16296.127264</td>\n",
       "      <td>-4113.780783</td>\n",
       "      <td>NaN</td>\n",
       "      <td>NaN</td>\n",
       "      <td>NaN</td>\n",
       "      <td>NaN</td>\n",
       "      <td>NaN</td>\n",
       "    </tr>\n",
       "    <tr>\n",
       "      <th>model_pow_11</th>\n",
       "      <td>0.871971</td>\n",
       "      <td>0.038032</td>\n",
       "      <td>618.773686</td>\n",
       "      <td>-10163.072422</td>\n",
       "      <td>75014.785075</td>\n",
       "      <td>-326210.465934</td>\n",
       "      <td>920156.610495</td>\n",
       "      <td>-1752671.317101</td>\n",
       "      <td>2278655.387331</td>\n",
       "      <td>-1995199.454966</td>\n",
       "      <td>1125987.510877</td>\n",
       "      <td>-369953.928108</td>\n",
       "      <td>53764.420343</td>\n",
       "      <td>NaN</td>\n",
       "      <td>NaN</td>\n",
       "      <td>NaN</td>\n",
       "      <td>NaN</td>\n",
       "    </tr>\n",
       "    <tr>\n",
       "      <th>model_pow_12</th>\n",
       "      <td>0.871393</td>\n",
       "      <td>0.038032</td>\n",
       "      <td>2257.67618</td>\n",
       "      <td>-33710.638403</td>\n",
       "      <td>240954.206198</td>\n",
       "      <td>-1060513.887168</td>\n",
       "      <td>3140774.181542</td>\n",
       "      <td>-6508070.170979</td>\n",
       "      <td>9576086.76161</td>\n",
       "      <td>-9977709.675832</td>\n",
       "      <td>7205654.054105</td>\n",
       "      <td>-3434032.122499</td>\n",
       "      <td>972294.492951</td>\n",
       "      <td>-123985.739848</td>\n",
       "      <td>NaN</td>\n",
       "      <td>NaN</td>\n",
       "      <td>NaN</td>\n",
       "    </tr>\n",
       "    <tr>\n",
       "      <th>model_pow_13</th>\n",
       "      <td>0.856758</td>\n",
       "      <td>0.038032</td>\n",
       "      <td>-21499.381658</td>\n",
       "      <td>339767.001097</td>\n",
       "      <td>-2669849.05934</td>\n",
       "      <td>13361864.626414</td>\n",
       "      <td>-46407251.180403</td>\n",
       "      <td>116170408.795381</td>\n",
       "      <td>-212975463.26098</td>\n",
       "      <td>286443270.914759</td>\n",
       "      <td>-279468028.966346</td>\n",
       "      <td>192445965.471754</td>\n",
       "      <td>-88658257.823329</td>\n",
       "      <td>24514582.044429</td>\n",
       "      <td>-3075508.796253</td>\n",
       "      <td>NaN</td>\n",
       "      <td>NaN</td>\n",
       "    </tr>\n",
       "    <tr>\n",
       "      <th>model_pow_14</th>\n",
       "      <td>0.786855</td>\n",
       "      <td>0.038032</td>\n",
       "      <td>-170872.127046</td>\n",
       "      <td>2889644.963257</td>\n",
       "      <td>-24446118.536189</td>\n",
       "      <td>132812338.000019</td>\n",
       "      <td>-506151255.791427</td>\n",
       "      <td>1409501888.182784</td>\n",
       "      <td>-2925049896.988172</td>\n",
       "      <td>4554428575.830023</td>\n",
       "      <td>-5301286685.717669</td>\n",
       "      <td>4545168825.266443</td>\n",
       "      <td>-2785758768.354893</td>\n",
       "      <td>1154735423.315246</td>\n",
       "      <td>-289982765.281433</td>\n",
       "      <td>33309673.331703</td>\n",
       "      <td>NaN</td>\n",
       "    </tr>\n",
       "    <tr>\n",
       "      <th>model_pow_15</th>\n",
       "      <td>0.704832</td>\n",
       "      <td>0.038032</td>\n",
       "      <td>294810.011118</td>\n",
       "      <td>-5686879.976297</td>\n",
       "      <td>55191918.770008</td>\n",
       "      <td>-346315336.373448</td>\n",
       "      <td>1536594880.562242</td>\n",
       "      <td>-5030033217.008669</td>\n",
       "      <td>12416597884.354311</td>\n",
       "      <td>-23343964963.722702</td>\n",
       "      <td>33461592859.952713</td>\n",
       "      <td>-36300607395.779091</td>\n",
       "      <td>29290586183.210751</td>\n",
       "      <td>-17028507533.307985</td>\n",
       "      <td>6738561260.943264</td>\n",
       "      <td>-1624175379.977026</td>\n",
       "      <td>179870902.510464</td>\n",
       "    </tr>\n",
       "  </tbody>\n",
       "</table>\n",
       "</div>"
      ],
      "text/plain": [
       "                   rss intercept       coef_x_1        coef_x_2  \\\n",
       "model_pow_1   3.280316  0.038032      -0.749085             NaN   \n",
       "model_pow_2   3.276677  0.038032      -0.704322       -0.045435   \n",
       "model_pow_3   1.103352  0.038032       3.665259       -9.802146   \n",
       "model_pow_4   1.078576  0.038032       2.039542       -4.054606   \n",
       "model_pow_5   1.018574  0.038032      -6.187537       36.025149   \n",
       "model_pow_6   0.990074  0.038032      11.505926      -74.063131   \n",
       "model_pow_7   0.928265  0.038032     -67.648136      525.790581   \n",
       "model_pow_8    0.91761  0.038032    -165.652786     1401.667375   \n",
       "model_pow_9   0.874941  0.038032    -742.966092     7345.942803   \n",
       "model_pow_10  0.874578  0.038032    -587.740733     5536.760041   \n",
       "model_pow_11  0.871971  0.038032     618.773686   -10163.072422   \n",
       "model_pow_12  0.871393  0.038032     2257.67618   -33710.638403   \n",
       "model_pow_13  0.856758  0.038032  -21499.381658   339767.001097   \n",
       "model_pow_14  0.786855  0.038032 -170872.127046  2889644.963257   \n",
       "model_pow_15  0.704832  0.038032  294810.011118 -5686879.976297   \n",
       "\n",
       "                     coef_x_3          coef_x_4           coef_x_5  \\\n",
       "model_pow_1               NaN               NaN                NaN   \n",
       "model_pow_2               NaN               NaN                NaN   \n",
       "model_pow_3           5.50628               NaN                NaN   \n",
       "model_pow_4         -1.430933          2.813007                NaN   \n",
       "model_pow_5        -77.347587         67.648438           -20.7948   \n",
       "model_pow_6        209.599315       -314.236679         234.696654   \n",
       "model_pow_7      -1790.022779        3337.57283         -3552.3136   \n",
       "model_pow_8      -5354.169422      11656.187251      -15357.179105   \n",
       "model_pow_9     -33947.478809      93146.729114     -162957.723499   \n",
       "model_pow_10    -23898.602115      59265.584821      -88055.674864   \n",
       "model_pow_11     75014.785075    -326210.465934      920156.610495   \n",
       "model_pow_12    240954.206198   -1060513.887168     3140774.181542   \n",
       "model_pow_13   -2669849.05934   13361864.626414   -46407251.180403   \n",
       "model_pow_14 -24446118.536189  132812338.000019  -506151255.791427   \n",
       "model_pow_15  55191918.770008 -346315336.373448  1536594880.562242   \n",
       "\n",
       "                       coef_x_6            coef_x_7            coef_x_8  \\\n",
       "model_pow_1                 NaN                 NaN                 NaN   \n",
       "model_pow_2                 NaN                 NaN                 NaN   \n",
       "model_pow_3                 NaN                 NaN                 NaN   \n",
       "model_pow_4                 NaN                 NaN                 NaN   \n",
       "model_pow_5                 NaN                 NaN                 NaN   \n",
       "model_pow_6          -68.150543                 NaN                 NaN   \n",
       "model_pow_7         2025.054366         -479.106216                 NaN   \n",
       "model_pow_8        12097.679865        -5233.371142          954.165835   \n",
       "model_pow_9       184016.396946      -130094.965971         52439.96296   \n",
       "model_pow_10       72820.882645       -20086.177409       -17178.033947   \n",
       "model_pow_11    -1752671.317101      2278655.387331     -1995199.454966   \n",
       "model_pow_12    -6508070.170979       9576086.76161     -9977709.675832   \n",
       "model_pow_13   116170408.795381    -212975463.26098    286443270.914759   \n",
       "model_pow_14  1409501888.182784  -2925049896.988172   4554428575.830023   \n",
       "model_pow_15 -5030033217.008669  12416597884.354311 -23343964963.722702   \n",
       "\n",
       "                        coef_x_9           coef_x_10           coef_x_11  \\\n",
       "model_pow_1                  NaN                 NaN                 NaN   \n",
       "model_pow_2                  NaN                 NaN                 NaN   \n",
       "model_pow_3                  NaN                 NaN                 NaN   \n",
       "model_pow_4                  NaN                 NaN                 NaN   \n",
       "model_pow_5                  NaN                 NaN                 NaN   \n",
       "model_pow_6                  NaN                 NaN                 NaN   \n",
       "model_pow_7                  NaN                 NaN                 NaN   \n",
       "model_pow_8                  NaN                 NaN                 NaN   \n",
       "model_pow_9         -9206.539208                 NaN                 NaN   \n",
       "model_pow_10        16296.127264        -4113.780783                 NaN   \n",
       "model_pow_11      1125987.510877      -369953.928108        53764.420343   \n",
       "model_pow_12      7205654.054105     -3434032.122499       972294.492951   \n",
       "model_pow_13   -279468028.966346    192445965.471754    -88658257.823329   \n",
       "model_pow_14  -5301286685.717669   4545168825.266443  -2785758768.354893   \n",
       "model_pow_15  33461592859.952713 -36300607395.779091  29290586183.210751   \n",
       "\n",
       "                       coef_x_12          coef_x_13          coef_x_14  \\\n",
       "model_pow_1                  NaN                NaN                NaN   \n",
       "model_pow_2                  NaN                NaN                NaN   \n",
       "model_pow_3                  NaN                NaN                NaN   \n",
       "model_pow_4                  NaN                NaN                NaN   \n",
       "model_pow_5                  NaN                NaN                NaN   \n",
       "model_pow_6                  NaN                NaN                NaN   \n",
       "model_pow_7                  NaN                NaN                NaN   \n",
       "model_pow_8                  NaN                NaN                NaN   \n",
       "model_pow_9                  NaN                NaN                NaN   \n",
       "model_pow_10                 NaN                NaN                NaN   \n",
       "model_pow_11                 NaN                NaN                NaN   \n",
       "model_pow_12      -123985.739848                NaN                NaN   \n",
       "model_pow_13     24514582.044429    -3075508.796253                NaN   \n",
       "model_pow_14   1154735423.315246  -289982765.281433    33309673.331703   \n",
       "model_pow_15 -17028507533.307985  6738561260.943264 -1624175379.977026   \n",
       "\n",
       "                     coef_x_15  \n",
       "model_pow_1                NaN  \n",
       "model_pow_2                NaN  \n",
       "model_pow_3                NaN  \n",
       "model_pow_4                NaN  \n",
       "model_pow_5                NaN  \n",
       "model_pow_6                NaN  \n",
       "model_pow_7                NaN  \n",
       "model_pow_8                NaN  \n",
       "model_pow_9                NaN  \n",
       "model_pow_10               NaN  \n",
       "model_pow_11               NaN  \n",
       "model_pow_12               NaN  \n",
       "model_pow_13               NaN  \n",
       "model_pow_14               NaN  \n",
       "model_pow_15  179870902.510464  "
      ]
     },
     "execution_count": 5,
     "metadata": {},
     "output_type": "execute_result"
    }
   ],
   "source": [
    "# Initialize a dataframe to store the results:\n",
    "col = ['rss', 'intercept'] + ['coef_x_%d' % i for i in range(1, 16)]\n",
    "ind = ['model_pow_%d' % i for i in range(1, 16)]\n",
    "coef_matrix_simple = pd.DataFrame(index=ind, columns=col)\n",
    "\n",
    "for i in range(1,16):\n",
    "    preds, rss = linear_regression(data, power=i)\n",
    "    insert_list = []\n",
    "    insert_list = [rss[0], rss[1], *rss[2].tolist()]\n",
    "    coef_matrix_simple.iloc[i-1, :len(insert_list)] = insert_list  \n",
    "    \n",
    "coef_matrix_simple.head(15)"
   ]
  },
  {
   "cell_type": "markdown",
   "metadata": {},
   "source": [
    "```plaintext\n",
    "seeing the above table we can see that with increase in complexity of the model the rss value decreases. the model tend to fit even smaller deviation in the training data set. LEADING THE OVERFITTING"
   ]
  },
  {
   "cell_type": "code",
   "execution_count": 187,
   "metadata": {},
   "outputs": [],
   "source": [
    "#Set the display format to be scientific for ease of analysis\n",
    "# pd.options.display.float_format = '{:,.2g}'.format\n",
    "# pd.reset_option('display.float_format')\n",
    "# coef_matrix_simple"
   ]
  },
  {
   "cell_type": "markdown",
   "metadata": {},
   "source": [
    "It is clearly evident that the size of the coefficients increases exponentially with an increase in model complexity.\n",
    "\n",
    "From this, we can understand why it is necessary to put a **constraint** on the magnitude of the coefficients to reduce model complexity.\n",
    "\n",
    "### What does a large coefficient signify?\n",
    "- A large coefficient means that we are putting a lot of emphasis on that particular feature.\n",
    "- This implies that the feature is a good predictor for the outcome.\n",
    "\n",
    "However, when the coefficients become too large, the model might:\n",
    "- Overcomplicate things by fitting the training data too closely.\n",
    "- Lose its ability to generalize well to new, unseen data."
   ]
  },
  {
   "cell_type": "markdown",
   "metadata": {},
   "source": [
    "---"
   ]
  },
  {
   "cell_type": "markdown",
   "metadata": {},
   "source": [
    "#### Function for ridge regression"
   ]
  },
  {
   "cell_type": "code",
   "execution_count": 6,
   "metadata": {},
   "outputs": [
    {
     "data": {
      "application/vnd.plotly.v1+json": {
       "config": {
        "plotlyServerURL": "https://plot.ly"
       },
       "data": [
        {
         "mode": "lines",
         "name": "Predicted (Alpha 1e-15)",
         "showlegend": false,
         "type": "scatter",
         "x": [
          1.0471975511965976,
          1.117010721276371,
          1.1868238913561442,
          1.2566370614359172,
          1.3264502315156903,
          1.3962634015954636,
          1.4660765716752369,
          1.53588974175501,
          1.605702911834783,
          1.6755160819145563,
          1.7453292519943295,
          1.8151424220741028,
          1.8849555921538759,
          1.9547687622336491,
          2.0245819323134224,
          2.0943951023931953,
          2.1642082724729685,
          2.234021442552742,
          2.303834612632515,
          2.3736477827122884,
          2.443460952792061,
          2.5132741228718345,
          2.5830872929516078,
          2.6529004630313806,
          2.722713633111154,
          2.792526803190927,
          2.8623399732707,
          2.9321531433504737,
          3.0019663134302466,
          3.07177948351002,
          3.141592653589793,
          3.211405823669566,
          3.2812189937493397,
          3.3510321638291125,
          3.420845333908886,
          3.490658503988659,
          3.560471674068432,
          3.6302848441482056,
          3.7000980142279785,
          3.7699111843077517,
          3.839724354387525,
          3.9095375244672983,
          3.979350694547071,
          4.049163864626845,
          4.118977034706617,
          4.1887902047863905,
          4.258603374866164,
          4.328416544945937,
          4.39822971502571,
          4.468042885105484,
          4.537856055185257,
          4.60766922526503,
          4.677482395344803,
          4.747295565424577,
          4.817108735504349,
          4.886921905584122,
          4.956735075663896,
          5.026548245743669,
          5.096361415823442,
          5.1661745859032155
         ],
         "xaxis": "x",
         "y": [
          1.0673982731924794,
          0.9376434726647445,
          0.8829260738667968,
          0.8808433456316875,
          0.9104672403256286,
          0.9540926362780324,
          0.9980796291739849,
          1.0330249315585702,
          1.0534650472574454,
          1.0572818557076558,
          1.0449502578950656,
          1.0187381681018037,
          0.9819419007209531,
          0.9382153048165078,
          0.8910291786807234,
          0.8432787511657394,
          0.7970414996663335,
          0.7534753022038372,
          0.7128378327935521,
          0.674602068221388,
          0.6376395423932577,
          0.600442276815697,
          0.561355783868889,
          0.5187987645396375,
          0.4714497196356701,
          0.41838616297823544,
          0.35916807726894556,
          0.29386321208872185,
          0.22301742030245306,
          0.1475780816500942,
          0.06878249581418869,
          -0.011974303481879812,
          -0.09327668805130587,
          -0.17381518659462517,
          -0.2524891967376293,
          -0.32847497269617226,
          -0.40125219790647454,
          -0.47058715890020314,
          -0.536475550267683,
          -0.5990527956135752,
          -0.6584839872383286,
          -0.7148486213817209,
          -0.7680367984511081,
          -0.8176731084703037,
          -0.8630818307072745,
          -0.9033023689924862,
          -0.9371573615497668,
          -0.963368382092854,
          -0.9807068626060713,
          -0.9881627219454872,
          -0.9851128723047127,
          -0.9714799474430451,
          -0.9478930249614181,
          -0.9159028577567783,
          -0.8783718780258327,
          -0.8402633075828321,
          -0.8102056184078223,
          -0.8034220947236876,
          -0.8469066735059145,
          -0.9881161282472435
         ],
         "yaxis": "y"
        },
        {
         "mode": "markers",
         "name": "Actual (Alpha 1e-15)",
         "showlegend": false,
         "type": "scatter",
         "x": [
          1.0471975511965976,
          1.117010721276371,
          1.1868238913561442,
          1.2566370614359172,
          1.3264502315156903,
          1.3962634015954636,
          1.4660765716752369,
          1.53588974175501,
          1.605702911834783,
          1.6755160819145563,
          1.7453292519943295,
          1.8151424220741028,
          1.8849555921538759,
          1.9547687622336491,
          2.0245819323134224,
          2.0943951023931953,
          2.1642082724729685,
          2.234021442552742,
          2.303834612632515,
          2.3736477827122884,
          2.443460952792061,
          2.5132741228718345,
          2.5830872929516078,
          2.6529004630313806,
          2.722713633111154,
          2.792526803190927,
          2.8623399732707,
          2.9321531433504737,
          3.0019663134302466,
          3.07177948351002,
          3.141592653589793,
          3.211405823669566,
          3.2812189937493397,
          3.3510321638291125,
          3.420845333908886,
          3.490658503988659,
          3.560471674068432,
          3.6302848441482056,
          3.7000980142279785,
          3.7699111843077517,
          3.839724354387525,
          3.9095375244672983,
          3.979350694547071,
          4.049163864626845,
          4.118977034706617,
          4.1887902047863905,
          4.258603374866164,
          4.328416544945937,
          4.39822971502571,
          4.468042885105484,
          4.537856055185257,
          4.60766922526503,
          4.677482395344803,
          4.747295565424577,
          4.817108735504349,
          4.886921905584122,
          4.956735075663896,
          5.026548245743669,
          5.096361415823442,
          5.1661745859032155
         ],
         "xaxis": "x",
         "y": [
          1.0657633794038663,
          1.0060858924589278,
          0.6953738107500972,
          0.9497989388058752,
          1.0634961223595685,
          0.8767949189043736,
          1.0343486332220913,
          1.015673105876341,
          1.0000345416592007,
          0.9683318637793322,
          1.0497616815052477,
          1.1507513323478282,
          0.8062966657176391,
          1.081424966264193,
          0.9330885658178659,
          0.9327960457089909,
          0.6585472407803852,
          0.8082812853740173,
          0.9658253757528816,
          0.5326876375912057,
          0.3461283675878534,
          0.32627940790763715,
          0.5698297888332875,
          0.8272166623925556,
          0.575290331087214,
          0.592913475321843,
          0.2905097381922862,
          0.4176111473817956,
          0.09848590276519861,
          0.1617371014730714,
          -0.04009757830103517,
          -0.15215282585994666,
          -0.11926685659607285,
          -0.27933299305685966,
          -0.07936639368747736,
          -0.31276815144070474,
          -0.34670514483794757,
          -0.5201164133487205,
          -0.34144842466993147,
          -0.6975806775926542,
          -0.5437528770025923,
          -0.747289154174978,
          -0.8840598294417767,
          -0.8614113361394199,
          -0.9497262438955346,
          -0.8979300495910152,
          -0.949665083208682,
          -0.880358364119804,
          -0.8662836158466595,
          -0.9924087649350495,
          -0.988693553534636,
          -0.9511577647976832,
          -1.0803726877190007,
          -0.8931668240301053,
          -0.868188184610875,
          -0.9542706334130864,
          -0.6110901765433163,
          -0.8134376756685893,
          -0.9440247252459114,
          -0.9531211133705031
         ],
         "yaxis": "y"
        },
        {
         "mode": "lines",
         "name": "Predicted (Alpha 1e-10)",
         "showlegend": false,
         "type": "scatter",
         "x": [
          1.0471975511965976,
          1.117010721276371,
          1.1868238913561442,
          1.2566370614359172,
          1.3264502315156903,
          1.3962634015954636,
          1.4660765716752369,
          1.53588974175501,
          1.605702911834783,
          1.6755160819145563,
          1.7453292519943295,
          1.8151424220741028,
          1.8849555921538759,
          1.9547687622336491,
          2.0245819323134224,
          2.0943951023931953,
          2.1642082724729685,
          2.234021442552742,
          2.303834612632515,
          2.3736477827122884,
          2.443460952792061,
          2.5132741228718345,
          2.5830872929516078,
          2.6529004630313806,
          2.722713633111154,
          2.792526803190927,
          2.8623399732707,
          2.9321531433504737,
          3.0019663134302466,
          3.07177948351002,
          3.141592653589793,
          3.211405823669566,
          3.2812189937493397,
          3.3510321638291125,
          3.420845333908886,
          3.490658503988659,
          3.560471674068432,
          3.6302848441482056,
          3.7000980142279785,
          3.7699111843077517,
          3.839724354387525,
          3.9095375244672983,
          3.979350694547071,
          4.049163864626845,
          4.118977034706617,
          4.1887902047863905,
          4.258603374866164,
          4.328416544945937,
          4.39822971502571,
          4.468042885105484,
          4.537856055185257,
          4.60766922526503,
          4.677482395344803,
          4.747295565424577,
          4.817108735504349,
          4.886921905584122,
          4.956735075663896,
          5.026548245743669,
          5.096361415823442,
          5.1661745859032155
         ],
         "xaxis": "x2",
         "y": [
          1.03462992826765,
          0.9445432840909279,
          0.909303057200784,
          0.9093819108966715,
          0.9295610317296655,
          0.9583569585107997,
          0.9874733096012828,
          1.0112820235947186,
          1.0263382844328568,
          1.0309327835525526,
          1.024684384833611,
          1.008175610288756,
          0.9826326647825726,
          0.9496509772001306,
          0.9109664656714037,
          0.8682719493068748,
          0.8230773431997881,
          0.776611503407265,
          0.7297628509959092,
          0.6830552166787721,
          0.6366547280692724,
          0.5904030281376381,
          0.5438716837330374,
          0.4964323340919687,
          0.44733695670651125,
          0.3958026058782433,
          0.3410951193967104,
          0.2826065998437119,
          0.21992196414940496,
          0.15287051907332477,
          0.08155935684680843,
          0.006386363882420136,
          -0.07196822101983008,
          -0.15257149950458176,
          -0.23428730975443207,
          -0.3158423888694593,
          -0.3959049901387051,
          -0.4731703525268856,
          -0.5464462936614077,
          -0.6147313344626558,
          -0.6772772775708679,
          -0.733628185775567,
          -0.7836283934939435,
          -0.8273937086443929,
          -0.8652425221317196,
          -0.8975873614799667,
          -0.9247927548666813,
          -0.9470123928650344,
          -0.964027799957139,
          -0.9751224026899258,
          -0.9790393890733365,
          -0.9740895157832733,
          -0.9584964987908721,
          -0.9310933256989281,
          -0.8925133077989466,
          -0.8470555491314721,
          -0.8054464039937593,
          -0.7887671337030647,
          -0.8338741269855242,
          -1.0007025473265294
         ],
         "yaxis": "y2"
        },
        {
         "mode": "markers",
         "name": "Actual (Alpha 1e-10)",
         "showlegend": false,
         "type": "scatter",
         "x": [
          1.0471975511965976,
          1.117010721276371,
          1.1868238913561442,
          1.2566370614359172,
          1.3264502315156903,
          1.3962634015954636,
          1.4660765716752369,
          1.53588974175501,
          1.605702911834783,
          1.6755160819145563,
          1.7453292519943295,
          1.8151424220741028,
          1.8849555921538759,
          1.9547687622336491,
          2.0245819323134224,
          2.0943951023931953,
          2.1642082724729685,
          2.234021442552742,
          2.303834612632515,
          2.3736477827122884,
          2.443460952792061,
          2.5132741228718345,
          2.5830872929516078,
          2.6529004630313806,
          2.722713633111154,
          2.792526803190927,
          2.8623399732707,
          2.9321531433504737,
          3.0019663134302466,
          3.07177948351002,
          3.141592653589793,
          3.211405823669566,
          3.2812189937493397,
          3.3510321638291125,
          3.420845333908886,
          3.490658503988659,
          3.560471674068432,
          3.6302848441482056,
          3.7000980142279785,
          3.7699111843077517,
          3.839724354387525,
          3.9095375244672983,
          3.979350694547071,
          4.049163864626845,
          4.118977034706617,
          4.1887902047863905,
          4.258603374866164,
          4.328416544945937,
          4.39822971502571,
          4.468042885105484,
          4.537856055185257,
          4.60766922526503,
          4.677482395344803,
          4.747295565424577,
          4.817108735504349,
          4.886921905584122,
          4.956735075663896,
          5.026548245743669,
          5.096361415823442,
          5.1661745859032155
         ],
         "xaxis": "x2",
         "y": [
          1.0657633794038663,
          1.0060858924589278,
          0.6953738107500972,
          0.9497989388058752,
          1.0634961223595685,
          0.8767949189043736,
          1.0343486332220913,
          1.015673105876341,
          1.0000345416592007,
          0.9683318637793322,
          1.0497616815052477,
          1.1507513323478282,
          0.8062966657176391,
          1.081424966264193,
          0.9330885658178659,
          0.9327960457089909,
          0.6585472407803852,
          0.8082812853740173,
          0.9658253757528816,
          0.5326876375912057,
          0.3461283675878534,
          0.32627940790763715,
          0.5698297888332875,
          0.8272166623925556,
          0.575290331087214,
          0.592913475321843,
          0.2905097381922862,
          0.4176111473817956,
          0.09848590276519861,
          0.1617371014730714,
          -0.04009757830103517,
          -0.15215282585994666,
          -0.11926685659607285,
          -0.27933299305685966,
          -0.07936639368747736,
          -0.31276815144070474,
          -0.34670514483794757,
          -0.5201164133487205,
          -0.34144842466993147,
          -0.6975806775926542,
          -0.5437528770025923,
          -0.747289154174978,
          -0.8840598294417767,
          -0.8614113361394199,
          -0.9497262438955346,
          -0.8979300495910152,
          -0.949665083208682,
          -0.880358364119804,
          -0.8662836158466595,
          -0.9924087649350495,
          -0.988693553534636,
          -0.9511577647976832,
          -1.0803726877190007,
          -0.8931668240301053,
          -0.868188184610875,
          -0.9542706334130864,
          -0.6110901765433163,
          -0.8134376756685893,
          -0.9440247252459114,
          -0.9531211133705031
         ],
         "yaxis": "y2"
        },
        {
         "mode": "lines",
         "name": "Predicted (Alpha 1e-08)",
         "showlegend": false,
         "type": "scatter",
         "x": [
          1.0471975511965976,
          1.117010721276371,
          1.1868238913561442,
          1.2566370614359172,
          1.3264502315156903,
          1.3962634015954636,
          1.4660765716752369,
          1.53588974175501,
          1.605702911834783,
          1.6755160819145563,
          1.7453292519943295,
          1.8151424220741028,
          1.8849555921538759,
          1.9547687622336491,
          2.0245819323134224,
          2.0943951023931953,
          2.1642082724729685,
          2.234021442552742,
          2.303834612632515,
          2.3736477827122884,
          2.443460952792061,
          2.5132741228718345,
          2.5830872929516078,
          2.6529004630313806,
          2.722713633111154,
          2.792526803190927,
          2.8623399732707,
          2.9321531433504737,
          3.0019663134302466,
          3.07177948351002,
          3.141592653589793,
          3.211405823669566,
          3.2812189937493397,
          3.3510321638291125,
          3.420845333908886,
          3.490658503988659,
          3.560471674068432,
          3.6302848441482056,
          3.7000980142279785,
          3.7699111843077517,
          3.839724354387525,
          3.9095375244672983,
          3.979350694547071,
          4.049163864626845,
          4.118977034706617,
          4.1887902047863905,
          4.258603374866164,
          4.328416544945937,
          4.39822971502571,
          4.468042885105484,
          4.537856055185257,
          4.60766922526503,
          4.677482395344803,
          4.747295565424577,
          4.817108735504349,
          4.886921905584122,
          4.956735075663896,
          5.026548245743669,
          5.096361415823442,
          5.1661745859032155
         ],
         "xaxis": "x3",
         "y": [
          0.9682312502095891,
          0.953623709959208,
          0.9511274290266891,
          0.9564473164849596,
          0.9660258602257608,
          0.976978986806335,
          0.987030403936094,
          0.9944452110495428,
          0.997963587139713,
          0.9967353752032346,
          0.990256378127446,
          0.9783071607534504,
          0.9608951165842876,
          0.9382005049040367,
          0.9105270950387501,
          0.8782579696685013,
          0.8418169394042303,
          0.8016359077486521,
          0.7581284009264431,
          0.7116693433003201,
          0.6625810190360306,
          0.6111250176575476,
          0.5574998188692797,
          0.5018435346134618,
          0.4442411981599912,
          0.384735875671401,
          0.32334277980578974,
          0.26006549209590957,
          0.1949133554151723,
          0.12791908370400562,
          0.059155656485008874,
          -0.011248377233523003,
          -0.08309596629865212,
          -0.15611164487578777,
          -0.22993512287978946,
          -0.30411866711995317,
          -0.3781283449666637,
          -0.4513489773152506,
          -0.5230924294308841,
          -0.5926086776879365,
          -0.6590989536061491,
          -0.7217302167130362,
          -0.7796502846276516,
          -0.8320032006671332,
          -0.8779449037246982,
          -0.9166600501387399,
          -0.9473820022749797,
          -0.9694196360647516,
          -0.9821968365245055,
          -0.9853134689236767,
          -0.9786403737380118,
          -0.9624656949608215,
          -0.9377157938088578,
          -0.9062813263526499,
          -0.871488002060085,
          -0.8387623458493414,
          -0.8165557435994748,
          -0.817605476885854,
          -0.8606296981386328,
          -0.972574751201501
         ],
         "yaxis": "y3"
        },
        {
         "mode": "markers",
         "name": "Actual (Alpha 1e-08)",
         "showlegend": false,
         "type": "scatter",
         "x": [
          1.0471975511965976,
          1.117010721276371,
          1.1868238913561442,
          1.2566370614359172,
          1.3264502315156903,
          1.3962634015954636,
          1.4660765716752369,
          1.53588974175501,
          1.605702911834783,
          1.6755160819145563,
          1.7453292519943295,
          1.8151424220741028,
          1.8849555921538759,
          1.9547687622336491,
          2.0245819323134224,
          2.0943951023931953,
          2.1642082724729685,
          2.234021442552742,
          2.303834612632515,
          2.3736477827122884,
          2.443460952792061,
          2.5132741228718345,
          2.5830872929516078,
          2.6529004630313806,
          2.722713633111154,
          2.792526803190927,
          2.8623399732707,
          2.9321531433504737,
          3.0019663134302466,
          3.07177948351002,
          3.141592653589793,
          3.211405823669566,
          3.2812189937493397,
          3.3510321638291125,
          3.420845333908886,
          3.490658503988659,
          3.560471674068432,
          3.6302848441482056,
          3.7000980142279785,
          3.7699111843077517,
          3.839724354387525,
          3.9095375244672983,
          3.979350694547071,
          4.049163864626845,
          4.118977034706617,
          4.1887902047863905,
          4.258603374866164,
          4.328416544945937,
          4.39822971502571,
          4.468042885105484,
          4.537856055185257,
          4.60766922526503,
          4.677482395344803,
          4.747295565424577,
          4.817108735504349,
          4.886921905584122,
          4.956735075663896,
          5.026548245743669,
          5.096361415823442,
          5.1661745859032155
         ],
         "xaxis": "x3",
         "y": [
          1.0657633794038663,
          1.0060858924589278,
          0.6953738107500972,
          0.9497989388058752,
          1.0634961223595685,
          0.8767949189043736,
          1.0343486332220913,
          1.015673105876341,
          1.0000345416592007,
          0.9683318637793322,
          1.0497616815052477,
          1.1507513323478282,
          0.8062966657176391,
          1.081424966264193,
          0.9330885658178659,
          0.9327960457089909,
          0.6585472407803852,
          0.8082812853740173,
          0.9658253757528816,
          0.5326876375912057,
          0.3461283675878534,
          0.32627940790763715,
          0.5698297888332875,
          0.8272166623925556,
          0.575290331087214,
          0.592913475321843,
          0.2905097381922862,
          0.4176111473817956,
          0.09848590276519861,
          0.1617371014730714,
          -0.04009757830103517,
          -0.15215282585994666,
          -0.11926685659607285,
          -0.27933299305685966,
          -0.07936639368747736,
          -0.31276815144070474,
          -0.34670514483794757,
          -0.5201164133487205,
          -0.34144842466993147,
          -0.6975806775926542,
          -0.5437528770025923,
          -0.747289154174978,
          -0.8840598294417767,
          -0.8614113361394199,
          -0.9497262438955346,
          -0.8979300495910152,
          -0.949665083208682,
          -0.880358364119804,
          -0.8662836158466595,
          -0.9924087649350495,
          -0.988693553534636,
          -0.9511577647976832,
          -1.0803726877190007,
          -0.8931668240301053,
          -0.868188184610875,
          -0.9542706334130864,
          -0.6110901765433163,
          -0.8134376756685893,
          -0.9440247252459114,
          -0.9531211133705031
         ],
         "yaxis": "y3"
        },
        {
         "mode": "lines",
         "name": "Predicted (Alpha 0.0001)",
         "showlegend": false,
         "type": "scatter",
         "x": [
          1.0471975511965976,
          1.117010721276371,
          1.1868238913561442,
          1.2566370614359172,
          1.3264502315156903,
          1.3962634015954636,
          1.4660765716752369,
          1.53588974175501,
          1.605702911834783,
          1.6755160819145563,
          1.7453292519943295,
          1.8151424220741028,
          1.8849555921538759,
          1.9547687622336491,
          2.0245819323134224,
          2.0943951023931953,
          2.1642082724729685,
          2.234021442552742,
          2.303834612632515,
          2.3736477827122884,
          2.443460952792061,
          2.5132741228718345,
          2.5830872929516078,
          2.6529004630313806,
          2.722713633111154,
          2.792526803190927,
          2.8623399732707,
          2.9321531433504737,
          3.0019663134302466,
          3.07177948351002,
          3.141592653589793,
          3.211405823669566,
          3.2812189937493397,
          3.3510321638291125,
          3.420845333908886,
          3.490658503988659,
          3.560471674068432,
          3.6302848441482056,
          3.7000980142279785,
          3.7699111843077517,
          3.839724354387525,
          3.9095375244672983,
          3.979350694547071,
          4.049163864626845,
          4.118977034706617,
          4.1887902047863905,
          4.258603374866164,
          4.328416544945937,
          4.39822971502571,
          4.468042885105484,
          4.537856055185257,
          4.60766922526503,
          4.677482395344803,
          4.747295565424577,
          4.817108735504349,
          4.886921905584122,
          4.956735075663896,
          5.026548245743669,
          5.096361415823442,
          5.1661745859032155
         ],
         "xaxis": "x4",
         "y": [
          0.9274923978570069,
          0.9489633207065666,
          0.9667964813721182,
          0.9809711210152994,
          0.991471684330162,
          0.998287953286227,
          1.0014151573965977,
          1.0008540599786149,
          0.9966110207842294,
          0.9886980365133463,
          0.9771327621069605,
          0.9619385173664405,
          0.943144285374038,
          0.9207847114049127,
          0.8949001135208988,
          0.865536518808052,
          0.8327457422367713,
          0.7965855283405828,
          0.757119779261737,
          0.7144188961075497,
          0.6685602638791761,
          0.6196289133171923,
          0.5677183956567189,
          0.5129319082516662,
          0.4553837100097866,
          0.3952008652106659,
          0.33252535211800893,
          0.26751656832340187,
          0.20035425735627388,
          0.13124187004425525,
          0.06041035857298261,
          -0.011877619792803655,
          -0.08532313991686702,
          -0.15958617290808153,
          -0.23428060780702187,
          -0.3089693171229425,
          -0.38315952092419103,
          -0.4562987875125296,
          -0.5277721093050125,
          -0.5969006130508402,
          -0.6629426068784324,
          -0.7250978361901486,
          -0.7825160197537228,
          -0.8343109705319851,
          -0.8795818773256114,
          -0.9174436381203671,
          -0.94706849957314,
          -0.9677416753207336,
          -0.9789340953114877,
          -0.980395986324078,
          -0.9722756080990685,
          -0.9552681786309902,
          -0.9308008254807253,
          -0.9012603076169375,
          -0.8702712753012752,
          -0.8430339858468366,
          -0.8267316836469817,
          -0.8310192976921907,
          -0.8686067239897918,
          -0.9559517601913429
         ],
         "yaxis": "y4"
        },
        {
         "mode": "markers",
         "name": "Actual (Alpha 0.0001)",
         "showlegend": false,
         "type": "scatter",
         "x": [
          1.0471975511965976,
          1.117010721276371,
          1.1868238913561442,
          1.2566370614359172,
          1.3264502315156903,
          1.3962634015954636,
          1.4660765716752369,
          1.53588974175501,
          1.605702911834783,
          1.6755160819145563,
          1.7453292519943295,
          1.8151424220741028,
          1.8849555921538759,
          1.9547687622336491,
          2.0245819323134224,
          2.0943951023931953,
          2.1642082724729685,
          2.234021442552742,
          2.303834612632515,
          2.3736477827122884,
          2.443460952792061,
          2.5132741228718345,
          2.5830872929516078,
          2.6529004630313806,
          2.722713633111154,
          2.792526803190927,
          2.8623399732707,
          2.9321531433504737,
          3.0019663134302466,
          3.07177948351002,
          3.141592653589793,
          3.211405823669566,
          3.2812189937493397,
          3.3510321638291125,
          3.420845333908886,
          3.490658503988659,
          3.560471674068432,
          3.6302848441482056,
          3.7000980142279785,
          3.7699111843077517,
          3.839724354387525,
          3.9095375244672983,
          3.979350694547071,
          4.049163864626845,
          4.118977034706617,
          4.1887902047863905,
          4.258603374866164,
          4.328416544945937,
          4.39822971502571,
          4.468042885105484,
          4.537856055185257,
          4.60766922526503,
          4.677482395344803,
          4.747295565424577,
          4.817108735504349,
          4.886921905584122,
          4.956735075663896,
          5.026548245743669,
          5.096361415823442,
          5.1661745859032155
         ],
         "xaxis": "x4",
         "y": [
          1.0657633794038663,
          1.0060858924589278,
          0.6953738107500972,
          0.9497989388058752,
          1.0634961223595685,
          0.8767949189043736,
          1.0343486332220913,
          1.015673105876341,
          1.0000345416592007,
          0.9683318637793322,
          1.0497616815052477,
          1.1507513323478282,
          0.8062966657176391,
          1.081424966264193,
          0.9330885658178659,
          0.9327960457089909,
          0.6585472407803852,
          0.8082812853740173,
          0.9658253757528816,
          0.5326876375912057,
          0.3461283675878534,
          0.32627940790763715,
          0.5698297888332875,
          0.8272166623925556,
          0.575290331087214,
          0.592913475321843,
          0.2905097381922862,
          0.4176111473817956,
          0.09848590276519861,
          0.1617371014730714,
          -0.04009757830103517,
          -0.15215282585994666,
          -0.11926685659607285,
          -0.27933299305685966,
          -0.07936639368747736,
          -0.31276815144070474,
          -0.34670514483794757,
          -0.5201164133487205,
          -0.34144842466993147,
          -0.6975806775926542,
          -0.5437528770025923,
          -0.747289154174978,
          -0.8840598294417767,
          -0.8614113361394199,
          -0.9497262438955346,
          -0.8979300495910152,
          -0.949665083208682,
          -0.880358364119804,
          -0.8662836158466595,
          -0.9924087649350495,
          -0.988693553534636,
          -0.9511577647976832,
          -1.0803726877190007,
          -0.8931668240301053,
          -0.868188184610875,
          -0.9542706334130864,
          -0.6110901765433163,
          -0.8134376756685893,
          -0.9440247252459114,
          -0.9531211133705031
         ],
         "yaxis": "y4"
        },
        {
         "mode": "lines",
         "name": "Predicted (Alpha 0.001)",
         "showlegend": false,
         "type": "scatter",
         "x": [
          1.0471975511965976,
          1.117010721276371,
          1.1868238913561442,
          1.2566370614359172,
          1.3264502315156903,
          1.3962634015954636,
          1.4660765716752369,
          1.53588974175501,
          1.605702911834783,
          1.6755160819145563,
          1.7453292519943295,
          1.8151424220741028,
          1.8849555921538759,
          1.9547687622336491,
          2.0245819323134224,
          2.0943951023931953,
          2.1642082724729685,
          2.234021442552742,
          2.303834612632515,
          2.3736477827122884,
          2.443460952792061,
          2.5132741228718345,
          2.5830872929516078,
          2.6529004630313806,
          2.722713633111154,
          2.792526803190927,
          2.8623399732707,
          2.9321531433504737,
          3.0019663134302466,
          3.07177948351002,
          3.141592653589793,
          3.211405823669566,
          3.2812189937493397,
          3.3510321638291125,
          3.420845333908886,
          3.490658503988659,
          3.560471674068432,
          3.6302848441482056,
          3.7000980142279785,
          3.7699111843077517,
          3.839724354387525,
          3.9095375244672983,
          3.979350694547071,
          4.049163864626845,
          4.118977034706617,
          4.1887902047863905,
          4.258603374866164,
          4.328416544945937,
          4.39822971502571,
          4.468042885105484,
          4.537856055185257,
          4.60766922526503,
          4.677482395344803,
          4.747295565424577,
          4.817108735504349,
          4.886921905584122,
          4.956735075663896,
          5.026548245743669,
          5.096361415823442,
          5.1661745859032155
         ],
         "xaxis": "x5",
         "y": [
          0.9438850210334985,
          0.9596532389634158,
          0.9726183202866283,
          0.9827243065372508,
          0.9899162692433756,
          0.9941405402523696,
          0.9953449715492773,
          0.9934792290890307,
          0.9884951258472479,
          0.9803470000471187,
          0.9689921453376229,
          0.9543913005739204,
          0.9365092077722401,
          0.9153152477615687,
          0.8907841640084636,
          0.8628968860166648,
          0.8316414645572904,
          0.7970141317139597,
          0.7590204992622294,
          0.7176769091603449,
          0.6730119498061642,
          0.6250681510897425,
          0.5739038699947495,
          0.5195953763994505,
          0.462239145592936,
          0.4019543596131031,
          0.3388856135483637,
          0.2732058150997841,
          0.20511925559950933,
          0.1348648178950027,
          0.0627192705461338,
          -0.010999421914982106,
          -0.08592886697578433,
          -0.16165921384737764,
          -0.23773048337440367,
          -0.3136304584665364,
          -0.3887933849904984,
          -0.4625997916134459,
          -0.5343778058259447,
          -0.6034064236910711,
          -0.6689212843118197,
          -0.7301236082920776,
          -0.7861930844735512,
          -0.8363056330400305,
          -0.8796571379746412,
          -0.9154944303405159,
          -0.9431550186738243,
          -0.9621173069297637,
          -0.9720633171802506,
          -0.9729562471942199,
          -0.965135546019277,
          -0.9494325879445744,
          -0.9273104713354006,
          -0.9010319687484255,
          -0.8738602138286079,
          -0.8502973345531587,
          -0.8363669376845175,
          -0.8399471225714812,
          -0.8711615609635703,
          -0.9428371310966013
         ],
         "yaxis": "y5"
        },
        {
         "mode": "markers",
         "name": "Actual (Alpha 0.001)",
         "showlegend": false,
         "type": "scatter",
         "x": [
          1.0471975511965976,
          1.117010721276371,
          1.1868238913561442,
          1.2566370614359172,
          1.3264502315156903,
          1.3962634015954636,
          1.4660765716752369,
          1.53588974175501,
          1.605702911834783,
          1.6755160819145563,
          1.7453292519943295,
          1.8151424220741028,
          1.8849555921538759,
          1.9547687622336491,
          2.0245819323134224,
          2.0943951023931953,
          2.1642082724729685,
          2.234021442552742,
          2.303834612632515,
          2.3736477827122884,
          2.443460952792061,
          2.5132741228718345,
          2.5830872929516078,
          2.6529004630313806,
          2.722713633111154,
          2.792526803190927,
          2.8623399732707,
          2.9321531433504737,
          3.0019663134302466,
          3.07177948351002,
          3.141592653589793,
          3.211405823669566,
          3.2812189937493397,
          3.3510321638291125,
          3.420845333908886,
          3.490658503988659,
          3.560471674068432,
          3.6302848441482056,
          3.7000980142279785,
          3.7699111843077517,
          3.839724354387525,
          3.9095375244672983,
          3.979350694547071,
          4.049163864626845,
          4.118977034706617,
          4.1887902047863905,
          4.258603374866164,
          4.328416544945937,
          4.39822971502571,
          4.468042885105484,
          4.537856055185257,
          4.60766922526503,
          4.677482395344803,
          4.747295565424577,
          4.817108735504349,
          4.886921905584122,
          4.956735075663896,
          5.026548245743669,
          5.096361415823442,
          5.1661745859032155
         ],
         "xaxis": "x5",
         "y": [
          1.0657633794038663,
          1.0060858924589278,
          0.6953738107500972,
          0.9497989388058752,
          1.0634961223595685,
          0.8767949189043736,
          1.0343486332220913,
          1.015673105876341,
          1.0000345416592007,
          0.9683318637793322,
          1.0497616815052477,
          1.1507513323478282,
          0.8062966657176391,
          1.081424966264193,
          0.9330885658178659,
          0.9327960457089909,
          0.6585472407803852,
          0.8082812853740173,
          0.9658253757528816,
          0.5326876375912057,
          0.3461283675878534,
          0.32627940790763715,
          0.5698297888332875,
          0.8272166623925556,
          0.575290331087214,
          0.592913475321843,
          0.2905097381922862,
          0.4176111473817956,
          0.09848590276519861,
          0.1617371014730714,
          -0.04009757830103517,
          -0.15215282585994666,
          -0.11926685659607285,
          -0.27933299305685966,
          -0.07936639368747736,
          -0.31276815144070474,
          -0.34670514483794757,
          -0.5201164133487205,
          -0.34144842466993147,
          -0.6975806775926542,
          -0.5437528770025923,
          -0.747289154174978,
          -0.8840598294417767,
          -0.8614113361394199,
          -0.9497262438955346,
          -0.8979300495910152,
          -0.949665083208682,
          -0.880358364119804,
          -0.8662836158466595,
          -0.9924087649350495,
          -0.988693553534636,
          -0.9511577647976832,
          -1.0803726877190007,
          -0.8931668240301053,
          -0.868188184610875,
          -0.9542706334130864,
          -0.6110901765433163,
          -0.8134376756685893,
          -0.9440247252459114,
          -0.9531211133705031
         ],
         "yaxis": "y5"
        },
        {
         "mode": "lines",
         "name": "Predicted (Alpha 0.01)",
         "showlegend": false,
         "type": "scatter",
         "x": [
          1.0471975511965976,
          1.117010721276371,
          1.1868238913561442,
          1.2566370614359172,
          1.3264502315156903,
          1.3962634015954636,
          1.4660765716752369,
          1.53588974175501,
          1.605702911834783,
          1.6755160819145563,
          1.7453292519943295,
          1.8151424220741028,
          1.8849555921538759,
          1.9547687622336491,
          2.0245819323134224,
          2.0943951023931953,
          2.1642082724729685,
          2.234021442552742,
          2.303834612632515,
          2.3736477827122884,
          2.443460952792061,
          2.5132741228718345,
          2.5830872929516078,
          2.6529004630313806,
          2.722713633111154,
          2.792526803190927,
          2.8623399732707,
          2.9321531433504737,
          3.0019663134302466,
          3.07177948351002,
          3.141592653589793,
          3.211405823669566,
          3.2812189937493397,
          3.3510321638291125,
          3.420845333908886,
          3.490658503988659,
          3.560471674068432,
          3.6302848441482056,
          3.7000980142279785,
          3.7699111843077517,
          3.839724354387525,
          3.9095375244672983,
          3.979350694547071,
          4.049163864626845,
          4.118977034706617,
          4.1887902047863905,
          4.258603374866164,
          4.328416544945937,
          4.39822971502571,
          4.468042885105484,
          4.537856055185257,
          4.60766922526503,
          4.677482395344803,
          4.747295565424577,
          4.817108735504349,
          4.886921905584122,
          4.956735075663896,
          5.026548245743669,
          5.096361415823442,
          5.1661745859032155
         ],
         "xaxis": "x6",
         "y": [
          0.9671486269973805,
          0.9772083037964461,
          0.9850913905527254,
          0.990720150373549,
          0.9940160602256486,
          0.9949000743106653,
          0.993292934849812,
          0.9891155364548546,
          0.9822893508885875,
          0.9727369196677573,
          0.9603824226243214,
          0.9451523312026187,
          0.926976155911505,
          0.9057872979473249,
          0.8815240155249693,
          0.8541305158618145,
          0.8235581840060036,
          0.789766959729086,
          0.7527268734446024,
          0.7124197514866738,
          0.6688410999886114,
          0.6220021749264777,
          0.5719322435023679,
          0.5186810387810281,
          0.46232140518084563,
          0.40295212684833537,
          0.3407009238755282,
          0.27572759247973216,
          0.20822725434491685,
          0.13843366697178267,
          0.06662253070203836,
          -0.0068852913765051,
          -0.08172074767672513,
          -0.15746390112710315,
          -0.2336417281286087,
          -0.30972661886099595,
          -0.38513582903617455,
          -0.4592321852088387,
          -0.5313264060477303,
          -0.6006814716033197,
          -0.6665195527459773,
          -0.7280321048768124,
          -0.7843938351408437,
          -0.8347813722446603,
          -0.8783976042893931,
          -0.9145028046226606,
          -0.9424538406058326,
          -0.9617529575812479,
          -0.9721078525957514,
          -0.9735050021857075,
          -0.966298488567394,
          -0.951316881952157,
          -0.9299910867140616,
          -0.9045064493399542,
          -0.8779828603311063,
          -0.8546870646441103,
          -0.8402819303167026,
          -0.8421180174184899,
          -0.8695734445508676,
          -0.9344487733261762
         ],
         "yaxis": "y6"
        },
        {
         "mode": "markers",
         "name": "Actual (Alpha 0.01)",
         "showlegend": false,
         "type": "scatter",
         "x": [
          1.0471975511965976,
          1.117010721276371,
          1.1868238913561442,
          1.2566370614359172,
          1.3264502315156903,
          1.3962634015954636,
          1.4660765716752369,
          1.53588974175501,
          1.605702911834783,
          1.6755160819145563,
          1.7453292519943295,
          1.8151424220741028,
          1.8849555921538759,
          1.9547687622336491,
          2.0245819323134224,
          2.0943951023931953,
          2.1642082724729685,
          2.234021442552742,
          2.303834612632515,
          2.3736477827122884,
          2.443460952792061,
          2.5132741228718345,
          2.5830872929516078,
          2.6529004630313806,
          2.722713633111154,
          2.792526803190927,
          2.8623399732707,
          2.9321531433504737,
          3.0019663134302466,
          3.07177948351002,
          3.141592653589793,
          3.211405823669566,
          3.2812189937493397,
          3.3510321638291125,
          3.420845333908886,
          3.490658503988659,
          3.560471674068432,
          3.6302848441482056,
          3.7000980142279785,
          3.7699111843077517,
          3.839724354387525,
          3.9095375244672983,
          3.979350694547071,
          4.049163864626845,
          4.118977034706617,
          4.1887902047863905,
          4.258603374866164,
          4.328416544945937,
          4.39822971502571,
          4.468042885105484,
          4.537856055185257,
          4.60766922526503,
          4.677482395344803,
          4.747295565424577,
          4.817108735504349,
          4.886921905584122,
          4.956735075663896,
          5.026548245743669,
          5.096361415823442,
          5.1661745859032155
         ],
         "xaxis": "x6",
         "y": [
          1.0657633794038663,
          1.0060858924589278,
          0.6953738107500972,
          0.9497989388058752,
          1.0634961223595685,
          0.8767949189043736,
          1.0343486332220913,
          1.015673105876341,
          1.0000345416592007,
          0.9683318637793322,
          1.0497616815052477,
          1.1507513323478282,
          0.8062966657176391,
          1.081424966264193,
          0.9330885658178659,
          0.9327960457089909,
          0.6585472407803852,
          0.8082812853740173,
          0.9658253757528816,
          0.5326876375912057,
          0.3461283675878534,
          0.32627940790763715,
          0.5698297888332875,
          0.8272166623925556,
          0.575290331087214,
          0.592913475321843,
          0.2905097381922862,
          0.4176111473817956,
          0.09848590276519861,
          0.1617371014730714,
          -0.04009757830103517,
          -0.15215282585994666,
          -0.11926685659607285,
          -0.27933299305685966,
          -0.07936639368747736,
          -0.31276815144070474,
          -0.34670514483794757,
          -0.5201164133487205,
          -0.34144842466993147,
          -0.6975806775926542,
          -0.5437528770025923,
          -0.747289154174978,
          -0.8840598294417767,
          -0.8614113361394199,
          -0.9497262438955346,
          -0.8979300495910152,
          -0.949665083208682,
          -0.880358364119804,
          -0.8662836158466595,
          -0.9924087649350495,
          -0.988693553534636,
          -0.9511577647976832,
          -1.0803726877190007,
          -0.8931668240301053,
          -0.868188184610875,
          -0.9542706334130864,
          -0.6110901765433163,
          -0.8134376756685893,
          -0.9440247252459114,
          -0.9531211133705031
         ],
         "yaxis": "y6"
        },
        {
         "mode": "lines",
         "name": "Predicted (Alpha 1)",
         "showlegend": false,
         "type": "scatter",
         "x": [
          1.0471975511965976,
          1.117010721276371,
          1.1868238913561442,
          1.2566370614359172,
          1.3264502315156903,
          1.3962634015954636,
          1.4660765716752369,
          1.53588974175501,
          1.605702911834783,
          1.6755160819145563,
          1.7453292519943295,
          1.8151424220741028,
          1.8849555921538759,
          1.9547687622336491,
          2.0245819323134224,
          2.0943951023931953,
          2.1642082724729685,
          2.234021442552742,
          2.303834612632515,
          2.3736477827122884,
          2.443460952792061,
          2.5132741228718345,
          2.5830872929516078,
          2.6529004630313806,
          2.722713633111154,
          2.792526803190927,
          2.8623399732707,
          2.9321531433504737,
          3.0019663134302466,
          3.07177948351002,
          3.141592653589793,
          3.211405823669566,
          3.2812189937493397,
          3.3510321638291125,
          3.420845333908886,
          3.490658503988659,
          3.560471674068432,
          3.6302848441482056,
          3.7000980142279785,
          3.7699111843077517,
          3.839724354387525,
          3.9095375244672983,
          3.979350694547071,
          4.049163864626845,
          4.118977034706617,
          4.1887902047863905,
          4.258603374866164,
          4.328416544945937,
          4.39822971502571,
          4.468042885105484,
          4.537856055185257,
          4.60766922526503,
          4.677482395344803,
          4.747295565424577,
          4.817108735504349,
          4.886921905584122,
          4.956735075663896,
          5.026548245743669,
          5.096361415823442,
          5.1661745859032155
         ],
         "xaxis": "x7",
         "y": [
          1.1512758550791755,
          1.1312958654490657,
          1.1104997401128855,
          1.0888571126554625,
          1.0663367666748138,
          1.042906665929385,
          1.0185339956293766,
          0.993185216714864,
          0.9668261352117078,
          0.9394219890314611,
          0.9109375548853937,
          0.8813372783167974,
          0.8505854302212481,
          0.8186462936224457,
          0.7854843849021829,
          0.7510647141469586,
          0.7153530897701795,
          0.6783164730963674,
          0.639923389150016,
          0.6001444004732751,
          0.5589526513987172,
          0.5163244908197605,
          0.4722401821238421,
          0.42668470957196436,
          0.3796486910103909,
          0.3311294073708359,
          0.28113195993636847,
          0.2296705667998751,
          0.1767700102949114,
          0.12246724740548684,
          0.06681319522739684,
          0.009874703419400221,
          -0.048263274797629506,
          -0.10749530221351547,
          -0.1676928579285717,
          -0.22870150999437286,
          -0.29033785396796347,
          -0.3523862134947101,
          -0.4145951022571781,
          -0.47667345063527244,
          -0.5382866053346862,
          -0.5990521161880568,
          -0.6585353314617074,
          -0.7162448314716319,
          -0.7716277403030805,
          -0.8240649671343963,
          -0.872866442302329,
          -0.9172664290487033,
          -0.9564190101145786,
          -0.9893938692797083,
          -1.0151725118892234,
          -1.0326450957004552,
          -1.0406080743842403,
          -1.0377628911215746,
          -1.0227159993758714,
          -0.9939805325564784,
          -0.949979994421083,
          -0.8890543982337878,
          -0.8094693454847597,
          -0.7094286050143438
         ],
         "yaxis": "y7"
        },
        {
         "mode": "markers",
         "name": "Actual (Alpha 1)",
         "showlegend": false,
         "type": "scatter",
         "x": [
          1.0471975511965976,
          1.117010721276371,
          1.1868238913561442,
          1.2566370614359172,
          1.3264502315156903,
          1.3962634015954636,
          1.4660765716752369,
          1.53588974175501,
          1.605702911834783,
          1.6755160819145563,
          1.7453292519943295,
          1.8151424220741028,
          1.8849555921538759,
          1.9547687622336491,
          2.0245819323134224,
          2.0943951023931953,
          2.1642082724729685,
          2.234021442552742,
          2.303834612632515,
          2.3736477827122884,
          2.443460952792061,
          2.5132741228718345,
          2.5830872929516078,
          2.6529004630313806,
          2.722713633111154,
          2.792526803190927,
          2.8623399732707,
          2.9321531433504737,
          3.0019663134302466,
          3.07177948351002,
          3.141592653589793,
          3.211405823669566,
          3.2812189937493397,
          3.3510321638291125,
          3.420845333908886,
          3.490658503988659,
          3.560471674068432,
          3.6302848441482056,
          3.7000980142279785,
          3.7699111843077517,
          3.839724354387525,
          3.9095375244672983,
          3.979350694547071,
          4.049163864626845,
          4.118977034706617,
          4.1887902047863905,
          4.258603374866164,
          4.328416544945937,
          4.39822971502571,
          4.468042885105484,
          4.537856055185257,
          4.60766922526503,
          4.677482395344803,
          4.747295565424577,
          4.817108735504349,
          4.886921905584122,
          4.956735075663896,
          5.026548245743669,
          5.096361415823442,
          5.1661745859032155
         ],
         "xaxis": "x7",
         "y": [
          1.0657633794038663,
          1.0060858924589278,
          0.6953738107500972,
          0.9497989388058752,
          1.0634961223595685,
          0.8767949189043736,
          1.0343486332220913,
          1.015673105876341,
          1.0000345416592007,
          0.9683318637793322,
          1.0497616815052477,
          1.1507513323478282,
          0.8062966657176391,
          1.081424966264193,
          0.9330885658178659,
          0.9327960457089909,
          0.6585472407803852,
          0.8082812853740173,
          0.9658253757528816,
          0.5326876375912057,
          0.3461283675878534,
          0.32627940790763715,
          0.5698297888332875,
          0.8272166623925556,
          0.575290331087214,
          0.592913475321843,
          0.2905097381922862,
          0.4176111473817956,
          0.09848590276519861,
          0.1617371014730714,
          -0.04009757830103517,
          -0.15215282585994666,
          -0.11926685659607285,
          -0.27933299305685966,
          -0.07936639368747736,
          -0.31276815144070474,
          -0.34670514483794757,
          -0.5201164133487205,
          -0.34144842466993147,
          -0.6975806775926542,
          -0.5437528770025923,
          -0.747289154174978,
          -0.8840598294417767,
          -0.8614113361394199,
          -0.9497262438955346,
          -0.8979300495910152,
          -0.949665083208682,
          -0.880358364119804,
          -0.8662836158466595,
          -0.9924087649350495,
          -0.988693553534636,
          -0.9511577647976832,
          -1.0803726877190007,
          -0.8931668240301053,
          -0.868188184610875,
          -0.9542706334130864,
          -0.6110901765433163,
          -0.8134376756685893,
          -0.9440247252459114,
          -0.9531211133705031
         ],
         "yaxis": "y7"
        },
        {
         "mode": "lines",
         "name": "Predicted (Alpha 5)",
         "showlegend": false,
         "type": "scatter",
         "x": [
          1.0471975511965976,
          1.117010721276371,
          1.1868238913561442,
          1.2566370614359172,
          1.3264502315156903,
          1.3962634015954636,
          1.4660765716752369,
          1.53588974175501,
          1.605702911834783,
          1.6755160819145563,
          1.7453292519943295,
          1.8151424220741028,
          1.8849555921538759,
          1.9547687622336491,
          2.0245819323134224,
          2.0943951023931953,
          2.1642082724729685,
          2.234021442552742,
          2.303834612632515,
          2.3736477827122884,
          2.443460952792061,
          2.5132741228718345,
          2.5830872929516078,
          2.6529004630313806,
          2.722713633111154,
          2.792526803190927,
          2.8623399732707,
          2.9321531433504737,
          3.0019663134302466,
          3.07177948351002,
          3.141592653589793,
          3.211405823669566,
          3.2812189937493397,
          3.3510321638291125,
          3.420845333908886,
          3.490658503988659,
          3.560471674068432,
          3.6302848441482056,
          3.7000980142279785,
          3.7699111843077517,
          3.839724354387525,
          3.9095375244672983,
          3.979350694547071,
          4.049163864626845,
          4.118977034706617,
          4.1887902047863905,
          4.258603374866164,
          4.328416544945937,
          4.39822971502571,
          4.468042885105484,
          4.537856055185257,
          4.60766922526503,
          4.677482395344803,
          4.747295565424577,
          4.817108735504349,
          4.886921905584122,
          4.956735075663896,
          5.026548245743669,
          5.096361415823442,
          5.1661745859032155
         ],
         "xaxis": "x8",
         "y": [
          1.1244427459119613,
          1.1018649007487156,
          1.0787055361820266,
          1.054943706483615,
          1.0305576618099423,
          1.0055248299404382,
          0.9798218006577357,
          0.9534243135263936,
          0.9263072499737844,
          0.8984446307502951,
          0.8698096200499671,
          0.8403745378123367,
          0.810110882007283,
          0.7789893630338476,
          0.7469799527488984,
          0.7140519510908304,
          0.6801740737872092,
          0.6453145652446032,
          0.6094413414265668,
          0.5725221683463261,
          0.5345248827503909,
          0.49541766266644327,
          0.4551693567540025,
          0.41374988285257075,
          0.3711307077950427,
          0.32728542247284836,
          0.28219042833565045,
          0.2358257540180428,
          0.18817602364809607,
          0.13923160165151005,
          0.08898994256895504,
          0.03745717860620905,
          -0.015350017604214602,
          -0.06940225217051141,
          -0.12465486210527255,
          -0.1810449447086658,
          -0.23848790069481324,
          -0.2968734189366702,
          -0.35606082100586867,
          -0.4158736728239124,
          -0.47609355859911984,
          -0.5364528986687932,
          -0.5966266777557847,
          -0.6562229333286296,
          -0.7147718350574775,
          -0.7717131656033547,
          -0.8263819899702577,
          -0.8779922751774407,
          -0.9256181938453198,
          -0.9681728141878586,
          -1.0043838446034306,
          -1.032766063271637,
          -1.0515900215911413,
          -1.0588465646068372,
          -1.0522066614237433,
          -1.0289759836152612,
          -0.9860436094040143,
          -0.9198241654959658,
          -0.826192646425192,
          -0.7004110726292467
         ],
         "yaxis": "y8"
        },
        {
         "mode": "markers",
         "name": "Actual (Alpha 5)",
         "showlegend": false,
         "type": "scatter",
         "x": [
          1.0471975511965976,
          1.117010721276371,
          1.1868238913561442,
          1.2566370614359172,
          1.3264502315156903,
          1.3962634015954636,
          1.4660765716752369,
          1.53588974175501,
          1.605702911834783,
          1.6755160819145563,
          1.7453292519943295,
          1.8151424220741028,
          1.8849555921538759,
          1.9547687622336491,
          2.0245819323134224,
          2.0943951023931953,
          2.1642082724729685,
          2.234021442552742,
          2.303834612632515,
          2.3736477827122884,
          2.443460952792061,
          2.5132741228718345,
          2.5830872929516078,
          2.6529004630313806,
          2.722713633111154,
          2.792526803190927,
          2.8623399732707,
          2.9321531433504737,
          3.0019663134302466,
          3.07177948351002,
          3.141592653589793,
          3.211405823669566,
          3.2812189937493397,
          3.3510321638291125,
          3.420845333908886,
          3.490658503988659,
          3.560471674068432,
          3.6302848441482056,
          3.7000980142279785,
          3.7699111843077517,
          3.839724354387525,
          3.9095375244672983,
          3.979350694547071,
          4.049163864626845,
          4.118977034706617,
          4.1887902047863905,
          4.258603374866164,
          4.328416544945937,
          4.39822971502571,
          4.468042885105484,
          4.537856055185257,
          4.60766922526503,
          4.677482395344803,
          4.747295565424577,
          4.817108735504349,
          4.886921905584122,
          4.956735075663896,
          5.026548245743669,
          5.096361415823442,
          5.1661745859032155
         ],
         "xaxis": "x8",
         "y": [
          1.0657633794038663,
          1.0060858924589278,
          0.6953738107500972,
          0.9497989388058752,
          1.0634961223595685,
          0.8767949189043736,
          1.0343486332220913,
          1.015673105876341,
          1.0000345416592007,
          0.9683318637793322,
          1.0497616815052477,
          1.1507513323478282,
          0.8062966657176391,
          1.081424966264193,
          0.9330885658178659,
          0.9327960457089909,
          0.6585472407803852,
          0.8082812853740173,
          0.9658253757528816,
          0.5326876375912057,
          0.3461283675878534,
          0.32627940790763715,
          0.5698297888332875,
          0.8272166623925556,
          0.575290331087214,
          0.592913475321843,
          0.2905097381922862,
          0.4176111473817956,
          0.09848590276519861,
          0.1617371014730714,
          -0.04009757830103517,
          -0.15215282585994666,
          -0.11926685659607285,
          -0.27933299305685966,
          -0.07936639368747736,
          -0.31276815144070474,
          -0.34670514483794757,
          -0.5201164133487205,
          -0.34144842466993147,
          -0.6975806775926542,
          -0.5437528770025923,
          -0.747289154174978,
          -0.8840598294417767,
          -0.8614113361394199,
          -0.9497262438955346,
          -0.8979300495910152,
          -0.949665083208682,
          -0.880358364119804,
          -0.8662836158466595,
          -0.9924087649350495,
          -0.988693553534636,
          -0.9511577647976832,
          -1.0803726877190007,
          -0.8931668240301053,
          -0.868188184610875,
          -0.9542706334130864,
          -0.6110901765433163,
          -0.8134376756685893,
          -0.9440247252459114,
          -0.9531211133705031
         ],
         "yaxis": "y8"
        },
        {
         "mode": "lines",
         "name": "Predicted (Alpha 10)",
         "showlegend": false,
         "type": "scatter",
         "x": [
          1.0471975511965976,
          1.117010721276371,
          1.1868238913561442,
          1.2566370614359172,
          1.3264502315156903,
          1.3962634015954636,
          1.4660765716752369,
          1.53588974175501,
          1.605702911834783,
          1.6755160819145563,
          1.7453292519943295,
          1.8151424220741028,
          1.8849555921538759,
          1.9547687622336491,
          2.0245819323134224,
          2.0943951023931953,
          2.1642082724729685,
          2.234021442552742,
          2.303834612632515,
          2.3736477827122884,
          2.443460952792061,
          2.5132741228718345,
          2.5830872929516078,
          2.6529004630313806,
          2.722713633111154,
          2.792526803190927,
          2.8623399732707,
          2.9321531433504737,
          3.0019663134302466,
          3.07177948351002,
          3.141592653589793,
          3.211405823669566,
          3.2812189937493397,
          3.3510321638291125,
          3.420845333908886,
          3.490658503988659,
          3.560471674068432,
          3.6302848441482056,
          3.7000980142279785,
          3.7699111843077517,
          3.839724354387525,
          3.9095375244672983,
          3.979350694547071,
          4.049163864626845,
          4.118977034706617,
          4.1887902047863905,
          4.258603374866164,
          4.328416544945937,
          4.39822971502571,
          4.468042885105484,
          4.537856055185257,
          4.60766922526503,
          4.677482395344803,
          4.747295565424577,
          4.817108735504349,
          4.886921905584122,
          4.956735075663896,
          5.026548245743669,
          5.096361415823442,
          5.1661745859032155
         ],
         "xaxis": "x9",
         "y": [
          1.073472488282626,
          1.052168819947955,
          1.0303436319214612,
          1.0079777827533536,
          0.9850513194733627,
          0.9615434483791186,
          0.9374325066380774,
          0.912695935216943,
          0.8873102537729104,
          0.8612510382856714,
          0.8344929023825787,
          0.8070094835168807,
          0.7787734354067029,
          0.7497564284375426,
          0.7199291600817587,
          0.6892613778043042,
          0.657721917415758,
          0.6252787604140193,
          0.5918991145391421,
          0.5575495225680183,
          0.5221960053154467,
          0.48580424590653326,
          0.4483398236660874,
          0.40976850746041565,
          0.37005662005575785,
          0.32917148705931415,
          0.28708198632113313,
          0.24375921634031217,
          0.19917730528403504,
          0.1533143857452745,
          0.10615376439267611,
          0.05768532026854067,
          0.007907170739217456,
          -0.04317234992480366,
          -0.09553234757762889,
          -0.14913660138328078,
          -0.2039303050034047,
          -0.25983623780514614,
          -0.3167502770272746,
          -0.3745361493738514,
          -0.4330193064968404,
          -0.4919797931186911,
          -0.5511439589550196,
          -0.6101748459327142,
          -0.6686610602500653,
          -0.7261039143651763,
          -0.7819025967803045,
          -0.8353370972463029,
          -0.8855485814546454,
          -0.9315168721037816,
          -0.972034652086423,
          -1.005677960083867,
          -1.0307724986842033,
          -1.0453552198459395,
          -1.0471305916591263,
          -1.033420883431927,
          -1.0011097326368175,
          -0.946578176635931,
          -0.8656322437798084,
          -0.7534211018078508
         ],
         "yaxis": "y9"
        },
        {
         "mode": "markers",
         "name": "Actual (Alpha 10)",
         "showlegend": false,
         "type": "scatter",
         "x": [
          1.0471975511965976,
          1.117010721276371,
          1.1868238913561442,
          1.2566370614359172,
          1.3264502315156903,
          1.3962634015954636,
          1.4660765716752369,
          1.53588974175501,
          1.605702911834783,
          1.6755160819145563,
          1.7453292519943295,
          1.8151424220741028,
          1.8849555921538759,
          1.9547687622336491,
          2.0245819323134224,
          2.0943951023931953,
          2.1642082724729685,
          2.234021442552742,
          2.303834612632515,
          2.3736477827122884,
          2.443460952792061,
          2.5132741228718345,
          2.5830872929516078,
          2.6529004630313806,
          2.722713633111154,
          2.792526803190927,
          2.8623399732707,
          2.9321531433504737,
          3.0019663134302466,
          3.07177948351002,
          3.141592653589793,
          3.211405823669566,
          3.2812189937493397,
          3.3510321638291125,
          3.420845333908886,
          3.490658503988659,
          3.560471674068432,
          3.6302848441482056,
          3.7000980142279785,
          3.7699111843077517,
          3.839724354387525,
          3.9095375244672983,
          3.979350694547071,
          4.049163864626845,
          4.118977034706617,
          4.1887902047863905,
          4.258603374866164,
          4.328416544945937,
          4.39822971502571,
          4.468042885105484,
          4.537856055185257,
          4.60766922526503,
          4.677482395344803,
          4.747295565424577,
          4.817108735504349,
          4.886921905584122,
          4.956735075663896,
          5.026548245743669,
          5.096361415823442,
          5.1661745859032155
         ],
         "xaxis": "x9",
         "y": [
          1.0657633794038663,
          1.0060858924589278,
          0.6953738107500972,
          0.9497989388058752,
          1.0634961223595685,
          0.8767949189043736,
          1.0343486332220913,
          1.015673105876341,
          1.0000345416592007,
          0.9683318637793322,
          1.0497616815052477,
          1.1507513323478282,
          0.8062966657176391,
          1.081424966264193,
          0.9330885658178659,
          0.9327960457089909,
          0.6585472407803852,
          0.8082812853740173,
          0.9658253757528816,
          0.5326876375912057,
          0.3461283675878534,
          0.32627940790763715,
          0.5698297888332875,
          0.8272166623925556,
          0.575290331087214,
          0.592913475321843,
          0.2905097381922862,
          0.4176111473817956,
          0.09848590276519861,
          0.1617371014730714,
          -0.04009757830103517,
          -0.15215282585994666,
          -0.11926685659607285,
          -0.27933299305685966,
          -0.07936639368747736,
          -0.31276815144070474,
          -0.34670514483794757,
          -0.5201164133487205,
          -0.34144842466993147,
          -0.6975806775926542,
          -0.5437528770025923,
          -0.747289154174978,
          -0.8840598294417767,
          -0.8614113361394199,
          -0.9497262438955346,
          -0.8979300495910152,
          -0.949665083208682,
          -0.880358364119804,
          -0.8662836158466595,
          -0.9924087649350495,
          -0.988693553534636,
          -0.9511577647976832,
          -1.0803726877190007,
          -0.8931668240301053,
          -0.868188184610875,
          -0.9542706334130864,
          -0.6110901765433163,
          -0.8134376756685893,
          -0.9440247252459114,
          -0.9531211133705031
         ],
         "yaxis": "y9"
        },
        {
         "mode": "lines",
         "name": "Predicted (Alpha 20)",
         "showlegend": false,
         "type": "scatter",
         "x": [
          1.0471975511965976,
          1.117010721276371,
          1.1868238913561442,
          1.2566370614359172,
          1.3264502315156903,
          1.3962634015954636,
          1.4660765716752369,
          1.53588974175501,
          1.605702911834783,
          1.6755160819145563,
          1.7453292519943295,
          1.8151424220741028,
          1.8849555921538759,
          1.9547687622336491,
          2.0245819323134224,
          2.0943951023931953,
          2.1642082724729685,
          2.234021442552742,
          2.303834612632515,
          2.3736477827122884,
          2.443460952792061,
          2.5132741228718345,
          2.5830872929516078,
          2.6529004630313806,
          2.722713633111154,
          2.792526803190927,
          2.8623399732707,
          2.9321531433504737,
          3.0019663134302466,
          3.07177948351002,
          3.141592653589793,
          3.211405823669566,
          3.2812189937493397,
          3.3510321638291125,
          3.420845333908886,
          3.490658503988659,
          3.560471674068432,
          3.6302848441482056,
          3.7000980142279785,
          3.7699111843077517,
          3.839724354387525,
          3.9095375244672983,
          3.979350694547071,
          4.049163864626845,
          4.118977034706617,
          4.1887902047863905,
          4.258603374866164,
          4.328416544945937,
          4.39822971502571,
          4.468042885105484,
          4.537856055185257,
          4.60766922526503,
          4.677482395344803,
          4.747295565424577,
          4.817108735504349,
          4.886921905584122,
          4.956735075663896,
          5.026548245743669,
          5.096361415823442,
          5.1661745859032155
         ],
         "xaxis": "x10",
         "y": [
          0.9920065056598055,
          0.9730325991472669,
          0.9536006891981755,
          0.9336935122366389,
          0.9132930142012898,
          0.8923803147485299,
          0.8709356709276458,
          0.8489384406323531,
          0.8263670462232436,
          0.8031989388256418,
          0.7794105639414785,
          0.7549773291766964,
          0.7298735750828713,
          0.7040725503496104,
          0.6775463928702995,
          0.6502661185465646,
          0.6222016201063492,
          0.5933216786982728,
          0.5635939916040527,
          0.5329852200963424,
          0.5014610622784678,
          0.4689863566947672,
          0.43552522361769197,
          0.40104125222545034,
          0.36549774341005903,
          0.32885801973187206,
          0.29108581609860285,
          0.25214576713442405,
          0.21200400996242016,
          0.17062892430110896,
          0.12799203542817503,
          0.08406910975317639,
          0.03884147753373325,
          -0.007702377258405134,
          -0.05556491368118587,
          -0.1047372638486457,
          -0.15519653487194873,
          -0.20690261224276685,
          -0.25979438389783766,
          -0.31378529259800975,
          -0.3687581111884025,
          -0.4245588206209612,
          -0.4809894541448442,
          -0.5377997526169527,
          -0.5946774552513963,
          -0.651237027092485,
          -0.7070065988219821,
          -0.7614128659394657,
          -0.8137636626049719,
          -0.8632278902038393,
          -0.9088124416590605,
          -0.9493357193254848,
          -0.9833972965751042,
          -1.0093432205170685,
          -1.025226395253563,
          -1.028761421184877,
          -1.0172731956415852,
          -0.9876385030008935,
          -0.936219737862098,
          -0.8587898121971395
         ],
         "yaxis": "y10"
        },
        {
         "mode": "markers",
         "name": "Actual (Alpha 20)",
         "showlegend": false,
         "type": "scatter",
         "x": [
          1.0471975511965976,
          1.117010721276371,
          1.1868238913561442,
          1.2566370614359172,
          1.3264502315156903,
          1.3962634015954636,
          1.4660765716752369,
          1.53588974175501,
          1.605702911834783,
          1.6755160819145563,
          1.7453292519943295,
          1.8151424220741028,
          1.8849555921538759,
          1.9547687622336491,
          2.0245819323134224,
          2.0943951023931953,
          2.1642082724729685,
          2.234021442552742,
          2.303834612632515,
          2.3736477827122884,
          2.443460952792061,
          2.5132741228718345,
          2.5830872929516078,
          2.6529004630313806,
          2.722713633111154,
          2.792526803190927,
          2.8623399732707,
          2.9321531433504737,
          3.0019663134302466,
          3.07177948351002,
          3.141592653589793,
          3.211405823669566,
          3.2812189937493397,
          3.3510321638291125,
          3.420845333908886,
          3.490658503988659,
          3.560471674068432,
          3.6302848441482056,
          3.7000980142279785,
          3.7699111843077517,
          3.839724354387525,
          3.9095375244672983,
          3.979350694547071,
          4.049163864626845,
          4.118977034706617,
          4.1887902047863905,
          4.258603374866164,
          4.328416544945937,
          4.39822971502571,
          4.468042885105484,
          4.537856055185257,
          4.60766922526503,
          4.677482395344803,
          4.747295565424577,
          4.817108735504349,
          4.886921905584122,
          4.956735075663896,
          5.026548245743669,
          5.096361415823442,
          5.1661745859032155
         ],
         "xaxis": "x10",
         "y": [
          1.0657633794038663,
          1.0060858924589278,
          0.6953738107500972,
          0.9497989388058752,
          1.0634961223595685,
          0.8767949189043736,
          1.0343486332220913,
          1.015673105876341,
          1.0000345416592007,
          0.9683318637793322,
          1.0497616815052477,
          1.1507513323478282,
          0.8062966657176391,
          1.081424966264193,
          0.9330885658178659,
          0.9327960457089909,
          0.6585472407803852,
          0.8082812853740173,
          0.9658253757528816,
          0.5326876375912057,
          0.3461283675878534,
          0.32627940790763715,
          0.5698297888332875,
          0.8272166623925556,
          0.575290331087214,
          0.592913475321843,
          0.2905097381922862,
          0.4176111473817956,
          0.09848590276519861,
          0.1617371014730714,
          -0.04009757830103517,
          -0.15215282585994666,
          -0.11926685659607285,
          -0.27933299305685966,
          -0.07936639368747736,
          -0.31276815144070474,
          -0.34670514483794757,
          -0.5201164133487205,
          -0.34144842466993147,
          -0.6975806775926542,
          -0.5437528770025923,
          -0.747289154174978,
          -0.8840598294417767,
          -0.8614113361394199,
          -0.9497262438955346,
          -0.8979300495910152,
          -0.949665083208682,
          -0.880358364119804,
          -0.8662836158466595,
          -0.9924087649350495,
          -0.988693553534636,
          -0.9511577647976832,
          -1.0803726877190007,
          -0.8931668240301053,
          -0.868188184610875,
          -0.9542706334130864,
          -0.6110901765433163,
          -0.8134376756685893,
          -0.9440247252459114,
          -0.9531211133705031
         ],
         "yaxis": "y10"
        }
       ],
       "layout": {
        "annotations": [
         {
          "font": {
           "size": 16
          },
          "showarrow": false,
          "text": "alpha: 1e-15",
          "x": 0.225,
          "xanchor": "center",
          "xref": "paper",
          "y": 1,
          "yanchor": "bottom",
          "yref": "paper"
         },
         {
          "font": {
           "size": 16
          },
          "showarrow": false,
          "text": "alpha: 1e-10",
          "x": 0.775,
          "xanchor": "center",
          "xref": "paper",
          "y": 1,
          "yanchor": "bottom",
          "yref": "paper"
         },
         {
          "font": {
           "size": 16
          },
          "showarrow": false,
          "text": "alpha: 1e-08",
          "x": 0.225,
          "xanchor": "center",
          "xref": "paper",
          "y": 0.78,
          "yanchor": "bottom",
          "yref": "paper"
         },
         {
          "font": {
           "size": 16
          },
          "showarrow": false,
          "text": "alpha: 0.0001",
          "x": 0.775,
          "xanchor": "center",
          "xref": "paper",
          "y": 0.78,
          "yanchor": "bottom",
          "yref": "paper"
         },
         {
          "font": {
           "size": 16
          },
          "showarrow": false,
          "text": "alpha: 0.001",
          "x": 0.225,
          "xanchor": "center",
          "xref": "paper",
          "y": 0.56,
          "yanchor": "bottom",
          "yref": "paper"
         },
         {
          "font": {
           "size": 16
          },
          "showarrow": false,
          "text": "alpha: 0.01",
          "x": 0.775,
          "xanchor": "center",
          "xref": "paper",
          "y": 0.56,
          "yanchor": "bottom",
          "yref": "paper"
         },
         {
          "font": {
           "size": 16
          },
          "showarrow": false,
          "text": "alpha: 1",
          "x": 0.225,
          "xanchor": "center",
          "xref": "paper",
          "y": 0.33999999999999997,
          "yanchor": "bottom",
          "yref": "paper"
         },
         {
          "font": {
           "size": 16
          },
          "showarrow": false,
          "text": "alpha: 5",
          "x": 0.775,
          "xanchor": "center",
          "xref": "paper",
          "y": 0.33999999999999997,
          "yanchor": "bottom",
          "yref": "paper"
         },
         {
          "font": {
           "size": 16
          },
          "showarrow": false,
          "text": "alpha: 10",
          "x": 0.225,
          "xanchor": "center",
          "xref": "paper",
          "y": 0.12,
          "yanchor": "bottom",
          "yref": "paper"
         },
         {
          "font": {
           "size": 16
          },
          "showarrow": false,
          "text": "alpha: 20",
          "x": 0.775,
          "xanchor": "center",
          "xref": "paper",
          "y": 0.12,
          "yanchor": "bottom",
          "yref": "paper"
         }
        ],
        "height": 1500,
        "template": {
         "data": {
          "bar": [
           {
            "error_x": {
             "color": "#2a3f5f"
            },
            "error_y": {
             "color": "#2a3f5f"
            },
            "marker": {
             "line": {
              "color": "white",
              "width": 0.5
             },
             "pattern": {
              "fillmode": "overlay",
              "size": 10,
              "solidity": 0.2
             }
            },
            "type": "bar"
           }
          ],
          "barpolar": [
           {
            "marker": {
             "line": {
              "color": "white",
              "width": 0.5
             },
             "pattern": {
              "fillmode": "overlay",
              "size": 10,
              "solidity": 0.2
             }
            },
            "type": "barpolar"
           }
          ],
          "carpet": [
           {
            "aaxis": {
             "endlinecolor": "#2a3f5f",
             "gridcolor": "#C8D4E3",
             "linecolor": "#C8D4E3",
             "minorgridcolor": "#C8D4E3",
             "startlinecolor": "#2a3f5f"
            },
            "baxis": {
             "endlinecolor": "#2a3f5f",
             "gridcolor": "#C8D4E3",
             "linecolor": "#C8D4E3",
             "minorgridcolor": "#C8D4E3",
             "startlinecolor": "#2a3f5f"
            },
            "type": "carpet"
           }
          ],
          "choropleth": [
           {
            "colorbar": {
             "outlinewidth": 0,
             "ticks": ""
            },
            "type": "choropleth"
           }
          ],
          "contour": [
           {
            "colorbar": {
             "outlinewidth": 0,
             "ticks": ""
            },
            "colorscale": [
             [
              0,
              "#0d0887"
             ],
             [
              0.1111111111111111,
              "#46039f"
             ],
             [
              0.2222222222222222,
              "#7201a8"
             ],
             [
              0.3333333333333333,
              "#9c179e"
             ],
             [
              0.4444444444444444,
              "#bd3786"
             ],
             [
              0.5555555555555556,
              "#d8576b"
             ],
             [
              0.6666666666666666,
              "#ed7953"
             ],
             [
              0.7777777777777778,
              "#fb9f3a"
             ],
             [
              0.8888888888888888,
              "#fdca26"
             ],
             [
              1,
              "#f0f921"
             ]
            ],
            "type": "contour"
           }
          ],
          "contourcarpet": [
           {
            "colorbar": {
             "outlinewidth": 0,
             "ticks": ""
            },
            "type": "contourcarpet"
           }
          ],
          "heatmap": [
           {
            "colorbar": {
             "outlinewidth": 0,
             "ticks": ""
            },
            "colorscale": [
             [
              0,
              "#0d0887"
             ],
             [
              0.1111111111111111,
              "#46039f"
             ],
             [
              0.2222222222222222,
              "#7201a8"
             ],
             [
              0.3333333333333333,
              "#9c179e"
             ],
             [
              0.4444444444444444,
              "#bd3786"
             ],
             [
              0.5555555555555556,
              "#d8576b"
             ],
             [
              0.6666666666666666,
              "#ed7953"
             ],
             [
              0.7777777777777778,
              "#fb9f3a"
             ],
             [
              0.8888888888888888,
              "#fdca26"
             ],
             [
              1,
              "#f0f921"
             ]
            ],
            "type": "heatmap"
           }
          ],
          "heatmapgl": [
           {
            "colorbar": {
             "outlinewidth": 0,
             "ticks": ""
            },
            "colorscale": [
             [
              0,
              "#0d0887"
             ],
             [
              0.1111111111111111,
              "#46039f"
             ],
             [
              0.2222222222222222,
              "#7201a8"
             ],
             [
              0.3333333333333333,
              "#9c179e"
             ],
             [
              0.4444444444444444,
              "#bd3786"
             ],
             [
              0.5555555555555556,
              "#d8576b"
             ],
             [
              0.6666666666666666,
              "#ed7953"
             ],
             [
              0.7777777777777778,
              "#fb9f3a"
             ],
             [
              0.8888888888888888,
              "#fdca26"
             ],
             [
              1,
              "#f0f921"
             ]
            ],
            "type": "heatmapgl"
           }
          ],
          "histogram": [
           {
            "marker": {
             "pattern": {
              "fillmode": "overlay",
              "size": 10,
              "solidity": 0.2
             }
            },
            "type": "histogram"
           }
          ],
          "histogram2d": [
           {
            "colorbar": {
             "outlinewidth": 0,
             "ticks": ""
            },
            "colorscale": [
             [
              0,
              "#0d0887"
             ],
             [
              0.1111111111111111,
              "#46039f"
             ],
             [
              0.2222222222222222,
              "#7201a8"
             ],
             [
              0.3333333333333333,
              "#9c179e"
             ],
             [
              0.4444444444444444,
              "#bd3786"
             ],
             [
              0.5555555555555556,
              "#d8576b"
             ],
             [
              0.6666666666666666,
              "#ed7953"
             ],
             [
              0.7777777777777778,
              "#fb9f3a"
             ],
             [
              0.8888888888888888,
              "#fdca26"
             ],
             [
              1,
              "#f0f921"
             ]
            ],
            "type": "histogram2d"
           }
          ],
          "histogram2dcontour": [
           {
            "colorbar": {
             "outlinewidth": 0,
             "ticks": ""
            },
            "colorscale": [
             [
              0,
              "#0d0887"
             ],
             [
              0.1111111111111111,
              "#46039f"
             ],
             [
              0.2222222222222222,
              "#7201a8"
             ],
             [
              0.3333333333333333,
              "#9c179e"
             ],
             [
              0.4444444444444444,
              "#bd3786"
             ],
             [
              0.5555555555555556,
              "#d8576b"
             ],
             [
              0.6666666666666666,
              "#ed7953"
             ],
             [
              0.7777777777777778,
              "#fb9f3a"
             ],
             [
              0.8888888888888888,
              "#fdca26"
             ],
             [
              1,
              "#f0f921"
             ]
            ],
            "type": "histogram2dcontour"
           }
          ],
          "mesh3d": [
           {
            "colorbar": {
             "outlinewidth": 0,
             "ticks": ""
            },
            "type": "mesh3d"
           }
          ],
          "parcoords": [
           {
            "line": {
             "colorbar": {
              "outlinewidth": 0,
              "ticks": ""
             }
            },
            "type": "parcoords"
           }
          ],
          "pie": [
           {
            "automargin": true,
            "type": "pie"
           }
          ],
          "scatter": [
           {
            "fillpattern": {
             "fillmode": "overlay",
             "size": 10,
             "solidity": 0.2
            },
            "type": "scatter"
           }
          ],
          "scatter3d": [
           {
            "line": {
             "colorbar": {
              "outlinewidth": 0,
              "ticks": ""
             }
            },
            "marker": {
             "colorbar": {
              "outlinewidth": 0,
              "ticks": ""
             }
            },
            "type": "scatter3d"
           }
          ],
          "scattercarpet": [
           {
            "marker": {
             "colorbar": {
              "outlinewidth": 0,
              "ticks": ""
             }
            },
            "type": "scattercarpet"
           }
          ],
          "scattergeo": [
           {
            "marker": {
             "colorbar": {
              "outlinewidth": 0,
              "ticks": ""
             }
            },
            "type": "scattergeo"
           }
          ],
          "scattergl": [
           {
            "marker": {
             "colorbar": {
              "outlinewidth": 0,
              "ticks": ""
             }
            },
            "type": "scattergl"
           }
          ],
          "scattermapbox": [
           {
            "marker": {
             "colorbar": {
              "outlinewidth": 0,
              "ticks": ""
             }
            },
            "type": "scattermapbox"
           }
          ],
          "scatterpolar": [
           {
            "marker": {
             "colorbar": {
              "outlinewidth": 0,
              "ticks": ""
             }
            },
            "type": "scatterpolar"
           }
          ],
          "scatterpolargl": [
           {
            "marker": {
             "colorbar": {
              "outlinewidth": 0,
              "ticks": ""
             }
            },
            "type": "scatterpolargl"
           }
          ],
          "scatterternary": [
           {
            "marker": {
             "colorbar": {
              "outlinewidth": 0,
              "ticks": ""
             }
            },
            "type": "scatterternary"
           }
          ],
          "surface": [
           {
            "colorbar": {
             "outlinewidth": 0,
             "ticks": ""
            },
            "colorscale": [
             [
              0,
              "#0d0887"
             ],
             [
              0.1111111111111111,
              "#46039f"
             ],
             [
              0.2222222222222222,
              "#7201a8"
             ],
             [
              0.3333333333333333,
              "#9c179e"
             ],
             [
              0.4444444444444444,
              "#bd3786"
             ],
             [
              0.5555555555555556,
              "#d8576b"
             ],
             [
              0.6666666666666666,
              "#ed7953"
             ],
             [
              0.7777777777777778,
              "#fb9f3a"
             ],
             [
              0.8888888888888888,
              "#fdca26"
             ],
             [
              1,
              "#f0f921"
             ]
            ],
            "type": "surface"
           }
          ],
          "table": [
           {
            "cells": {
             "fill": {
              "color": "#EBF0F8"
             },
             "line": {
              "color": "white"
             }
            },
            "header": {
             "fill": {
              "color": "#C8D4E3"
             },
             "line": {
              "color": "white"
             }
            },
            "type": "table"
           }
          ]
         },
         "layout": {
          "annotationdefaults": {
           "arrowcolor": "#2a3f5f",
           "arrowhead": 0,
           "arrowwidth": 1
          },
          "autotypenumbers": "strict",
          "coloraxis": {
           "colorbar": {
            "outlinewidth": 0,
            "ticks": ""
           }
          },
          "colorscale": {
           "diverging": [
            [
             0,
             "#8e0152"
            ],
            [
             0.1,
             "#c51b7d"
            ],
            [
             0.2,
             "#de77ae"
            ],
            [
             0.3,
             "#f1b6da"
            ],
            [
             0.4,
             "#fde0ef"
            ],
            [
             0.5,
             "#f7f7f7"
            ],
            [
             0.6,
             "#e6f5d0"
            ],
            [
             0.7,
             "#b8e186"
            ],
            [
             0.8,
             "#7fbc41"
            ],
            [
             0.9,
             "#4d9221"
            ],
            [
             1,
             "#276419"
            ]
           ],
           "sequential": [
            [
             0,
             "#0d0887"
            ],
            [
             0.1111111111111111,
             "#46039f"
            ],
            [
             0.2222222222222222,
             "#7201a8"
            ],
            [
             0.3333333333333333,
             "#9c179e"
            ],
            [
             0.4444444444444444,
             "#bd3786"
            ],
            [
             0.5555555555555556,
             "#d8576b"
            ],
            [
             0.6666666666666666,
             "#ed7953"
            ],
            [
             0.7777777777777778,
             "#fb9f3a"
            ],
            [
             0.8888888888888888,
             "#fdca26"
            ],
            [
             1,
             "#f0f921"
            ]
           ],
           "sequentialminus": [
            [
             0,
             "#0d0887"
            ],
            [
             0.1111111111111111,
             "#46039f"
            ],
            [
             0.2222222222222222,
             "#7201a8"
            ],
            [
             0.3333333333333333,
             "#9c179e"
            ],
            [
             0.4444444444444444,
             "#bd3786"
            ],
            [
             0.5555555555555556,
             "#d8576b"
            ],
            [
             0.6666666666666666,
             "#ed7953"
            ],
            [
             0.7777777777777778,
             "#fb9f3a"
            ],
            [
             0.8888888888888888,
             "#fdca26"
            ],
            [
             1,
             "#f0f921"
            ]
           ]
          },
          "colorway": [
           "#636efa",
           "#EF553B",
           "#00cc96",
           "#ab63fa",
           "#FFA15A",
           "#19d3f3",
           "#FF6692",
           "#B6E880",
           "#FF97FF",
           "#FECB52"
          ],
          "font": {
           "color": "#2a3f5f"
          },
          "geo": {
           "bgcolor": "white",
           "lakecolor": "white",
           "landcolor": "white",
           "showlakes": true,
           "showland": true,
           "subunitcolor": "#C8D4E3"
          },
          "hoverlabel": {
           "align": "left"
          },
          "hovermode": "closest",
          "mapbox": {
           "style": "light"
          },
          "paper_bgcolor": "white",
          "plot_bgcolor": "white",
          "polar": {
           "angularaxis": {
            "gridcolor": "#EBF0F8",
            "linecolor": "#EBF0F8",
            "ticks": ""
           },
           "bgcolor": "white",
           "radialaxis": {
            "gridcolor": "#EBF0F8",
            "linecolor": "#EBF0F8",
            "ticks": ""
           }
          },
          "scene": {
           "xaxis": {
            "backgroundcolor": "white",
            "gridcolor": "#DFE8F3",
            "gridwidth": 2,
            "linecolor": "#EBF0F8",
            "showbackground": true,
            "ticks": "",
            "zerolinecolor": "#EBF0F8"
           },
           "yaxis": {
            "backgroundcolor": "white",
            "gridcolor": "#DFE8F3",
            "gridwidth": 2,
            "linecolor": "#EBF0F8",
            "showbackground": true,
            "ticks": "",
            "zerolinecolor": "#EBF0F8"
           },
           "zaxis": {
            "backgroundcolor": "white",
            "gridcolor": "#DFE8F3",
            "gridwidth": 2,
            "linecolor": "#EBF0F8",
            "showbackground": true,
            "ticks": "",
            "zerolinecolor": "#EBF0F8"
           }
          },
          "shapedefaults": {
           "line": {
            "color": "#2a3f5f"
           }
          },
          "ternary": {
           "aaxis": {
            "gridcolor": "#DFE8F3",
            "linecolor": "#A2B1C6",
            "ticks": ""
           },
           "baxis": {
            "gridcolor": "#DFE8F3",
            "linecolor": "#A2B1C6",
            "ticks": ""
           },
           "bgcolor": "white",
           "caxis": {
            "gridcolor": "#DFE8F3",
            "linecolor": "#A2B1C6",
            "ticks": ""
           }
          },
          "title": {
           "x": 0.05
          },
          "xaxis": {
           "automargin": true,
           "gridcolor": "#EBF0F8",
           "linecolor": "#EBF0F8",
           "ticks": "",
           "title": {
            "standoff": 15
           },
           "zerolinecolor": "#EBF0F8",
           "zerolinewidth": 2
          },
          "yaxis": {
           "automargin": true,
           "gridcolor": "#EBF0F8",
           "linecolor": "#EBF0F8",
           "ticks": "",
           "title": {
            "standoff": 15
           },
           "zerolinecolor": "#EBF0F8",
           "zerolinewidth": 2
          }
         }
        },
        "title": {
         "text": "Polynomial Regression Models"
        },
        "width": 1500,
        "xaxis": {
         "anchor": "y",
         "domain": [
          0,
          0.45
         ]
        },
        "xaxis10": {
         "anchor": "y10",
         "domain": [
          0.55,
          1
         ]
        },
        "xaxis2": {
         "anchor": "y2",
         "domain": [
          0.55,
          1
         ]
        },
        "xaxis3": {
         "anchor": "y3",
         "domain": [
          0,
          0.45
         ]
        },
        "xaxis4": {
         "anchor": "y4",
         "domain": [
          0.55,
          1
         ]
        },
        "xaxis5": {
         "anchor": "y5",
         "domain": [
          0,
          0.45
         ]
        },
        "xaxis6": {
         "anchor": "y6",
         "domain": [
          0.55,
          1
         ]
        },
        "xaxis7": {
         "anchor": "y7",
         "domain": [
          0,
          0.45
         ]
        },
        "xaxis8": {
         "anchor": "y8",
         "domain": [
          0.55,
          1
         ]
        },
        "xaxis9": {
         "anchor": "y9",
         "domain": [
          0,
          0.45
         ]
        },
        "yaxis": {
         "anchor": "x",
         "domain": [
          0.88,
          1
         ]
        },
        "yaxis10": {
         "anchor": "x10",
         "domain": [
          0,
          0.12
         ]
        },
        "yaxis2": {
         "anchor": "x2",
         "domain": [
          0.88,
          1
         ]
        },
        "yaxis3": {
         "anchor": "x3",
         "domain": [
          0.66,
          0.78
         ]
        },
        "yaxis4": {
         "anchor": "x4",
         "domain": [
          0.66,
          0.78
         ]
        },
        "yaxis5": {
         "anchor": "x5",
         "domain": [
          0.44,
          0.56
         ]
        },
        "yaxis6": {
         "anchor": "x6",
         "domain": [
          0.44,
          0.56
         ]
        },
        "yaxis7": {
         "anchor": "x7",
         "domain": [
          0.22,
          0.33999999999999997
         ]
        },
        "yaxis8": {
         "anchor": "x8",
         "domain": [
          0.22,
          0.33999999999999997
         ]
        },
        "yaxis9": {
         "anchor": "x9",
         "domain": [
          0,
          0.12
         ]
        }
       }
      }
     },
     "metadata": {},
     "output_type": "display_data"
    }
   ],
   "source": [
    "def ridge_regression(data, alpha, predictors):\n",
    "    scaler = StandardScaler()\n",
    "    x_train = scaler.fit_transform(data[predictors])\n",
    "    y_train = data['y_noise']\n",
    "    \n",
    "    ridge = Ridge(alpha=alpha)\n",
    "    ridge.fit(x_train, y_train)\n",
    "    \n",
    "    y_pred = ridge.predict(x_train)\n",
    "    \n",
    "    rss = sum((y_pred - y_train)**2)\n",
    "    ret = [rss]\n",
    "    ret.extend([ridge.intercept_])\n",
    "    ret.extend(ridge.coef_)\n",
    "    \n",
    "    return y_pred, ret\n",
    "\n",
    "predictors = ['x']\n",
    "predictors.extend(['x_%d'%i for i in range(2,16)])\n",
    "\n",
    "alpha_ridge = [1e-15, 1e-10, 1e-8, 1e-4, 1e-3,1e-2, 1, 5, 10, 20]\n",
    "fig = make_subplots(rows=5, cols=2, subplot_titles=[f'alpha: {a}' for a in alpha_ridge])\n",
    "row, col = 1, 1\n",
    "\n",
    "for i, alpha in enumerate(alpha_ridge):  \n",
    "    y_pred, _ = ridge_regression(data, alpha, predictors)\n",
    "    \n",
    "    fig.add_trace(go.Scatter(x=data['x'], y=y_pred,          mode='lines',   name=f'Predicted (Alpha {alpha})', showlegend=False), row=row, col=col)\n",
    "    fig.add_trace(go.Scatter(x=data['x'], y=data['y_noise'], mode='markers', name=f'Actual (Alpha {alpha})',    showlegend=False), row=row, col=col)\n",
    "    \n",
    "    col += 1\n",
    "    if col > 2:  # Move to the next row after 2 columns\n",
    "        col = 1\n",
    "        row += 1\n",
    "\n",
    "fig.update_layout(\n",
    "    height      =    1500,  \n",
    "    width       =    1500,   \n",
    "    title       =    'Polynomial Regression Models',\n",
    "    template    =    'plotly_white'\n",
    ")  \n",
    "\n",
    "fig.show()"
   ]
  },
  {
   "cell_type": "code",
   "execution_count": 7,
   "metadata": {},
   "outputs": [],
   "source": [
    "predictors = ['x']\n",
    "predictors.extend(['x_%d'%i for i in range(2,16)])\n",
    "\n",
    "col = ['rss', 'intercept'] + ['coef_x_%d' % i for i in range(1, 16)]\n",
    "alpha_ridge = [1e-15, 1e-10, 1e-8, 1e-4, 1e-3,1e-2, 1, 5, 10, 20]\n",
    "ind = ['alpha_%.2g' % i for i in alpha_ridge]\n",
    "\n",
    "coef_matrix_ridge = pd.DataFrame(index=ind, columns=col)\n",
    "\n",
    "for i in range(len(alpha_ridge)):\n",
    "    preds, rss = ridge_regression(data, alpha_ridge[i], predictors)\n",
    "    \n",
    "    # Extract the relevant values from the rss list\n",
    "    coef_matrix_ridge.iloc[i, 0] = rss[0]  # Assign RSS\n",
    "    coef_matrix_ridge.iloc[i, 1] = rss[1]  # Assign intercept\n",
    "    coef_matrix_ridge.iloc[i, 2:2 + len(rss[2:])] = rss[2:]  # Assign coefficients"
   ]
  },
  {
   "cell_type": "code",
   "execution_count": 8,
   "metadata": {},
   "outputs": [
    {
     "data": {
      "text/html": [
       "<div>\n",
       "<style scoped>\n",
       "    .dataframe tbody tr th:only-of-type {\n",
       "        vertical-align: middle;\n",
       "    }\n",
       "\n",
       "    .dataframe tbody tr th {\n",
       "        vertical-align: top;\n",
       "    }\n",
       "\n",
       "    .dataframe thead th {\n",
       "        text-align: right;\n",
       "    }\n",
       "</style>\n",
       "<table border=\"1\" class=\"dataframe\">\n",
       "  <thead>\n",
       "    <tr style=\"text-align: right;\">\n",
       "      <th></th>\n",
       "      <th>rss</th>\n",
       "      <th>intercept</th>\n",
       "      <th>coef_x_1</th>\n",
       "      <th>coef_x_2</th>\n",
       "      <th>coef_x_3</th>\n",
       "      <th>coef_x_4</th>\n",
       "      <th>coef_x_5</th>\n",
       "      <th>coef_x_6</th>\n",
       "      <th>coef_x_7</th>\n",
       "      <th>coef_x_8</th>\n",
       "      <th>coef_x_9</th>\n",
       "      <th>coef_x_10</th>\n",
       "      <th>coef_x_11</th>\n",
       "      <th>coef_x_12</th>\n",
       "      <th>coef_x_13</th>\n",
       "      <th>coef_x_14</th>\n",
       "      <th>coef_x_15</th>\n",
       "    </tr>\n",
       "  </thead>\n",
       "  <tbody>\n",
       "    <tr>\n",
       "      <th>alpha_1e-15</th>\n",
       "      <td>0.869617</td>\n",
       "      <td>0.038032</td>\n",
       "      <td>477.958096</td>\n",
       "      <td>-7316.830716</td>\n",
       "      <td>48462.232069</td>\n",
       "      <td>-177682.145357</td>\n",
       "      <td>375728.376133</td>\n",
       "      <td>-403774.428409</td>\n",
       "      <td>32340.799707</td>\n",
       "      <td>387829.759394</td>\n",
       "      <td>-210431.527974</td>\n",
       "      <td>-324548.998441</td>\n",
       "      <td>309707.776996</td>\n",
       "      <td>234238.920185</td>\n",
       "      <td>-479766.384855</td>\n",
       "      <td>267844.562642</td>\n",
       "      <td>-53110.821794</td>\n",
       "    </tr>\n",
       "    <tr>\n",
       "      <th>alpha_1e-10</th>\n",
       "      <td>0.887998</td>\n",
       "      <td>0.038032</td>\n",
       "      <td>-150.895504</td>\n",
       "      <td>1121.935809</td>\n",
       "      <td>-3390.824819</td>\n",
       "      <td>4548.528619</td>\n",
       "      <td>-1037.405968</td>\n",
       "      <td>-3087.115419</td>\n",
       "      <td>620.809027</td>\n",
       "      <td>2561.79686</td>\n",
       "      <td>559.219255</td>\n",
       "      <td>-1771.609342</td>\n",
       "      <td>-1358.236832</td>\n",
       "      <td>819.332776</td>\n",
       "      <td>1375.095404</td>\n",
       "      <td>-838.501239</td>\n",
       "      <td>27.187746</td>\n",
       "    </tr>\n",
       "    <tr>\n",
       "      <th>alpha_1e-08</th>\n",
       "      <td>0.929883</td>\n",
       "      <td>0.038032</td>\n",
       "      <td>-25.50625</td>\n",
       "      <td>170.686246</td>\n",
       "      <td>-431.210853</td>\n",
       "      <td>395.169423</td>\n",
       "      <td>132.898017</td>\n",
       "      <td>-302.812704</td>\n",
       "      <td>-195.325661</td>\n",
       "      <td>153.37786</td>\n",
       "      <td>267.7831</td>\n",
       "      <td>62.119811</td>\n",
       "      <td>-201.435452</td>\n",
       "      <td>-224.043012</td>\n",
       "      <td>50.261938</td>\n",
       "      <td>302.429095</td>\n",
       "      <td>-155.060277</td>\n",
       "    </tr>\n",
       "    <tr>\n",
       "      <th>alpha_0.0001</th>\n",
       "      <td>0.953741</td>\n",
       "      <td>0.038032</td>\n",
       "      <td>1.247141</td>\n",
       "      <td>-2.165186</td>\n",
       "      <td>-1.475943</td>\n",
       "      <td>0.465587</td>\n",
       "      <td>1.106084</td>\n",
       "      <td>0.515348</td>\n",
       "      <td>-0.34863</td>\n",
       "      <td>-0.786577</td>\n",
       "      <td>-0.594612</td>\n",
       "      <td>0.070117</td>\n",
       "      <td>0.867111</td>\n",
       "      <td>1.395835</td>\n",
       "      <td>1.263714</td>\n",
       "      <td>0.118885</td>\n",
       "      <td>-2.335929</td>\n",
       "    </tr>\n",
       "    <tr>\n",
       "      <th>alpha_0.001</th>\n",
       "      <td>0.958268</td>\n",
       "      <td>0.038032</td>\n",
       "      <td>0.897594</td>\n",
       "      <td>-1.474605</td>\n",
       "      <td>-1.071473</td>\n",
       "      <td>-0.23712</td>\n",
       "      <td>0.187358</td>\n",
       "      <td>0.245465</td>\n",
       "      <td>0.18315</td>\n",
       "      <td>0.164649</td>\n",
       "      <td>0.232861</td>\n",
       "      <td>0.349233</td>\n",
       "      <td>0.438375</td>\n",
       "      <td>0.417756</td>\n",
       "      <td>0.213187</td>\n",
       "      <td>-0.234881</td>\n",
       "      <td>-0.970055</td>\n",
       "    </tr>\n",
       "    <tr>\n",
       "      <th>alpha_0.01</th>\n",
       "      <td>0.963726</td>\n",
       "      <td>0.038032</td>\n",
       "      <td>0.604839</td>\n",
       "      <td>-0.89069</td>\n",
       "      <td>-1.001363</td>\n",
       "      <td>-0.602379</td>\n",
       "      <td>-0.156591</td>\n",
       "      <td>0.178452</td>\n",
       "      <td>0.382048</td>\n",
       "      <td>0.474821</td>\n",
       "      <td>0.481383</td>\n",
       "      <td>0.4203</td>\n",
       "      <td>0.303634</td>\n",
       "      <td>0.138796</td>\n",
       "      <td>-0.069644</td>\n",
       "      <td>-0.318664</td>\n",
       "      <td>-0.605987</td>\n",
       "    </tr>\n",
       "    <tr>\n",
       "      <th>alpha_1</th>\n",
       "      <td>1.567195</td>\n",
       "      <td>0.038032</td>\n",
       "      <td>-0.182977</td>\n",
       "      <td>-0.34891</td>\n",
       "      <td>-0.333408</td>\n",
       "      <td>-0.23317</td>\n",
       "      <td>-0.11442</td>\n",
       "      <td>-0.010541</td>\n",
       "      <td>0.06589</td>\n",
       "      <td>0.112916</td>\n",
       "      <td>0.133203</td>\n",
       "      <td>0.130996</td>\n",
       "      <td>0.110711</td>\n",
       "      <td>0.076357</td>\n",
       "      <td>0.031351</td>\n",
       "      <td>-0.021496</td>\n",
       "      <td>-0.07992</td>\n",
       "    </tr>\n",
       "    <tr>\n",
       "      <th>alpha_5</th>\n",
       "      <td>1.902341</td>\n",
       "      <td>0.038032</td>\n",
       "      <td>-0.272239</td>\n",
       "      <td>-0.263824</td>\n",
       "      <td>-0.214899</td>\n",
       "      <td>-0.152285</td>\n",
       "      <td>-0.092146</td>\n",
       "      <td>-0.041566</td>\n",
       "      <td>-0.002442</td>\n",
       "      <td>0.025754</td>\n",
       "      <td>0.044468</td>\n",
       "      <td>0.055347</td>\n",
       "      <td>0.059942</td>\n",
       "      <td>0.059595</td>\n",
       "      <td>0.055421</td>\n",
       "      <td>0.04833</td>\n",
       "      <td>0.03905</td>\n",
       "    </tr>\n",
       "    <tr>\n",
       "      <th>alpha_10</th>\n",
       "      <td>2.161507</td>\n",
       "      <td>0.038032</td>\n",
       "      <td>-0.262556</td>\n",
       "      <td>-0.236765</td>\n",
       "      <td>-0.18975</td>\n",
       "      <td>-0.137731</td>\n",
       "      <td>-0.089705</td>\n",
       "      <td>-0.049218</td>\n",
       "      <td>-0.016902</td>\n",
       "      <td>0.007886</td>\n",
       "      <td>0.026222</td>\n",
       "      <td>0.039228</td>\n",
       "      <td>0.047929</td>\n",
       "      <td>0.053195</td>\n",
       "      <td>0.055747</td>\n",
       "      <td>0.056173</td>\n",
       "      <td>0.054942</td>\n",
       "    </tr>\n",
       "    <tr>\n",
       "      <th>alpha_20</th>\n",
       "      <td>2.799428</td>\n",
       "      <td>0.038032</td>\n",
       "      <td>-0.235567</td>\n",
       "      <td>-0.206561</td>\n",
       "      <td>-0.16577</td>\n",
       "      <td>-0.123549</td>\n",
       "      <td>-0.085205</td>\n",
       "      <td>-0.0526</td>\n",
       "      <td>-0.025872</td>\n",
       "      <td>-0.004455</td>\n",
       "      <td>0.012431</td>\n",
       "      <td>0.025556</td>\n",
       "      <td>0.03561</td>\n",
       "      <td>0.043175</td>\n",
       "      <td>0.048732</td>\n",
       "      <td>0.052674</td>\n",
       "      <td>0.055317</td>\n",
       "    </tr>\n",
       "  </tbody>\n",
       "</table>\n",
       "</div>"
      ],
      "text/plain": [
       "                   rss intercept    coef_x_1     coef_x_2      coef_x_3  \\\n",
       "alpha_1e-15   0.869617  0.038032  477.958096 -7316.830716  48462.232069   \n",
       "alpha_1e-10   0.887998  0.038032 -150.895504  1121.935809  -3390.824819   \n",
       "alpha_1e-08   0.929883  0.038032   -25.50625   170.686246   -431.210853   \n",
       "alpha_0.0001  0.953741  0.038032    1.247141    -2.165186     -1.475943   \n",
       "alpha_0.001   0.958268  0.038032    0.897594    -1.474605     -1.071473   \n",
       "alpha_0.01    0.963726  0.038032    0.604839     -0.89069     -1.001363   \n",
       "alpha_1       1.567195  0.038032   -0.182977     -0.34891     -0.333408   \n",
       "alpha_5       1.902341  0.038032   -0.272239    -0.263824     -0.214899   \n",
       "alpha_10      2.161507  0.038032   -0.262556    -0.236765      -0.18975   \n",
       "alpha_20      2.799428  0.038032   -0.235567    -0.206561      -0.16577   \n",
       "\n",
       "                   coef_x_4       coef_x_5       coef_x_6      coef_x_7  \\\n",
       "alpha_1e-15  -177682.145357  375728.376133 -403774.428409  32340.799707   \n",
       "alpha_1e-10     4548.528619   -1037.405968   -3087.115419    620.809027   \n",
       "alpha_1e-08      395.169423     132.898017    -302.812704   -195.325661   \n",
       "alpha_0.0001       0.465587       1.106084       0.515348      -0.34863   \n",
       "alpha_0.001        -0.23712       0.187358       0.245465       0.18315   \n",
       "alpha_0.01        -0.602379      -0.156591       0.178452      0.382048   \n",
       "alpha_1            -0.23317       -0.11442      -0.010541       0.06589   \n",
       "alpha_5           -0.152285      -0.092146      -0.041566     -0.002442   \n",
       "alpha_10          -0.137731      -0.089705      -0.049218     -0.016902   \n",
       "alpha_20          -0.123549      -0.085205        -0.0526     -0.025872   \n",
       "\n",
       "                   coef_x_8       coef_x_9      coef_x_10      coef_x_11  \\\n",
       "alpha_1e-15   387829.759394 -210431.527974 -324548.998441  309707.776996   \n",
       "alpha_1e-10      2561.79686     559.219255   -1771.609342   -1358.236832   \n",
       "alpha_1e-08       153.37786       267.7831      62.119811    -201.435452   \n",
       "alpha_0.0001      -0.786577      -0.594612       0.070117       0.867111   \n",
       "alpha_0.001        0.164649       0.232861       0.349233       0.438375   \n",
       "alpha_0.01         0.474821       0.481383         0.4203       0.303634   \n",
       "alpha_1            0.112916       0.133203       0.130996       0.110711   \n",
       "alpha_5            0.025754       0.044468       0.055347       0.059942   \n",
       "alpha_10           0.007886       0.026222       0.039228       0.047929   \n",
       "alpha_20          -0.004455       0.012431       0.025556        0.03561   \n",
       "\n",
       "                  coef_x_12      coef_x_13      coef_x_14     coef_x_15  \n",
       "alpha_1e-15   234238.920185 -479766.384855  267844.562642 -53110.821794  \n",
       "alpha_1e-10      819.332776    1375.095404    -838.501239     27.187746  \n",
       "alpha_1e-08     -224.043012      50.261938     302.429095   -155.060277  \n",
       "alpha_0.0001       1.395835       1.263714       0.118885     -2.335929  \n",
       "alpha_0.001        0.417756       0.213187      -0.234881     -0.970055  \n",
       "alpha_0.01         0.138796      -0.069644      -0.318664     -0.605987  \n",
       "alpha_1            0.076357       0.031351      -0.021496      -0.07992  \n",
       "alpha_5            0.059595       0.055421        0.04833       0.03905  \n",
       "alpha_10           0.053195       0.055747       0.056173      0.054942  \n",
       "alpha_20           0.043175       0.048732       0.052674      0.055317  "
      ]
     },
     "execution_count": 8,
     "metadata": {},
     "output_type": "execute_result"
    }
   ],
   "source": [
    "coef_matrix_ridge.head(20)"
   ]
  },
  {
   "cell_type": "markdown",
   "metadata": {},
   "source": [
    "```plaintext\n",
    "do an observation on any coeff on alpha_1e-15, with alpha_20, we can see that the coeff are being brought down. "
   ]
  },
  {
   "cell_type": "markdown",
   "metadata": {},
   "source": [
    "---"
   ]
  },
  {
   "cell_type": "markdown",
   "metadata": {},
   "source": [
    "#### Function for ridge regression"
   ]
  },
  {
   "cell_type": "code",
   "execution_count": 9,
   "metadata": {},
   "outputs": [
    {
     "name": "stderr",
     "output_type": "stream",
     "text": [
      "c:\\Users\\aariz\\.pyenv\\pyenv-win\\versions\\3.12.8\\Lib\\site-packages\\sklearn\\linear_model\\_coordinate_descent.py:695: ConvergenceWarning:\n",
      "\n",
      "Objective did not converge. You might want to increase the number of iterations, check the scale of the features or consider increasing regularisation. Duality gap: 4.784e-01, tolerance: 3.695e-03\n",
      "\n",
      "c:\\Users\\aariz\\.pyenv\\pyenv-win\\versions\\3.12.8\\Lib\\site-packages\\sklearn\\linear_model\\_coordinate_descent.py:695: ConvergenceWarning:\n",
      "\n",
      "Objective did not converge. You might want to increase the number of iterations, check the scale of the features or consider increasing regularisation. Duality gap: 4.783e-01, tolerance: 3.695e-03\n",
      "\n",
      "c:\\Users\\aariz\\.pyenv\\pyenv-win\\versions\\3.12.8\\Lib\\site-packages\\sklearn\\linear_model\\_coordinate_descent.py:695: ConvergenceWarning:\n",
      "\n",
      "Objective did not converge. You might want to increase the number of iterations, check the scale of the features or consider increasing regularisation. Duality gap: 4.774e-01, tolerance: 3.695e-03\n",
      "\n"
     ]
    },
    {
     "data": {
      "application/vnd.plotly.v1+json": {
       "config": {
        "plotlyServerURL": "https://plot.ly"
       },
       "data": [
        {
         "mode": "lines",
         "name": "Predicted (Alpha 1e-15)",
         "showlegend": false,
         "type": "scatter",
         "x": [
          1.0471975511965976,
          1.117010721276371,
          1.1868238913561442,
          1.2566370614359172,
          1.3264502315156903,
          1.3962634015954636,
          1.4660765716752369,
          1.53588974175501,
          1.605702911834783,
          1.6755160819145563,
          1.7453292519943295,
          1.8151424220741028,
          1.8849555921538759,
          1.9547687622336491,
          2.0245819323134224,
          2.0943951023931953,
          2.1642082724729685,
          2.234021442552742,
          2.303834612632515,
          2.3736477827122884,
          2.443460952792061,
          2.5132741228718345,
          2.5830872929516078,
          2.6529004630313806,
          2.722713633111154,
          2.792526803190927,
          2.8623399732707,
          2.9321531433504737,
          3.0019663134302466,
          3.07177948351002,
          3.141592653589793,
          3.211405823669566,
          3.2812189937493397,
          3.3510321638291125,
          3.420845333908886,
          3.490658503988659,
          3.560471674068432,
          3.6302848441482056,
          3.7000980142279785,
          3.7699111843077517,
          3.839724354387525,
          3.9095375244672983,
          3.979350694547071,
          4.049163864626845,
          4.118977034706617,
          4.1887902047863905,
          4.258603374866164,
          4.328416544945937,
          4.39822971502571,
          4.468042885105484,
          4.537856055185257,
          4.60766922526503,
          4.677482395344803,
          4.747295565424577,
          4.817108735504349,
          4.886921905584122,
          4.956735075663896,
          5.026548245743669,
          5.096361415823442,
          5.1661745859032155
         ],
         "xaxis": "x",
         "y": [
          0.9351564318061811,
          0.9544188501776886,
          0.9702006230674376,
          0.9825117296621503,
          0.9913620434299221,
          0.9967612929978505,
          0.9987190445116837,
          0.9972447117763752,
          0.9923476014821653,
          0.9840370019154722,
          0.9723223247314867,
          0.9572133106154611,
          0.9387203109661236,
          0.9168546590748419,
          0.8916291456171265,
          0.8630586145784582,
          0.8311606969523526,
          0.7959567006100762,
          0.7574726755678085,
          0.7157406743700919,
          0.6708002273491699,
          0.6227000519660588,
          0.5715000141220052,
          0.5172733570493605,
          0.46010920991575255,
          0.4001153833336557,
          0.3374214522449636,
          0.2721821177854785,
          0.20458082831255753,
          0.1348336253271299,
          0.06319316200034708,
          -0.010047180184980124,
          -0.08454917823638625,
          -0.15992579216805114,
          -0.23573750072973404,
          -0.3114891685636078,
          -0.3866277202982696,
          -0.460540962171201,
          -0.5325579679856861,
          -0.6019515350458126,
          -0.6679433188209762,
          -0.7297123742869358,
          -0.7864079691750546,
          -0.8371676919342064,
          -0.8811420574833756,
          -0.9175270194488331,
          -0.9456060314255857,
          -0.9648035650302947,
          -0.9747522925559159,
          -0.9753764806337407,
          -0.9669945225154576,
          -0.9504439648108057,
          -0.9272328645270896,
          -0.8997218492187059,
          -0.871341852547935,
          -0.846853165605422,
          -0.8326521874334768,
          -0.8371330833296987,
          -0.8711124742042927,
          -0.9483262926035975
         ],
         "yaxis": "y"
        },
        {
         "mode": "markers",
         "name": "Actual (Alpha 1e-15)",
         "showlegend": false,
         "type": "scatter",
         "x": [
          1.0471975511965976,
          1.117010721276371,
          1.1868238913561442,
          1.2566370614359172,
          1.3264502315156903,
          1.3962634015954636,
          1.4660765716752369,
          1.53588974175501,
          1.605702911834783,
          1.6755160819145563,
          1.7453292519943295,
          1.8151424220741028,
          1.8849555921538759,
          1.9547687622336491,
          2.0245819323134224,
          2.0943951023931953,
          2.1642082724729685,
          2.234021442552742,
          2.303834612632515,
          2.3736477827122884,
          2.443460952792061,
          2.5132741228718345,
          2.5830872929516078,
          2.6529004630313806,
          2.722713633111154,
          2.792526803190927,
          2.8623399732707,
          2.9321531433504737,
          3.0019663134302466,
          3.07177948351002,
          3.141592653589793,
          3.211405823669566,
          3.2812189937493397,
          3.3510321638291125,
          3.420845333908886,
          3.490658503988659,
          3.560471674068432,
          3.6302848441482056,
          3.7000980142279785,
          3.7699111843077517,
          3.839724354387525,
          3.9095375244672983,
          3.979350694547071,
          4.049163864626845,
          4.118977034706617,
          4.1887902047863905,
          4.258603374866164,
          4.328416544945937,
          4.39822971502571,
          4.468042885105484,
          4.537856055185257,
          4.60766922526503,
          4.677482395344803,
          4.747295565424577,
          4.817108735504349,
          4.886921905584122,
          4.956735075663896,
          5.026548245743669,
          5.096361415823442,
          5.1661745859032155
         ],
         "xaxis": "x",
         "y": [
          1.0657633794038663,
          1.0060858924589278,
          0.6953738107500972,
          0.9497989388058752,
          1.0634961223595685,
          0.8767949189043736,
          1.0343486332220913,
          1.015673105876341,
          1.0000345416592007,
          0.9683318637793322,
          1.0497616815052477,
          1.1507513323478282,
          0.8062966657176391,
          1.081424966264193,
          0.9330885658178659,
          0.9327960457089909,
          0.6585472407803852,
          0.8082812853740173,
          0.9658253757528816,
          0.5326876375912057,
          0.3461283675878534,
          0.32627940790763715,
          0.5698297888332875,
          0.8272166623925556,
          0.575290331087214,
          0.592913475321843,
          0.2905097381922862,
          0.4176111473817956,
          0.09848590276519861,
          0.1617371014730714,
          -0.04009757830103517,
          -0.15215282585994666,
          -0.11926685659607285,
          -0.27933299305685966,
          -0.07936639368747736,
          -0.31276815144070474,
          -0.34670514483794757,
          -0.5201164133487205,
          -0.34144842466993147,
          -0.6975806775926542,
          -0.5437528770025923,
          -0.747289154174978,
          -0.8840598294417767,
          -0.8614113361394199,
          -0.9497262438955346,
          -0.8979300495910152,
          -0.949665083208682,
          -0.880358364119804,
          -0.8662836158466595,
          -0.9924087649350495,
          -0.988693553534636,
          -0.9511577647976832,
          -1.0803726877190007,
          -0.8931668240301053,
          -0.868188184610875,
          -0.9542706334130864,
          -0.6110901765433163,
          -0.8134376756685893,
          -0.9440247252459114,
          -0.9531211133705031
         ],
         "yaxis": "y"
        },
        {
         "mode": "lines",
         "name": "Predicted (Alpha 1e-10)",
         "showlegend": false,
         "type": "scatter",
         "x": [
          1.0471975511965976,
          1.117010721276371,
          1.1868238913561442,
          1.2566370614359172,
          1.3264502315156903,
          1.3962634015954636,
          1.4660765716752369,
          1.53588974175501,
          1.605702911834783,
          1.6755160819145563,
          1.7453292519943295,
          1.8151424220741028,
          1.8849555921538759,
          1.9547687622336491,
          2.0245819323134224,
          2.0943951023931953,
          2.1642082724729685,
          2.234021442552742,
          2.303834612632515,
          2.3736477827122884,
          2.443460952792061,
          2.5132741228718345,
          2.5830872929516078,
          2.6529004630313806,
          2.722713633111154,
          2.792526803190927,
          2.8623399732707,
          2.9321531433504737,
          3.0019663134302466,
          3.07177948351002,
          3.141592653589793,
          3.211405823669566,
          3.2812189937493397,
          3.3510321638291125,
          3.420845333908886,
          3.490658503988659,
          3.560471674068432,
          3.6302848441482056,
          3.7000980142279785,
          3.7699111843077517,
          3.839724354387525,
          3.9095375244672983,
          3.979350694547071,
          4.049163864626845,
          4.118977034706617,
          4.1887902047863905,
          4.258603374866164,
          4.328416544945937,
          4.39822971502571,
          4.468042885105484,
          4.537856055185257,
          4.60766922526503,
          4.677482395344803,
          4.747295565424577,
          4.817108735504349,
          4.886921905584122,
          4.956735075663896,
          5.026548245743669,
          5.096361415823442,
          5.1661745859032155
         ],
         "xaxis": "x2",
         "y": [
          0.9351564059215131,
          0.9544188291504853,
          0.9702006072901176,
          0.9825117193048453,
          0.9913620384608085,
          0.996761293204604,
          0.9987190495239009,
          0.9972447210887941,
          0.9923476144784819,
          0.9840370178925573,
          0.9723223429237745,
          0.9572133302192576,
          0.9387203311635847,
          0.9168546790573282,
          0.8916291646076485,
          0.8630586318528916,
          0.8311607118591068,
          0.79595671258788,
          0.757472684161275,
          0.7157406792427322,
          0.6708002282935223,
          0.6227000489106257,
          0.5715000071347115,
          0.5172733463372788,
          0.46010919582089843,
          0.4001153663247068,
          0.33742143290483895,
          0.2721820967947969,
          0.20458080642911208,
          0.13483360336162475,
          0.06319314078878602,
          -0.010047199811705813,
          -0.0845491954850065,
          -0.1599258063166379,
          -0.23573751116156422,
          -0.31148917479991883,
          -0.38662772202847884,
          -0.46054095927899574,
          -0.5325579605692522,
          -0.6019515234303788,
          -0.6679433035618009,
          -0.729712356160909,
          -0.7864079491592221,
          -0.8371676711697909,
          -0.8811420372243098,
          -0.9175270009944535,
          -0.9456060160380299,
          -0.9648035538383345,
          -0.9747522864485277,
          -0.9753764801487036,
          -0.9669945277307882,
          -0.950443975249963,
          -0.9272328790927076,
          -0.8997218661742871,
          -0.8713418695725489,
          -0.8468531799531869,
          -0.8326521962375993,
          -0.8371330841003083,
          -0.8711124655804031,
          -0.9483262754325702
         ],
         "yaxis": "y2"
        },
        {
         "mode": "markers",
         "name": "Actual (Alpha 1e-10)",
         "showlegend": false,
         "type": "scatter",
         "x": [
          1.0471975511965976,
          1.117010721276371,
          1.1868238913561442,
          1.2566370614359172,
          1.3264502315156903,
          1.3962634015954636,
          1.4660765716752369,
          1.53588974175501,
          1.605702911834783,
          1.6755160819145563,
          1.7453292519943295,
          1.8151424220741028,
          1.8849555921538759,
          1.9547687622336491,
          2.0245819323134224,
          2.0943951023931953,
          2.1642082724729685,
          2.234021442552742,
          2.303834612632515,
          2.3736477827122884,
          2.443460952792061,
          2.5132741228718345,
          2.5830872929516078,
          2.6529004630313806,
          2.722713633111154,
          2.792526803190927,
          2.8623399732707,
          2.9321531433504737,
          3.0019663134302466,
          3.07177948351002,
          3.141592653589793,
          3.211405823669566,
          3.2812189937493397,
          3.3510321638291125,
          3.420845333908886,
          3.490658503988659,
          3.560471674068432,
          3.6302848441482056,
          3.7000980142279785,
          3.7699111843077517,
          3.839724354387525,
          3.9095375244672983,
          3.979350694547071,
          4.049163864626845,
          4.118977034706617,
          4.1887902047863905,
          4.258603374866164,
          4.328416544945937,
          4.39822971502571,
          4.468042885105484,
          4.537856055185257,
          4.60766922526503,
          4.677482395344803,
          4.747295565424577,
          4.817108735504349,
          4.886921905584122,
          4.956735075663896,
          5.026548245743669,
          5.096361415823442,
          5.1661745859032155
         ],
         "xaxis": "x2",
         "y": [
          1.0657633794038663,
          1.0060858924589278,
          0.6953738107500972,
          0.9497989388058752,
          1.0634961223595685,
          0.8767949189043736,
          1.0343486332220913,
          1.015673105876341,
          1.0000345416592007,
          0.9683318637793322,
          1.0497616815052477,
          1.1507513323478282,
          0.8062966657176391,
          1.081424966264193,
          0.9330885658178659,
          0.9327960457089909,
          0.6585472407803852,
          0.8082812853740173,
          0.9658253757528816,
          0.5326876375912057,
          0.3461283675878534,
          0.32627940790763715,
          0.5698297888332875,
          0.8272166623925556,
          0.575290331087214,
          0.592913475321843,
          0.2905097381922862,
          0.4176111473817956,
          0.09848590276519861,
          0.1617371014730714,
          -0.04009757830103517,
          -0.15215282585994666,
          -0.11926685659607285,
          -0.27933299305685966,
          -0.07936639368747736,
          -0.31276815144070474,
          -0.34670514483794757,
          -0.5201164133487205,
          -0.34144842466993147,
          -0.6975806775926542,
          -0.5437528770025923,
          -0.747289154174978,
          -0.8840598294417767,
          -0.8614113361394199,
          -0.9497262438955346,
          -0.8979300495910152,
          -0.949665083208682,
          -0.880358364119804,
          -0.8662836158466595,
          -0.9924087649350495,
          -0.988693553534636,
          -0.9511577647976832,
          -1.0803726877190007,
          -0.8931668240301053,
          -0.868188184610875,
          -0.9542706334130864,
          -0.6110901765433163,
          -0.8134376756685893,
          -0.9440247252459114,
          -0.9531211133705031
         ],
         "yaxis": "y2"
        },
        {
         "mode": "lines",
         "name": "Predicted (Alpha 1e-08)",
         "showlegend": false,
         "type": "scatter",
         "x": [
          1.0471975511965976,
          1.117010721276371,
          1.1868238913561442,
          1.2566370614359172,
          1.3264502315156903,
          1.3962634015954636,
          1.4660765716752369,
          1.53588974175501,
          1.605702911834783,
          1.6755160819145563,
          1.7453292519943295,
          1.8151424220741028,
          1.8849555921538759,
          1.9547687622336491,
          2.0245819323134224,
          2.0943951023931953,
          2.1642082724729685,
          2.234021442552742,
          2.303834612632515,
          2.3736477827122884,
          2.443460952792061,
          2.5132741228718345,
          2.5830872929516078,
          2.6529004630313806,
          2.722713633111154,
          2.792526803190927,
          2.8623399732707,
          2.9321531433504737,
          3.0019663134302466,
          3.07177948351002,
          3.141592653589793,
          3.211405823669566,
          3.2812189937493397,
          3.3510321638291125,
          3.420845333908886,
          3.490658503988659,
          3.560471674068432,
          3.6302848441482056,
          3.7000980142279785,
          3.7699111843077517,
          3.839724354387525,
          3.9095375244672983,
          3.979350694547071,
          4.049163864626845,
          4.118977034706617,
          4.1887902047863905,
          4.258603374866164,
          4.328416544945937,
          4.39822971502571,
          4.468042885105484,
          4.537856055185257,
          4.60766922526503,
          4.677482395344803,
          4.747295565424577,
          4.817108735504349,
          4.886921905584122,
          4.956735075663896,
          5.026548245743669,
          5.096361415823442,
          5.1661745859032155
         ],
         "xaxis": "x3",
         "y": [
          0.9351538715921336,
          0.9544167654916045,
          0.9701990547683884,
          0.9825106962842252,
          0.9913615432103567,
          0.9967613060180964,
          0.9987195349357658,
          0.9972456301692555,
          0.9923488871891631,
          0.9840385854820203,
          0.9723241303406868,
          0.9572152585190745,
          0.9387223198827909,
          0.9168566485275715,
          0.8916310381804221,
          0.8630603380039817,
          0.8311621861408017,
          0.7959578993960588,
          0.7574735382840689,
          0.7157411671575523,
          0.6708003291800215,
          0.6226997553487049,
          0.5714993254591668,
          0.517272296624176,
          0.4601078114854671,
          0.40011369331651747,
          0.33741952849342316,
          0.2721800279477644,
          0.2045786477952627,
          0.1348314348835959,
          0.0631910449833763,
          -0.010049140852334597,
          -0.08455090330166587,
          -0.15992720941399508,
          -0.2357385483565071,
          -0.31148979846413194,
          -0.3866279010843005,
          -0.4605406817913986,
          -0.5325572357631019,
          -0.6019503829523348,
          -0.6679418018020197,
          -0.7297105694530909,
          -0.7864059736909238,
          -0.8371656194611606,
          -0.881140033075851,
          -0.9175251728670013,
          -0.9456044889154127,
          -0.9648024397404328,
          -0.9747516739157448,
          -0.9753764232151177,
          -0.9669950351504372,
          -0.9504450010477984,
          -0.927234315888965,
          -0.8997235431898009,
          -0.8713435577759702,
          -0.8468546074735083,
          -0.8326530779532849,
          -0.8371331702476618,
          -0.871111615318949,
          -0.9483245625864892
         ],
         "yaxis": "y3"
        },
        {
         "mode": "markers",
         "name": "Actual (Alpha 1e-08)",
         "showlegend": false,
         "type": "scatter",
         "x": [
          1.0471975511965976,
          1.117010721276371,
          1.1868238913561442,
          1.2566370614359172,
          1.3264502315156903,
          1.3962634015954636,
          1.4660765716752369,
          1.53588974175501,
          1.605702911834783,
          1.6755160819145563,
          1.7453292519943295,
          1.8151424220741028,
          1.8849555921538759,
          1.9547687622336491,
          2.0245819323134224,
          2.0943951023931953,
          2.1642082724729685,
          2.234021442552742,
          2.303834612632515,
          2.3736477827122884,
          2.443460952792061,
          2.5132741228718345,
          2.5830872929516078,
          2.6529004630313806,
          2.722713633111154,
          2.792526803190927,
          2.8623399732707,
          2.9321531433504737,
          3.0019663134302466,
          3.07177948351002,
          3.141592653589793,
          3.211405823669566,
          3.2812189937493397,
          3.3510321638291125,
          3.420845333908886,
          3.490658503988659,
          3.560471674068432,
          3.6302848441482056,
          3.7000980142279785,
          3.7699111843077517,
          3.839724354387525,
          3.9095375244672983,
          3.979350694547071,
          4.049163864626845,
          4.118977034706617,
          4.1887902047863905,
          4.258603374866164,
          4.328416544945937,
          4.39822971502571,
          4.468042885105484,
          4.537856055185257,
          4.60766922526503,
          4.677482395344803,
          4.747295565424577,
          4.817108735504349,
          4.886921905584122,
          4.956735075663896,
          5.026548245743669,
          5.096361415823442,
          5.1661745859032155
         ],
         "xaxis": "x3",
         "y": [
          1.0657633794038663,
          1.0060858924589278,
          0.6953738107500972,
          0.9497989388058752,
          1.0634961223595685,
          0.8767949189043736,
          1.0343486332220913,
          1.015673105876341,
          1.0000345416592007,
          0.9683318637793322,
          1.0497616815052477,
          1.1507513323478282,
          0.8062966657176391,
          1.081424966264193,
          0.9330885658178659,
          0.9327960457089909,
          0.6585472407803852,
          0.8082812853740173,
          0.9658253757528816,
          0.5326876375912057,
          0.3461283675878534,
          0.32627940790763715,
          0.5698297888332875,
          0.8272166623925556,
          0.575290331087214,
          0.592913475321843,
          0.2905097381922862,
          0.4176111473817956,
          0.09848590276519861,
          0.1617371014730714,
          -0.04009757830103517,
          -0.15215282585994666,
          -0.11926685659607285,
          -0.27933299305685966,
          -0.07936639368747736,
          -0.31276815144070474,
          -0.34670514483794757,
          -0.5201164133487205,
          -0.34144842466993147,
          -0.6975806775926542,
          -0.5437528770025923,
          -0.747289154174978,
          -0.8840598294417767,
          -0.8614113361394199,
          -0.9497262438955346,
          -0.8979300495910152,
          -0.949665083208682,
          -0.880358364119804,
          -0.8662836158466595,
          -0.9924087649350495,
          -0.988693553534636,
          -0.9511577647976832,
          -1.0803726877190007,
          -0.8931668240301053,
          -0.868188184610875,
          -0.9542706334130864,
          -0.6110901765433163,
          -0.8134376756685893,
          -0.9440247252459114,
          -0.9531211133705031
         ],
         "yaxis": "y3"
        },
        {
         "mode": "lines",
         "name": "Predicted (Alpha 0.0001)",
         "showlegend": false,
         "type": "scatter",
         "x": [
          1.0471975511965976,
          1.117010721276371,
          1.1868238913561442,
          1.2566370614359172,
          1.3264502315156903,
          1.3962634015954636,
          1.4660765716752369,
          1.53588974175501,
          1.605702911834783,
          1.6755160819145563,
          1.7453292519943295,
          1.8151424220741028,
          1.8849555921538759,
          1.9547687622336491,
          2.0245819323134224,
          2.0943951023931953,
          2.1642082724729685,
          2.234021442552742,
          2.303834612632515,
          2.3736477827122884,
          2.443460952792061,
          2.5132741228718345,
          2.5830872929516078,
          2.6529004630313806,
          2.722713633111154,
          2.792526803190927,
          2.8623399732707,
          2.9321531433504737,
          3.0019663134302466,
          3.07177948351002,
          3.141592653589793,
          3.211405823669566,
          3.2812189937493397,
          3.3510321638291125,
          3.420845333908886,
          3.490658503988659,
          3.560471674068432,
          3.6302848441482056,
          3.7000980142279785,
          3.7699111843077517,
          3.839724354387525,
          3.9095375244672983,
          3.979350694547071,
          4.049163864626845,
          4.118977034706617,
          4.1887902047863905,
          4.258603374866164,
          4.328416544945937,
          4.39822971502571,
          4.468042885105484,
          4.537856055185257,
          4.60766922526503,
          4.677482395344803,
          4.747295565424577,
          4.817108735504349,
          4.886921905584122,
          4.956735075663896,
          5.026548245743669,
          5.096361415823442,
          5.1661745859032155
         ],
         "xaxis": "x4",
         "y": [
          0.9602389461282388,
          0.9715734287261478,
          0.9807084659317644,
          0.9875485976012213,
          0.9919993072837517,
          0.9939672774310059,
          0.9933606947846969,
          0.9900896125013822,
          0.9840663760168572,
          0.9752061200811283,
          0.9634273447973974,
          0.9486525788613966,
          0.9308091385033334,
          0.9098299908622667,
          0.8856547306452462,
          0.8582306789085199,
          0.827514112605896,
          0.7934716331322385,
          0.7560816813907563,
          0.7153362058631447,
          0.671242488680926,
          0.62382513268957,
          0.5731282098527826,
          0.5192175679329322,
          0.46218328805437836,
          0.40214228033540894,
          0.33924099806129526,
          0.2736582426360878,
          0.20560802153185076,
          0.13534240935256597,
          0.06315434760716282,
          -0.010619698541188376,
          -0.08559732884630311,
          -0.16134816845408984,
          -0.2373923554192402,
          -0.3131997438329896,
          -0.3881900501213358,
          -0.4617342153785977,
          -0.5331573090639918,
          -0.6017433599418623,
          -0.666742569821114,
          -0.7273814455855678,
          -0.7828764764593341,
          -0.8324520878004181,
          -0.8753637214769798,
          -0.9109270277149912,
          -0.9385543060305748,
          -0.9577995054606437,
          -0.9684132889467338,
          -0.9704098857678591,
          -0.9641477019237505,
          -0.9504259341258539,
          -0.9305997415815088,
          -0.9067168743298443,
          -0.8816790410470782,
          -0.8594317268101346,
          -0.8451866464202418,
          -0.845681545994035,
          -0.8694826494221388,
          -0.9273356921308409
         ],
         "yaxis": "y4"
        },
        {
         "mode": "markers",
         "name": "Actual (Alpha 0.0001)",
         "showlegend": false,
         "type": "scatter",
         "x": [
          1.0471975511965976,
          1.117010721276371,
          1.1868238913561442,
          1.2566370614359172,
          1.3264502315156903,
          1.3962634015954636,
          1.4660765716752369,
          1.53588974175501,
          1.605702911834783,
          1.6755160819145563,
          1.7453292519943295,
          1.8151424220741028,
          1.8849555921538759,
          1.9547687622336491,
          2.0245819323134224,
          2.0943951023931953,
          2.1642082724729685,
          2.234021442552742,
          2.303834612632515,
          2.3736477827122884,
          2.443460952792061,
          2.5132741228718345,
          2.5830872929516078,
          2.6529004630313806,
          2.722713633111154,
          2.792526803190927,
          2.8623399732707,
          2.9321531433504737,
          3.0019663134302466,
          3.07177948351002,
          3.141592653589793,
          3.211405823669566,
          3.2812189937493397,
          3.3510321638291125,
          3.420845333908886,
          3.490658503988659,
          3.560471674068432,
          3.6302848441482056,
          3.7000980142279785,
          3.7699111843077517,
          3.839724354387525,
          3.9095375244672983,
          3.979350694547071,
          4.049163864626845,
          4.118977034706617,
          4.1887902047863905,
          4.258603374866164,
          4.328416544945937,
          4.39822971502571,
          4.468042885105484,
          4.537856055185257,
          4.60766922526503,
          4.677482395344803,
          4.747295565424577,
          4.817108735504349,
          4.886921905584122,
          4.956735075663896,
          5.026548245743669,
          5.096361415823442,
          5.1661745859032155
         ],
         "xaxis": "x4",
         "y": [
          1.0657633794038663,
          1.0060858924589278,
          0.6953738107500972,
          0.9497989388058752,
          1.0634961223595685,
          0.8767949189043736,
          1.0343486332220913,
          1.015673105876341,
          1.0000345416592007,
          0.9683318637793322,
          1.0497616815052477,
          1.1507513323478282,
          0.8062966657176391,
          1.081424966264193,
          0.9330885658178659,
          0.9327960457089909,
          0.6585472407803852,
          0.8082812853740173,
          0.9658253757528816,
          0.5326876375912057,
          0.3461283675878534,
          0.32627940790763715,
          0.5698297888332875,
          0.8272166623925556,
          0.575290331087214,
          0.592913475321843,
          0.2905097381922862,
          0.4176111473817956,
          0.09848590276519861,
          0.1617371014730714,
          -0.04009757830103517,
          -0.15215282585994666,
          -0.11926685659607285,
          -0.27933299305685966,
          -0.07936639368747736,
          -0.31276815144070474,
          -0.34670514483794757,
          -0.5201164133487205,
          -0.34144842466993147,
          -0.6975806775926542,
          -0.5437528770025923,
          -0.747289154174978,
          -0.8840598294417767,
          -0.8614113361394199,
          -0.9497262438955346,
          -0.8979300495910152,
          -0.949665083208682,
          -0.880358364119804,
          -0.8662836158466595,
          -0.9924087649350495,
          -0.988693553534636,
          -0.9511577647976832,
          -1.0803726877190007,
          -0.8931668240301053,
          -0.868188184610875,
          -0.9542706334130864,
          -0.6110901765433163,
          -0.8134376756685893,
          -0.9440247252459114,
          -0.9531211133705031
         ],
         "yaxis": "y4"
        },
        {
         "mode": "lines",
         "name": "Predicted (Alpha 0.001)",
         "showlegend": false,
         "type": "scatter",
         "x": [
          1.0471975511965976,
          1.117010721276371,
          1.1868238913561442,
          1.2566370614359172,
          1.3264502315156903,
          1.3962634015954636,
          1.4660765716752369,
          1.53588974175501,
          1.605702911834783,
          1.6755160819145563,
          1.7453292519943295,
          1.8151424220741028,
          1.8849555921538759,
          1.9547687622336491,
          2.0245819323134224,
          2.0943951023931953,
          2.1642082724729685,
          2.234021442552742,
          2.303834612632515,
          2.3736477827122884,
          2.443460952792061,
          2.5132741228718345,
          2.5830872929516078,
          2.6529004630313806,
          2.722713633111154,
          2.792526803190927,
          2.8623399732707,
          2.9321531433504737,
          3.0019663134302466,
          3.07177948351002,
          3.141592653589793,
          3.211405823669566,
          3.2812189937493397,
          3.3510321638291125,
          3.420845333908886,
          3.490658503988659,
          3.560471674068432,
          3.6302848441482056,
          3.7000980142279785,
          3.7699111843077517,
          3.839724354387525,
          3.9095375244672983,
          3.979350694547071,
          4.049163864626845,
          4.118977034706617,
          4.1887902047863905,
          4.258603374866164,
          4.328416544945937,
          4.39822971502571,
          4.468042885105484,
          4.537856055185257,
          4.60766922526503,
          4.677482395344803,
          4.747295565424577,
          4.817108735504349,
          4.886921905584122,
          4.956735075663896,
          5.026548245743669,
          5.096361415823442,
          5.1661745859032155
         ],
         "xaxis": "x5",
         "y": [
          1.0479089263786108,
          1.045073019887692,
          1.0407987697918866,
          1.034998159569504,
          1.0275839326744038,
          1.0184697924740347,
          1.0075706399314026,
          0.9948028536511307,
          0.980084617185024,
          0.963336298756971,
          0.9444808888145872,
          0.9234445010382116,
          0.9001569426271182,
          0.8745523598262063,
          0.8465699647392647,
          0.8161548494791595,
          0.7832588936090091,
          0.7478417706052387,
          0.7098720586915426,
          0.669328460814629,
          0.6262011377133754,
          0.580493156920173,
          0.5322220590651339,
          0.48142154095859724,
          0.42814325252173646,
          0.37245870162260436,
          0.3144612571448778,
          0.2542682360417723,
          0.19202305456290752,
          0.1278974171220602,
          0.0620935082113047,
          -0.0051538568502082355,
          -0.07357517795568576,
          -0.14286438213525493,
          -0.2126771863012747,
          -0.28262981429081274,
          -0.35229819330138107,
          -0.4212177799337999,
          -0.4888841951378379,
          -0.5547548809184236,
          -0.6182520302737582,
          -0.6787670861322848,
          -0.7356671557277061,
          -0.7883037446642792,
          -0.8360242807171568,
          -0.8781869721039878,
          -0.9141796295600879,
          -0.9434431771492643,
          -0.9655006845442181,
          -0.9799928748199352,
          -0.9867211980402547,
          -0.9856997136238953,
          -0.9772171953240317,
          -0.9619110634566647,
          -0.940854961727445,
          -0.9156620327520072,
          -0.8886062094268731,
          -0.8627641311505521,
          -0.8421806171707964,
          -0.8320609868981886
         ],
         "yaxis": "y5"
        },
        {
         "mode": "markers",
         "name": "Actual (Alpha 0.001)",
         "showlegend": false,
         "type": "scatter",
         "x": [
          1.0471975511965976,
          1.117010721276371,
          1.1868238913561442,
          1.2566370614359172,
          1.3264502315156903,
          1.3962634015954636,
          1.4660765716752369,
          1.53588974175501,
          1.605702911834783,
          1.6755160819145563,
          1.7453292519943295,
          1.8151424220741028,
          1.8849555921538759,
          1.9547687622336491,
          2.0245819323134224,
          2.0943951023931953,
          2.1642082724729685,
          2.234021442552742,
          2.303834612632515,
          2.3736477827122884,
          2.443460952792061,
          2.5132741228718345,
          2.5830872929516078,
          2.6529004630313806,
          2.722713633111154,
          2.792526803190927,
          2.8623399732707,
          2.9321531433504737,
          3.0019663134302466,
          3.07177948351002,
          3.141592653589793,
          3.211405823669566,
          3.2812189937493397,
          3.3510321638291125,
          3.420845333908886,
          3.490658503988659,
          3.560471674068432,
          3.6302848441482056,
          3.7000980142279785,
          3.7699111843077517,
          3.839724354387525,
          3.9095375244672983,
          3.979350694547071,
          4.049163864626845,
          4.118977034706617,
          4.1887902047863905,
          4.258603374866164,
          4.328416544945937,
          4.39822971502571,
          4.468042885105484,
          4.537856055185257,
          4.60766922526503,
          4.677482395344803,
          4.747295565424577,
          4.817108735504349,
          4.886921905584122,
          4.956735075663896,
          5.026548245743669,
          5.096361415823442,
          5.1661745859032155
         ],
         "xaxis": "x5",
         "y": [
          1.0657633794038663,
          1.0060858924589278,
          0.6953738107500972,
          0.9497989388058752,
          1.0634961223595685,
          0.8767949189043736,
          1.0343486332220913,
          1.015673105876341,
          1.0000345416592007,
          0.9683318637793322,
          1.0497616815052477,
          1.1507513323478282,
          0.8062966657176391,
          1.081424966264193,
          0.9330885658178659,
          0.9327960457089909,
          0.6585472407803852,
          0.8082812853740173,
          0.9658253757528816,
          0.5326876375912057,
          0.3461283675878534,
          0.32627940790763715,
          0.5698297888332875,
          0.8272166623925556,
          0.575290331087214,
          0.592913475321843,
          0.2905097381922862,
          0.4176111473817956,
          0.09848590276519861,
          0.1617371014730714,
          -0.04009757830103517,
          -0.15215282585994666,
          -0.11926685659607285,
          -0.27933299305685966,
          -0.07936639368747736,
          -0.31276815144070474,
          -0.34670514483794757,
          -0.5201164133487205,
          -0.34144842466993147,
          -0.6975806775926542,
          -0.5437528770025923,
          -0.747289154174978,
          -0.8840598294417767,
          -0.8614113361394199,
          -0.9497262438955346,
          -0.8979300495910152,
          -0.949665083208682,
          -0.880358364119804,
          -0.8662836158466595,
          -0.9924087649350495,
          -0.988693553534636,
          -0.9511577647976832,
          -1.0803726877190007,
          -0.8931668240301053,
          -0.868188184610875,
          -0.9542706334130864,
          -0.6110901765433163,
          -0.8134376756685893,
          -0.9440247252459114,
          -0.9531211133705031
         ],
         "yaxis": "y5"
        },
        {
         "mode": "lines",
         "name": "Predicted (Alpha 0.01)",
         "showlegend": false,
         "type": "scatter",
         "x": [
          1.0471975511965976,
          1.117010721276371,
          1.1868238913561442,
          1.2566370614359172,
          1.3264502315156903,
          1.3962634015954636,
          1.4660765716752369,
          1.53588974175501,
          1.605702911834783,
          1.6755160819145563,
          1.7453292519943295,
          1.8151424220741028,
          1.8849555921538759,
          1.9547687622336491,
          2.0245819323134224,
          2.0943951023931953,
          2.1642082724729685,
          2.234021442552742,
          2.303834612632515,
          2.3736477827122884,
          2.443460952792061,
          2.5132741228718345,
          2.5830872929516078,
          2.6529004630313806,
          2.722713633111154,
          2.792526803190927,
          2.8623399732707,
          2.9321531433504737,
          3.0019663134302466,
          3.07177948351002,
          3.141592653589793,
          3.211405823669566,
          3.2812189937493397,
          3.3510321638291125,
          3.420845333908886,
          3.490658503988659,
          3.560471674068432,
          3.6302848441482056,
          3.7000980142279785,
          3.7699111843077517,
          3.839724354387525,
          3.9095375244672983,
          3.979350694547071,
          4.049163864626845,
          4.118977034706617,
          4.1887902047863905,
          4.258603374866164,
          4.328416544945937,
          4.39822971502571,
          4.468042885105484,
          4.537856055185257,
          4.60766922526503,
          4.677482395344803,
          4.747295565424577,
          4.817108735504349,
          4.886921905584122,
          4.956735075663896,
          5.026548245743669,
          5.096361415823442,
          5.1661745859032155
         ],
         "xaxis": "x6",
         "y": [
          1.1456182241014243,
          1.126864736077518,
          1.1069013606023639,
          1.0857281097424873,
          1.0633450030633158,
          1.0397520714768862,
          1.014949362698572,
          0.9889369488510583,
          0.9617149368939807,
          0.9332834827250863,
          0.9036428099972215,
          0.8727932349289408,
          0.8407351986593575,
          0.8074693090147794,
          0.7729963939206941,
          0.7373175691131792,
          0.7004343232846242,
          0.6623486243458954,
          0.6230630511073169,
          0.5825809553810638,
          0.5409066602951383,
          0.49804570149187244,
          0.4540051188701377,
          0.40879380762886613,
          0.3624229385893203,
          0.314906459124475,
          0.26626168751604695,
          0.21651001520387209,
          0.16567773319964338,
          0.11379700091924796,
          0.06090697785738932,
          0.007055140897630381,
          -0.0477011873660649,
          -0.10329307110985478,
          -0.15963792332378432,
          -0.21663716287034074,
          -0.274173528426735,
          -0.33210800730774603,
          -0.39027633298733505,
          -0.44848500063437025,
          -0.5065067451322256,
          -0.5640754208447638,
          -0.620880216802419,
          -0.676559134991359,
          -0.7306916530148188,
          -0.7827904855367844,
          -0.8322923515915371,
          -0.8785476470249017,
          -0.9208089130000344,
          -0.9582179826274592,
          -0.989791678339995,
          -1.0144059226017519,
          -1.0307781138891143,
          -1.0374476085825102,
          -1.0327541374316884,
          -1.0148139725744376,
          -0.9814936476684396,
          -0.9303810195066889,
          -0.8587534444961747,
          -0.7635428275539679
         ],
         "yaxis": "y6"
        },
        {
         "mode": "markers",
         "name": "Actual (Alpha 0.01)",
         "showlegend": false,
         "type": "scatter",
         "x": [
          1.0471975511965976,
          1.117010721276371,
          1.1868238913561442,
          1.2566370614359172,
          1.3264502315156903,
          1.3962634015954636,
          1.4660765716752369,
          1.53588974175501,
          1.605702911834783,
          1.6755160819145563,
          1.7453292519943295,
          1.8151424220741028,
          1.8849555921538759,
          1.9547687622336491,
          2.0245819323134224,
          2.0943951023931953,
          2.1642082724729685,
          2.234021442552742,
          2.303834612632515,
          2.3736477827122884,
          2.443460952792061,
          2.5132741228718345,
          2.5830872929516078,
          2.6529004630313806,
          2.722713633111154,
          2.792526803190927,
          2.8623399732707,
          2.9321531433504737,
          3.0019663134302466,
          3.07177948351002,
          3.141592653589793,
          3.211405823669566,
          3.2812189937493397,
          3.3510321638291125,
          3.420845333908886,
          3.490658503988659,
          3.560471674068432,
          3.6302848441482056,
          3.7000980142279785,
          3.7699111843077517,
          3.839724354387525,
          3.9095375244672983,
          3.979350694547071,
          4.049163864626845,
          4.118977034706617,
          4.1887902047863905,
          4.258603374866164,
          4.328416544945937,
          4.39822971502571,
          4.468042885105484,
          4.537856055185257,
          4.60766922526503,
          4.677482395344803,
          4.747295565424577,
          4.817108735504349,
          4.886921905584122,
          4.956735075663896,
          5.026548245743669,
          5.096361415823442,
          5.1661745859032155
         ],
         "xaxis": "x6",
         "y": [
          1.0657633794038663,
          1.0060858924589278,
          0.6953738107500972,
          0.9497989388058752,
          1.0634961223595685,
          0.8767949189043736,
          1.0343486332220913,
          1.015673105876341,
          1.0000345416592007,
          0.9683318637793322,
          1.0497616815052477,
          1.1507513323478282,
          0.8062966657176391,
          1.081424966264193,
          0.9330885658178659,
          0.9327960457089909,
          0.6585472407803852,
          0.8082812853740173,
          0.9658253757528816,
          0.5326876375912057,
          0.3461283675878534,
          0.32627940790763715,
          0.5698297888332875,
          0.8272166623925556,
          0.575290331087214,
          0.592913475321843,
          0.2905097381922862,
          0.4176111473817956,
          0.09848590276519861,
          0.1617371014730714,
          -0.04009757830103517,
          -0.15215282585994666,
          -0.11926685659607285,
          -0.27933299305685966,
          -0.07936639368747736,
          -0.31276815144070474,
          -0.34670514483794757,
          -0.5201164133487205,
          -0.34144842466993147,
          -0.6975806775926542,
          -0.5437528770025923,
          -0.747289154174978,
          -0.8840598294417767,
          -0.8614113361394199,
          -0.9497262438955346,
          -0.8979300495910152,
          -0.949665083208682,
          -0.880358364119804,
          -0.8662836158466595,
          -0.9924087649350495,
          -0.988693553534636,
          -0.9511577647976832,
          -1.0803726877190007,
          -0.8931668240301053,
          -0.868188184610875,
          -0.9542706334130864,
          -0.6110901765433163,
          -0.8134376756685893,
          -0.9440247252459114,
          -0.9531211133705031
         ],
         "yaxis": "y6"
        },
        {
         "mode": "lines",
         "name": "Predicted (Alpha 1)",
         "showlegend": false,
         "type": "scatter",
         "x": [
          1.0471975511965976,
          1.117010721276371,
          1.1868238913561442,
          1.2566370614359172,
          1.3264502315156903,
          1.3962634015954636,
          1.4660765716752369,
          1.53588974175501,
          1.605702911834783,
          1.6755160819145563,
          1.7453292519943295,
          1.8151424220741028,
          1.8849555921538759,
          1.9547687622336491,
          2.0245819323134224,
          2.0943951023931953,
          2.1642082724729685,
          2.234021442552742,
          2.303834612632515,
          2.3736477827122884,
          2.443460952792061,
          2.5132741228718345,
          2.5830872929516078,
          2.6529004630313806,
          2.722713633111154,
          2.792526803190927,
          2.8623399732707,
          2.9321531433504737,
          3.0019663134302466,
          3.07177948351002,
          3.141592653589793,
          3.211405823669566,
          3.2812189937493397,
          3.3510321638291125,
          3.420845333908886,
          3.490658503988659,
          3.560471674068432,
          3.6302848441482056,
          3.7000980142279785,
          3.7699111843077517,
          3.839724354387525,
          3.9095375244672983,
          3.979350694547071,
          4.049163864626845,
          4.118977034706617,
          4.1887902047863905,
          4.258603374866164,
          4.328416544945937,
          4.39822971502571,
          4.468042885105484,
          4.537856055185257,
          4.60766922526503,
          4.677482395344803,
          4.747295565424577,
          4.817108735504349,
          4.886921905584122,
          4.956735075663896,
          5.026548245743669,
          5.096361415823442,
          5.1661745859032155
         ],
         "xaxis": "x7",
         "y": [
          0.03803199683903505,
          0.03803199683903505,
          0.03803199683903505,
          0.03803199683903505,
          0.03803199683903505,
          0.03803199683903505,
          0.03803199683903505,
          0.03803199683903505,
          0.03803199683903505,
          0.03803199683903505,
          0.03803199683903505,
          0.03803199683903505,
          0.03803199683903505,
          0.03803199683903505,
          0.03803199683903505,
          0.03803199683903505,
          0.03803199683903505,
          0.03803199683903505,
          0.03803199683903505,
          0.03803199683903505,
          0.03803199683903505,
          0.03803199683903505,
          0.03803199683903505,
          0.03803199683903505,
          0.03803199683903505,
          0.03803199683903505,
          0.03803199683903505,
          0.03803199683903505,
          0.03803199683903505,
          0.03803199683903505,
          0.03803199683903505,
          0.03803199683903505,
          0.03803199683903505,
          0.03803199683903505,
          0.03803199683903505,
          0.03803199683903505,
          0.03803199683903505,
          0.03803199683903505,
          0.03803199683903505,
          0.03803199683903505,
          0.03803199683903505,
          0.03803199683903505,
          0.03803199683903505,
          0.03803199683903505,
          0.03803199683903505,
          0.03803199683903505,
          0.03803199683903505,
          0.03803199683903505,
          0.03803199683903505,
          0.03803199683903505,
          0.03803199683903505,
          0.03803199683903505,
          0.03803199683903505,
          0.03803199683903505,
          0.03803199683903505,
          0.03803199683903505,
          0.03803199683903505,
          0.03803199683903505,
          0.03803199683903505,
          0.03803199683903505
         ],
         "yaxis": "y7"
        },
        {
         "mode": "markers",
         "name": "Actual (Alpha 1)",
         "showlegend": false,
         "type": "scatter",
         "x": [
          1.0471975511965976,
          1.117010721276371,
          1.1868238913561442,
          1.2566370614359172,
          1.3264502315156903,
          1.3962634015954636,
          1.4660765716752369,
          1.53588974175501,
          1.605702911834783,
          1.6755160819145563,
          1.7453292519943295,
          1.8151424220741028,
          1.8849555921538759,
          1.9547687622336491,
          2.0245819323134224,
          2.0943951023931953,
          2.1642082724729685,
          2.234021442552742,
          2.303834612632515,
          2.3736477827122884,
          2.443460952792061,
          2.5132741228718345,
          2.5830872929516078,
          2.6529004630313806,
          2.722713633111154,
          2.792526803190927,
          2.8623399732707,
          2.9321531433504737,
          3.0019663134302466,
          3.07177948351002,
          3.141592653589793,
          3.211405823669566,
          3.2812189937493397,
          3.3510321638291125,
          3.420845333908886,
          3.490658503988659,
          3.560471674068432,
          3.6302848441482056,
          3.7000980142279785,
          3.7699111843077517,
          3.839724354387525,
          3.9095375244672983,
          3.979350694547071,
          4.049163864626845,
          4.118977034706617,
          4.1887902047863905,
          4.258603374866164,
          4.328416544945937,
          4.39822971502571,
          4.468042885105484,
          4.537856055185257,
          4.60766922526503,
          4.677482395344803,
          4.747295565424577,
          4.817108735504349,
          4.886921905584122,
          4.956735075663896,
          5.026548245743669,
          5.096361415823442,
          5.1661745859032155
         ],
         "xaxis": "x7",
         "y": [
          1.0657633794038663,
          1.0060858924589278,
          0.6953738107500972,
          0.9497989388058752,
          1.0634961223595685,
          0.8767949189043736,
          1.0343486332220913,
          1.015673105876341,
          1.0000345416592007,
          0.9683318637793322,
          1.0497616815052477,
          1.1507513323478282,
          0.8062966657176391,
          1.081424966264193,
          0.9330885658178659,
          0.9327960457089909,
          0.6585472407803852,
          0.8082812853740173,
          0.9658253757528816,
          0.5326876375912057,
          0.3461283675878534,
          0.32627940790763715,
          0.5698297888332875,
          0.8272166623925556,
          0.575290331087214,
          0.592913475321843,
          0.2905097381922862,
          0.4176111473817956,
          0.09848590276519861,
          0.1617371014730714,
          -0.04009757830103517,
          -0.15215282585994666,
          -0.11926685659607285,
          -0.27933299305685966,
          -0.07936639368747736,
          -0.31276815144070474,
          -0.34670514483794757,
          -0.5201164133487205,
          -0.34144842466993147,
          -0.6975806775926542,
          -0.5437528770025923,
          -0.747289154174978,
          -0.8840598294417767,
          -0.8614113361394199,
          -0.9497262438955346,
          -0.8979300495910152,
          -0.949665083208682,
          -0.880358364119804,
          -0.8662836158466595,
          -0.9924087649350495,
          -0.988693553534636,
          -0.9511577647976832,
          -1.0803726877190007,
          -0.8931668240301053,
          -0.868188184610875,
          -0.9542706334130864,
          -0.6110901765433163,
          -0.8134376756685893,
          -0.9440247252459114,
          -0.9531211133705031
         ],
         "yaxis": "y7"
        },
        {
         "mode": "lines",
         "name": "Predicted (Alpha 5)",
         "showlegend": false,
         "type": "scatter",
         "x": [
          1.0471975511965976,
          1.117010721276371,
          1.1868238913561442,
          1.2566370614359172,
          1.3264502315156903,
          1.3962634015954636,
          1.4660765716752369,
          1.53588974175501,
          1.605702911834783,
          1.6755160819145563,
          1.7453292519943295,
          1.8151424220741028,
          1.8849555921538759,
          1.9547687622336491,
          2.0245819323134224,
          2.0943951023931953,
          2.1642082724729685,
          2.234021442552742,
          2.303834612632515,
          2.3736477827122884,
          2.443460952792061,
          2.5132741228718345,
          2.5830872929516078,
          2.6529004630313806,
          2.722713633111154,
          2.792526803190927,
          2.8623399732707,
          2.9321531433504737,
          3.0019663134302466,
          3.07177948351002,
          3.141592653589793,
          3.211405823669566,
          3.2812189937493397,
          3.3510321638291125,
          3.420845333908886,
          3.490658503988659,
          3.560471674068432,
          3.6302848441482056,
          3.7000980142279785,
          3.7699111843077517,
          3.839724354387525,
          3.9095375244672983,
          3.979350694547071,
          4.049163864626845,
          4.118977034706617,
          4.1887902047863905,
          4.258603374866164,
          4.328416544945937,
          4.39822971502571,
          4.468042885105484,
          4.537856055185257,
          4.60766922526503,
          4.677482395344803,
          4.747295565424577,
          4.817108735504349,
          4.886921905584122,
          4.956735075663896,
          5.026548245743669,
          5.096361415823442,
          5.1661745859032155
         ],
         "xaxis": "x8",
         "y": [
          0.03803199683903505,
          0.03803199683903505,
          0.03803199683903505,
          0.03803199683903505,
          0.03803199683903505,
          0.03803199683903505,
          0.03803199683903505,
          0.03803199683903505,
          0.03803199683903505,
          0.03803199683903505,
          0.03803199683903505,
          0.03803199683903505,
          0.03803199683903505,
          0.03803199683903505,
          0.03803199683903505,
          0.03803199683903505,
          0.03803199683903505,
          0.03803199683903505,
          0.03803199683903505,
          0.03803199683903505,
          0.03803199683903505,
          0.03803199683903505,
          0.03803199683903505,
          0.03803199683903505,
          0.03803199683903505,
          0.03803199683903505,
          0.03803199683903505,
          0.03803199683903505,
          0.03803199683903505,
          0.03803199683903505,
          0.03803199683903505,
          0.03803199683903505,
          0.03803199683903505,
          0.03803199683903505,
          0.03803199683903505,
          0.03803199683903505,
          0.03803199683903505,
          0.03803199683903505,
          0.03803199683903505,
          0.03803199683903505,
          0.03803199683903505,
          0.03803199683903505,
          0.03803199683903505,
          0.03803199683903505,
          0.03803199683903505,
          0.03803199683903505,
          0.03803199683903505,
          0.03803199683903505,
          0.03803199683903505,
          0.03803199683903505,
          0.03803199683903505,
          0.03803199683903505,
          0.03803199683903505,
          0.03803199683903505,
          0.03803199683903505,
          0.03803199683903505,
          0.03803199683903505,
          0.03803199683903505,
          0.03803199683903505,
          0.03803199683903505
         ],
         "yaxis": "y8"
        },
        {
         "mode": "markers",
         "name": "Actual (Alpha 5)",
         "showlegend": false,
         "type": "scatter",
         "x": [
          1.0471975511965976,
          1.117010721276371,
          1.1868238913561442,
          1.2566370614359172,
          1.3264502315156903,
          1.3962634015954636,
          1.4660765716752369,
          1.53588974175501,
          1.605702911834783,
          1.6755160819145563,
          1.7453292519943295,
          1.8151424220741028,
          1.8849555921538759,
          1.9547687622336491,
          2.0245819323134224,
          2.0943951023931953,
          2.1642082724729685,
          2.234021442552742,
          2.303834612632515,
          2.3736477827122884,
          2.443460952792061,
          2.5132741228718345,
          2.5830872929516078,
          2.6529004630313806,
          2.722713633111154,
          2.792526803190927,
          2.8623399732707,
          2.9321531433504737,
          3.0019663134302466,
          3.07177948351002,
          3.141592653589793,
          3.211405823669566,
          3.2812189937493397,
          3.3510321638291125,
          3.420845333908886,
          3.490658503988659,
          3.560471674068432,
          3.6302848441482056,
          3.7000980142279785,
          3.7699111843077517,
          3.839724354387525,
          3.9095375244672983,
          3.979350694547071,
          4.049163864626845,
          4.118977034706617,
          4.1887902047863905,
          4.258603374866164,
          4.328416544945937,
          4.39822971502571,
          4.468042885105484,
          4.537856055185257,
          4.60766922526503,
          4.677482395344803,
          4.747295565424577,
          4.817108735504349,
          4.886921905584122,
          4.956735075663896,
          5.026548245743669,
          5.096361415823442,
          5.1661745859032155
         ],
         "xaxis": "x8",
         "y": [
          1.0657633794038663,
          1.0060858924589278,
          0.6953738107500972,
          0.9497989388058752,
          1.0634961223595685,
          0.8767949189043736,
          1.0343486332220913,
          1.015673105876341,
          1.0000345416592007,
          0.9683318637793322,
          1.0497616815052477,
          1.1507513323478282,
          0.8062966657176391,
          1.081424966264193,
          0.9330885658178659,
          0.9327960457089909,
          0.6585472407803852,
          0.8082812853740173,
          0.9658253757528816,
          0.5326876375912057,
          0.3461283675878534,
          0.32627940790763715,
          0.5698297888332875,
          0.8272166623925556,
          0.575290331087214,
          0.592913475321843,
          0.2905097381922862,
          0.4176111473817956,
          0.09848590276519861,
          0.1617371014730714,
          -0.04009757830103517,
          -0.15215282585994666,
          -0.11926685659607285,
          -0.27933299305685966,
          -0.07936639368747736,
          -0.31276815144070474,
          -0.34670514483794757,
          -0.5201164133487205,
          -0.34144842466993147,
          -0.6975806775926542,
          -0.5437528770025923,
          -0.747289154174978,
          -0.8840598294417767,
          -0.8614113361394199,
          -0.9497262438955346,
          -0.8979300495910152,
          -0.949665083208682,
          -0.880358364119804,
          -0.8662836158466595,
          -0.9924087649350495,
          -0.988693553534636,
          -0.9511577647976832,
          -1.0803726877190007,
          -0.8931668240301053,
          -0.868188184610875,
          -0.9542706334130864,
          -0.6110901765433163,
          -0.8134376756685893,
          -0.9440247252459114,
          -0.9531211133705031
         ],
         "yaxis": "y8"
        },
        {
         "mode": "lines",
         "name": "Predicted (Alpha 10)",
         "showlegend": false,
         "type": "scatter",
         "x": [
          1.0471975511965976,
          1.117010721276371,
          1.1868238913561442,
          1.2566370614359172,
          1.3264502315156903,
          1.3962634015954636,
          1.4660765716752369,
          1.53588974175501,
          1.605702911834783,
          1.6755160819145563,
          1.7453292519943295,
          1.8151424220741028,
          1.8849555921538759,
          1.9547687622336491,
          2.0245819323134224,
          2.0943951023931953,
          2.1642082724729685,
          2.234021442552742,
          2.303834612632515,
          2.3736477827122884,
          2.443460952792061,
          2.5132741228718345,
          2.5830872929516078,
          2.6529004630313806,
          2.722713633111154,
          2.792526803190927,
          2.8623399732707,
          2.9321531433504737,
          3.0019663134302466,
          3.07177948351002,
          3.141592653589793,
          3.211405823669566,
          3.2812189937493397,
          3.3510321638291125,
          3.420845333908886,
          3.490658503988659,
          3.560471674068432,
          3.6302848441482056,
          3.7000980142279785,
          3.7699111843077517,
          3.839724354387525,
          3.9095375244672983,
          3.979350694547071,
          4.049163864626845,
          4.118977034706617,
          4.1887902047863905,
          4.258603374866164,
          4.328416544945937,
          4.39822971502571,
          4.468042885105484,
          4.537856055185257,
          4.60766922526503,
          4.677482395344803,
          4.747295565424577,
          4.817108735504349,
          4.886921905584122,
          4.956735075663896,
          5.026548245743669,
          5.096361415823442,
          5.1661745859032155
         ],
         "xaxis": "x9",
         "y": [
          0.03803199683903505,
          0.03803199683903505,
          0.03803199683903505,
          0.03803199683903505,
          0.03803199683903505,
          0.03803199683903505,
          0.03803199683903505,
          0.03803199683903505,
          0.03803199683903505,
          0.03803199683903505,
          0.03803199683903505,
          0.03803199683903505,
          0.03803199683903505,
          0.03803199683903505,
          0.03803199683903505,
          0.03803199683903505,
          0.03803199683903505,
          0.03803199683903505,
          0.03803199683903505,
          0.03803199683903505,
          0.03803199683903505,
          0.03803199683903505,
          0.03803199683903505,
          0.03803199683903505,
          0.03803199683903505,
          0.03803199683903505,
          0.03803199683903505,
          0.03803199683903505,
          0.03803199683903505,
          0.03803199683903505,
          0.03803199683903505,
          0.03803199683903505,
          0.03803199683903505,
          0.03803199683903505,
          0.03803199683903505,
          0.03803199683903505,
          0.03803199683903505,
          0.03803199683903505,
          0.03803199683903505,
          0.03803199683903505,
          0.03803199683903505,
          0.03803199683903505,
          0.03803199683903505,
          0.03803199683903505,
          0.03803199683903505,
          0.03803199683903505,
          0.03803199683903505,
          0.03803199683903505,
          0.03803199683903505,
          0.03803199683903505,
          0.03803199683903505,
          0.03803199683903505,
          0.03803199683903505,
          0.03803199683903505,
          0.03803199683903505,
          0.03803199683903505,
          0.03803199683903505,
          0.03803199683903505,
          0.03803199683903505,
          0.03803199683903505
         ],
         "yaxis": "y9"
        },
        {
         "mode": "markers",
         "name": "Actual (Alpha 10)",
         "showlegend": false,
         "type": "scatter",
         "x": [
          1.0471975511965976,
          1.117010721276371,
          1.1868238913561442,
          1.2566370614359172,
          1.3264502315156903,
          1.3962634015954636,
          1.4660765716752369,
          1.53588974175501,
          1.605702911834783,
          1.6755160819145563,
          1.7453292519943295,
          1.8151424220741028,
          1.8849555921538759,
          1.9547687622336491,
          2.0245819323134224,
          2.0943951023931953,
          2.1642082724729685,
          2.234021442552742,
          2.303834612632515,
          2.3736477827122884,
          2.443460952792061,
          2.5132741228718345,
          2.5830872929516078,
          2.6529004630313806,
          2.722713633111154,
          2.792526803190927,
          2.8623399732707,
          2.9321531433504737,
          3.0019663134302466,
          3.07177948351002,
          3.141592653589793,
          3.211405823669566,
          3.2812189937493397,
          3.3510321638291125,
          3.420845333908886,
          3.490658503988659,
          3.560471674068432,
          3.6302848441482056,
          3.7000980142279785,
          3.7699111843077517,
          3.839724354387525,
          3.9095375244672983,
          3.979350694547071,
          4.049163864626845,
          4.118977034706617,
          4.1887902047863905,
          4.258603374866164,
          4.328416544945937,
          4.39822971502571,
          4.468042885105484,
          4.537856055185257,
          4.60766922526503,
          4.677482395344803,
          4.747295565424577,
          4.817108735504349,
          4.886921905584122,
          4.956735075663896,
          5.026548245743669,
          5.096361415823442,
          5.1661745859032155
         ],
         "xaxis": "x9",
         "y": [
          1.0657633794038663,
          1.0060858924589278,
          0.6953738107500972,
          0.9497989388058752,
          1.0634961223595685,
          0.8767949189043736,
          1.0343486332220913,
          1.015673105876341,
          1.0000345416592007,
          0.9683318637793322,
          1.0497616815052477,
          1.1507513323478282,
          0.8062966657176391,
          1.081424966264193,
          0.9330885658178659,
          0.9327960457089909,
          0.6585472407803852,
          0.8082812853740173,
          0.9658253757528816,
          0.5326876375912057,
          0.3461283675878534,
          0.32627940790763715,
          0.5698297888332875,
          0.8272166623925556,
          0.575290331087214,
          0.592913475321843,
          0.2905097381922862,
          0.4176111473817956,
          0.09848590276519861,
          0.1617371014730714,
          -0.04009757830103517,
          -0.15215282585994666,
          -0.11926685659607285,
          -0.27933299305685966,
          -0.07936639368747736,
          -0.31276815144070474,
          -0.34670514483794757,
          -0.5201164133487205,
          -0.34144842466993147,
          -0.6975806775926542,
          -0.5437528770025923,
          -0.747289154174978,
          -0.8840598294417767,
          -0.8614113361394199,
          -0.9497262438955346,
          -0.8979300495910152,
          -0.949665083208682,
          -0.880358364119804,
          -0.8662836158466595,
          -0.9924087649350495,
          -0.988693553534636,
          -0.9511577647976832,
          -1.0803726877190007,
          -0.8931668240301053,
          -0.868188184610875,
          -0.9542706334130864,
          -0.6110901765433163,
          -0.8134376756685893,
          -0.9440247252459114,
          -0.9531211133705031
         ],
         "yaxis": "y9"
        },
        {
         "mode": "lines",
         "name": "Predicted (Alpha 20)",
         "showlegend": false,
         "type": "scatter",
         "x": [
          1.0471975511965976,
          1.117010721276371,
          1.1868238913561442,
          1.2566370614359172,
          1.3264502315156903,
          1.3962634015954636,
          1.4660765716752369,
          1.53588974175501,
          1.605702911834783,
          1.6755160819145563,
          1.7453292519943295,
          1.8151424220741028,
          1.8849555921538759,
          1.9547687622336491,
          2.0245819323134224,
          2.0943951023931953,
          2.1642082724729685,
          2.234021442552742,
          2.303834612632515,
          2.3736477827122884,
          2.443460952792061,
          2.5132741228718345,
          2.5830872929516078,
          2.6529004630313806,
          2.722713633111154,
          2.792526803190927,
          2.8623399732707,
          2.9321531433504737,
          3.0019663134302466,
          3.07177948351002,
          3.141592653589793,
          3.211405823669566,
          3.2812189937493397,
          3.3510321638291125,
          3.420845333908886,
          3.490658503988659,
          3.560471674068432,
          3.6302848441482056,
          3.7000980142279785,
          3.7699111843077517,
          3.839724354387525,
          3.9095375244672983,
          3.979350694547071,
          4.049163864626845,
          4.118977034706617,
          4.1887902047863905,
          4.258603374866164,
          4.328416544945937,
          4.39822971502571,
          4.468042885105484,
          4.537856055185257,
          4.60766922526503,
          4.677482395344803,
          4.747295565424577,
          4.817108735504349,
          4.886921905584122,
          4.956735075663896,
          5.026548245743669,
          5.096361415823442,
          5.1661745859032155
         ],
         "xaxis": "x10",
         "y": [
          0.03803199683903505,
          0.03803199683903505,
          0.03803199683903505,
          0.03803199683903505,
          0.03803199683903505,
          0.03803199683903505,
          0.03803199683903505,
          0.03803199683903505,
          0.03803199683903505,
          0.03803199683903505,
          0.03803199683903505,
          0.03803199683903505,
          0.03803199683903505,
          0.03803199683903505,
          0.03803199683903505,
          0.03803199683903505,
          0.03803199683903505,
          0.03803199683903505,
          0.03803199683903505,
          0.03803199683903505,
          0.03803199683903505,
          0.03803199683903505,
          0.03803199683903505,
          0.03803199683903505,
          0.03803199683903505,
          0.03803199683903505,
          0.03803199683903505,
          0.03803199683903505,
          0.03803199683903505,
          0.03803199683903505,
          0.03803199683903505,
          0.03803199683903505,
          0.03803199683903505,
          0.03803199683903505,
          0.03803199683903505,
          0.03803199683903505,
          0.03803199683903505,
          0.03803199683903505,
          0.03803199683903505,
          0.03803199683903505,
          0.03803199683903505,
          0.03803199683903505,
          0.03803199683903505,
          0.03803199683903505,
          0.03803199683903505,
          0.03803199683903505,
          0.03803199683903505,
          0.03803199683903505,
          0.03803199683903505,
          0.03803199683903505,
          0.03803199683903505,
          0.03803199683903505,
          0.03803199683903505,
          0.03803199683903505,
          0.03803199683903505,
          0.03803199683903505,
          0.03803199683903505,
          0.03803199683903505,
          0.03803199683903505,
          0.03803199683903505
         ],
         "yaxis": "y10"
        },
        {
         "mode": "markers",
         "name": "Actual (Alpha 20)",
         "showlegend": false,
         "type": "scatter",
         "x": [
          1.0471975511965976,
          1.117010721276371,
          1.1868238913561442,
          1.2566370614359172,
          1.3264502315156903,
          1.3962634015954636,
          1.4660765716752369,
          1.53588974175501,
          1.605702911834783,
          1.6755160819145563,
          1.7453292519943295,
          1.8151424220741028,
          1.8849555921538759,
          1.9547687622336491,
          2.0245819323134224,
          2.0943951023931953,
          2.1642082724729685,
          2.234021442552742,
          2.303834612632515,
          2.3736477827122884,
          2.443460952792061,
          2.5132741228718345,
          2.5830872929516078,
          2.6529004630313806,
          2.722713633111154,
          2.792526803190927,
          2.8623399732707,
          2.9321531433504737,
          3.0019663134302466,
          3.07177948351002,
          3.141592653589793,
          3.211405823669566,
          3.2812189937493397,
          3.3510321638291125,
          3.420845333908886,
          3.490658503988659,
          3.560471674068432,
          3.6302848441482056,
          3.7000980142279785,
          3.7699111843077517,
          3.839724354387525,
          3.9095375244672983,
          3.979350694547071,
          4.049163864626845,
          4.118977034706617,
          4.1887902047863905,
          4.258603374866164,
          4.328416544945937,
          4.39822971502571,
          4.468042885105484,
          4.537856055185257,
          4.60766922526503,
          4.677482395344803,
          4.747295565424577,
          4.817108735504349,
          4.886921905584122,
          4.956735075663896,
          5.026548245743669,
          5.096361415823442,
          5.1661745859032155
         ],
         "xaxis": "x10",
         "y": [
          1.0657633794038663,
          1.0060858924589278,
          0.6953738107500972,
          0.9497989388058752,
          1.0634961223595685,
          0.8767949189043736,
          1.0343486332220913,
          1.015673105876341,
          1.0000345416592007,
          0.9683318637793322,
          1.0497616815052477,
          1.1507513323478282,
          0.8062966657176391,
          1.081424966264193,
          0.9330885658178659,
          0.9327960457089909,
          0.6585472407803852,
          0.8082812853740173,
          0.9658253757528816,
          0.5326876375912057,
          0.3461283675878534,
          0.32627940790763715,
          0.5698297888332875,
          0.8272166623925556,
          0.575290331087214,
          0.592913475321843,
          0.2905097381922862,
          0.4176111473817956,
          0.09848590276519861,
          0.1617371014730714,
          -0.04009757830103517,
          -0.15215282585994666,
          -0.11926685659607285,
          -0.27933299305685966,
          -0.07936639368747736,
          -0.31276815144070474,
          -0.34670514483794757,
          -0.5201164133487205,
          -0.34144842466993147,
          -0.6975806775926542,
          -0.5437528770025923,
          -0.747289154174978,
          -0.8840598294417767,
          -0.8614113361394199,
          -0.9497262438955346,
          -0.8979300495910152,
          -0.949665083208682,
          -0.880358364119804,
          -0.8662836158466595,
          -0.9924087649350495,
          -0.988693553534636,
          -0.9511577647976832,
          -1.0803726877190007,
          -0.8931668240301053,
          -0.868188184610875,
          -0.9542706334130864,
          -0.6110901765433163,
          -0.8134376756685893,
          -0.9440247252459114,
          -0.9531211133705031
         ],
         "yaxis": "y10"
        }
       ],
       "layout": {
        "annotations": [
         {
          "font": {
           "size": 16
          },
          "showarrow": false,
          "text": "alpha: 1e-15",
          "x": 0.225,
          "xanchor": "center",
          "xref": "paper",
          "y": 1,
          "yanchor": "bottom",
          "yref": "paper"
         },
         {
          "font": {
           "size": 16
          },
          "showarrow": false,
          "text": "alpha: 1e-10",
          "x": 0.775,
          "xanchor": "center",
          "xref": "paper",
          "y": 1,
          "yanchor": "bottom",
          "yref": "paper"
         },
         {
          "font": {
           "size": 16
          },
          "showarrow": false,
          "text": "alpha: 1e-08",
          "x": 0.225,
          "xanchor": "center",
          "xref": "paper",
          "y": 0.78,
          "yanchor": "bottom",
          "yref": "paper"
         },
         {
          "font": {
           "size": 16
          },
          "showarrow": false,
          "text": "alpha: 0.0001",
          "x": 0.775,
          "xanchor": "center",
          "xref": "paper",
          "y": 0.78,
          "yanchor": "bottom",
          "yref": "paper"
         },
         {
          "font": {
           "size": 16
          },
          "showarrow": false,
          "text": "alpha: 0.001",
          "x": 0.225,
          "xanchor": "center",
          "xref": "paper",
          "y": 0.56,
          "yanchor": "bottom",
          "yref": "paper"
         },
         {
          "font": {
           "size": 16
          },
          "showarrow": false,
          "text": "alpha: 0.01",
          "x": 0.775,
          "xanchor": "center",
          "xref": "paper",
          "y": 0.56,
          "yanchor": "bottom",
          "yref": "paper"
         },
         {
          "font": {
           "size": 16
          },
          "showarrow": false,
          "text": "alpha: 1",
          "x": 0.225,
          "xanchor": "center",
          "xref": "paper",
          "y": 0.33999999999999997,
          "yanchor": "bottom",
          "yref": "paper"
         },
         {
          "font": {
           "size": 16
          },
          "showarrow": false,
          "text": "alpha: 5",
          "x": 0.775,
          "xanchor": "center",
          "xref": "paper",
          "y": 0.33999999999999997,
          "yanchor": "bottom",
          "yref": "paper"
         },
         {
          "font": {
           "size": 16
          },
          "showarrow": false,
          "text": "alpha: 10",
          "x": 0.225,
          "xanchor": "center",
          "xref": "paper",
          "y": 0.12,
          "yanchor": "bottom",
          "yref": "paper"
         },
         {
          "font": {
           "size": 16
          },
          "showarrow": false,
          "text": "alpha: 20",
          "x": 0.775,
          "xanchor": "center",
          "xref": "paper",
          "y": 0.12,
          "yanchor": "bottom",
          "yref": "paper"
         }
        ],
        "height": 1500,
        "template": {
         "data": {
          "bar": [
           {
            "error_x": {
             "color": "#2a3f5f"
            },
            "error_y": {
             "color": "#2a3f5f"
            },
            "marker": {
             "line": {
              "color": "white",
              "width": 0.5
             },
             "pattern": {
              "fillmode": "overlay",
              "size": 10,
              "solidity": 0.2
             }
            },
            "type": "bar"
           }
          ],
          "barpolar": [
           {
            "marker": {
             "line": {
              "color": "white",
              "width": 0.5
             },
             "pattern": {
              "fillmode": "overlay",
              "size": 10,
              "solidity": 0.2
             }
            },
            "type": "barpolar"
           }
          ],
          "carpet": [
           {
            "aaxis": {
             "endlinecolor": "#2a3f5f",
             "gridcolor": "#C8D4E3",
             "linecolor": "#C8D4E3",
             "minorgridcolor": "#C8D4E3",
             "startlinecolor": "#2a3f5f"
            },
            "baxis": {
             "endlinecolor": "#2a3f5f",
             "gridcolor": "#C8D4E3",
             "linecolor": "#C8D4E3",
             "minorgridcolor": "#C8D4E3",
             "startlinecolor": "#2a3f5f"
            },
            "type": "carpet"
           }
          ],
          "choropleth": [
           {
            "colorbar": {
             "outlinewidth": 0,
             "ticks": ""
            },
            "type": "choropleth"
           }
          ],
          "contour": [
           {
            "colorbar": {
             "outlinewidth": 0,
             "ticks": ""
            },
            "colorscale": [
             [
              0,
              "#0d0887"
             ],
             [
              0.1111111111111111,
              "#46039f"
             ],
             [
              0.2222222222222222,
              "#7201a8"
             ],
             [
              0.3333333333333333,
              "#9c179e"
             ],
             [
              0.4444444444444444,
              "#bd3786"
             ],
             [
              0.5555555555555556,
              "#d8576b"
             ],
             [
              0.6666666666666666,
              "#ed7953"
             ],
             [
              0.7777777777777778,
              "#fb9f3a"
             ],
             [
              0.8888888888888888,
              "#fdca26"
             ],
             [
              1,
              "#f0f921"
             ]
            ],
            "type": "contour"
           }
          ],
          "contourcarpet": [
           {
            "colorbar": {
             "outlinewidth": 0,
             "ticks": ""
            },
            "type": "contourcarpet"
           }
          ],
          "heatmap": [
           {
            "colorbar": {
             "outlinewidth": 0,
             "ticks": ""
            },
            "colorscale": [
             [
              0,
              "#0d0887"
             ],
             [
              0.1111111111111111,
              "#46039f"
             ],
             [
              0.2222222222222222,
              "#7201a8"
             ],
             [
              0.3333333333333333,
              "#9c179e"
             ],
             [
              0.4444444444444444,
              "#bd3786"
             ],
             [
              0.5555555555555556,
              "#d8576b"
             ],
             [
              0.6666666666666666,
              "#ed7953"
             ],
             [
              0.7777777777777778,
              "#fb9f3a"
             ],
             [
              0.8888888888888888,
              "#fdca26"
             ],
             [
              1,
              "#f0f921"
             ]
            ],
            "type": "heatmap"
           }
          ],
          "heatmapgl": [
           {
            "colorbar": {
             "outlinewidth": 0,
             "ticks": ""
            },
            "colorscale": [
             [
              0,
              "#0d0887"
             ],
             [
              0.1111111111111111,
              "#46039f"
             ],
             [
              0.2222222222222222,
              "#7201a8"
             ],
             [
              0.3333333333333333,
              "#9c179e"
             ],
             [
              0.4444444444444444,
              "#bd3786"
             ],
             [
              0.5555555555555556,
              "#d8576b"
             ],
             [
              0.6666666666666666,
              "#ed7953"
             ],
             [
              0.7777777777777778,
              "#fb9f3a"
             ],
             [
              0.8888888888888888,
              "#fdca26"
             ],
             [
              1,
              "#f0f921"
             ]
            ],
            "type": "heatmapgl"
           }
          ],
          "histogram": [
           {
            "marker": {
             "pattern": {
              "fillmode": "overlay",
              "size": 10,
              "solidity": 0.2
             }
            },
            "type": "histogram"
           }
          ],
          "histogram2d": [
           {
            "colorbar": {
             "outlinewidth": 0,
             "ticks": ""
            },
            "colorscale": [
             [
              0,
              "#0d0887"
             ],
             [
              0.1111111111111111,
              "#46039f"
             ],
             [
              0.2222222222222222,
              "#7201a8"
             ],
             [
              0.3333333333333333,
              "#9c179e"
             ],
             [
              0.4444444444444444,
              "#bd3786"
             ],
             [
              0.5555555555555556,
              "#d8576b"
             ],
             [
              0.6666666666666666,
              "#ed7953"
             ],
             [
              0.7777777777777778,
              "#fb9f3a"
             ],
             [
              0.8888888888888888,
              "#fdca26"
             ],
             [
              1,
              "#f0f921"
             ]
            ],
            "type": "histogram2d"
           }
          ],
          "histogram2dcontour": [
           {
            "colorbar": {
             "outlinewidth": 0,
             "ticks": ""
            },
            "colorscale": [
             [
              0,
              "#0d0887"
             ],
             [
              0.1111111111111111,
              "#46039f"
             ],
             [
              0.2222222222222222,
              "#7201a8"
             ],
             [
              0.3333333333333333,
              "#9c179e"
             ],
             [
              0.4444444444444444,
              "#bd3786"
             ],
             [
              0.5555555555555556,
              "#d8576b"
             ],
             [
              0.6666666666666666,
              "#ed7953"
             ],
             [
              0.7777777777777778,
              "#fb9f3a"
             ],
             [
              0.8888888888888888,
              "#fdca26"
             ],
             [
              1,
              "#f0f921"
             ]
            ],
            "type": "histogram2dcontour"
           }
          ],
          "mesh3d": [
           {
            "colorbar": {
             "outlinewidth": 0,
             "ticks": ""
            },
            "type": "mesh3d"
           }
          ],
          "parcoords": [
           {
            "line": {
             "colorbar": {
              "outlinewidth": 0,
              "ticks": ""
             }
            },
            "type": "parcoords"
           }
          ],
          "pie": [
           {
            "automargin": true,
            "type": "pie"
           }
          ],
          "scatter": [
           {
            "fillpattern": {
             "fillmode": "overlay",
             "size": 10,
             "solidity": 0.2
            },
            "type": "scatter"
           }
          ],
          "scatter3d": [
           {
            "line": {
             "colorbar": {
              "outlinewidth": 0,
              "ticks": ""
             }
            },
            "marker": {
             "colorbar": {
              "outlinewidth": 0,
              "ticks": ""
             }
            },
            "type": "scatter3d"
           }
          ],
          "scattercarpet": [
           {
            "marker": {
             "colorbar": {
              "outlinewidth": 0,
              "ticks": ""
             }
            },
            "type": "scattercarpet"
           }
          ],
          "scattergeo": [
           {
            "marker": {
             "colorbar": {
              "outlinewidth": 0,
              "ticks": ""
             }
            },
            "type": "scattergeo"
           }
          ],
          "scattergl": [
           {
            "marker": {
             "colorbar": {
              "outlinewidth": 0,
              "ticks": ""
             }
            },
            "type": "scattergl"
           }
          ],
          "scattermapbox": [
           {
            "marker": {
             "colorbar": {
              "outlinewidth": 0,
              "ticks": ""
             }
            },
            "type": "scattermapbox"
           }
          ],
          "scatterpolar": [
           {
            "marker": {
             "colorbar": {
              "outlinewidth": 0,
              "ticks": ""
             }
            },
            "type": "scatterpolar"
           }
          ],
          "scatterpolargl": [
           {
            "marker": {
             "colorbar": {
              "outlinewidth": 0,
              "ticks": ""
             }
            },
            "type": "scatterpolargl"
           }
          ],
          "scatterternary": [
           {
            "marker": {
             "colorbar": {
              "outlinewidth": 0,
              "ticks": ""
             }
            },
            "type": "scatterternary"
           }
          ],
          "surface": [
           {
            "colorbar": {
             "outlinewidth": 0,
             "ticks": ""
            },
            "colorscale": [
             [
              0,
              "#0d0887"
             ],
             [
              0.1111111111111111,
              "#46039f"
             ],
             [
              0.2222222222222222,
              "#7201a8"
             ],
             [
              0.3333333333333333,
              "#9c179e"
             ],
             [
              0.4444444444444444,
              "#bd3786"
             ],
             [
              0.5555555555555556,
              "#d8576b"
             ],
             [
              0.6666666666666666,
              "#ed7953"
             ],
             [
              0.7777777777777778,
              "#fb9f3a"
             ],
             [
              0.8888888888888888,
              "#fdca26"
             ],
             [
              1,
              "#f0f921"
             ]
            ],
            "type": "surface"
           }
          ],
          "table": [
           {
            "cells": {
             "fill": {
              "color": "#EBF0F8"
             },
             "line": {
              "color": "white"
             }
            },
            "header": {
             "fill": {
              "color": "#C8D4E3"
             },
             "line": {
              "color": "white"
             }
            },
            "type": "table"
           }
          ]
         },
         "layout": {
          "annotationdefaults": {
           "arrowcolor": "#2a3f5f",
           "arrowhead": 0,
           "arrowwidth": 1
          },
          "autotypenumbers": "strict",
          "coloraxis": {
           "colorbar": {
            "outlinewidth": 0,
            "ticks": ""
           }
          },
          "colorscale": {
           "diverging": [
            [
             0,
             "#8e0152"
            ],
            [
             0.1,
             "#c51b7d"
            ],
            [
             0.2,
             "#de77ae"
            ],
            [
             0.3,
             "#f1b6da"
            ],
            [
             0.4,
             "#fde0ef"
            ],
            [
             0.5,
             "#f7f7f7"
            ],
            [
             0.6,
             "#e6f5d0"
            ],
            [
             0.7,
             "#b8e186"
            ],
            [
             0.8,
             "#7fbc41"
            ],
            [
             0.9,
             "#4d9221"
            ],
            [
             1,
             "#276419"
            ]
           ],
           "sequential": [
            [
             0,
             "#0d0887"
            ],
            [
             0.1111111111111111,
             "#46039f"
            ],
            [
             0.2222222222222222,
             "#7201a8"
            ],
            [
             0.3333333333333333,
             "#9c179e"
            ],
            [
             0.4444444444444444,
             "#bd3786"
            ],
            [
             0.5555555555555556,
             "#d8576b"
            ],
            [
             0.6666666666666666,
             "#ed7953"
            ],
            [
             0.7777777777777778,
             "#fb9f3a"
            ],
            [
             0.8888888888888888,
             "#fdca26"
            ],
            [
             1,
             "#f0f921"
            ]
           ],
           "sequentialminus": [
            [
             0,
             "#0d0887"
            ],
            [
             0.1111111111111111,
             "#46039f"
            ],
            [
             0.2222222222222222,
             "#7201a8"
            ],
            [
             0.3333333333333333,
             "#9c179e"
            ],
            [
             0.4444444444444444,
             "#bd3786"
            ],
            [
             0.5555555555555556,
             "#d8576b"
            ],
            [
             0.6666666666666666,
             "#ed7953"
            ],
            [
             0.7777777777777778,
             "#fb9f3a"
            ],
            [
             0.8888888888888888,
             "#fdca26"
            ],
            [
             1,
             "#f0f921"
            ]
           ]
          },
          "colorway": [
           "#636efa",
           "#EF553B",
           "#00cc96",
           "#ab63fa",
           "#FFA15A",
           "#19d3f3",
           "#FF6692",
           "#B6E880",
           "#FF97FF",
           "#FECB52"
          ],
          "font": {
           "color": "#2a3f5f"
          },
          "geo": {
           "bgcolor": "white",
           "lakecolor": "white",
           "landcolor": "white",
           "showlakes": true,
           "showland": true,
           "subunitcolor": "#C8D4E3"
          },
          "hoverlabel": {
           "align": "left"
          },
          "hovermode": "closest",
          "mapbox": {
           "style": "light"
          },
          "paper_bgcolor": "white",
          "plot_bgcolor": "white",
          "polar": {
           "angularaxis": {
            "gridcolor": "#EBF0F8",
            "linecolor": "#EBF0F8",
            "ticks": ""
           },
           "bgcolor": "white",
           "radialaxis": {
            "gridcolor": "#EBF0F8",
            "linecolor": "#EBF0F8",
            "ticks": ""
           }
          },
          "scene": {
           "xaxis": {
            "backgroundcolor": "white",
            "gridcolor": "#DFE8F3",
            "gridwidth": 2,
            "linecolor": "#EBF0F8",
            "showbackground": true,
            "ticks": "",
            "zerolinecolor": "#EBF0F8"
           },
           "yaxis": {
            "backgroundcolor": "white",
            "gridcolor": "#DFE8F3",
            "gridwidth": 2,
            "linecolor": "#EBF0F8",
            "showbackground": true,
            "ticks": "",
            "zerolinecolor": "#EBF0F8"
           },
           "zaxis": {
            "backgroundcolor": "white",
            "gridcolor": "#DFE8F3",
            "gridwidth": 2,
            "linecolor": "#EBF0F8",
            "showbackground": true,
            "ticks": "",
            "zerolinecolor": "#EBF0F8"
           }
          },
          "shapedefaults": {
           "line": {
            "color": "#2a3f5f"
           }
          },
          "ternary": {
           "aaxis": {
            "gridcolor": "#DFE8F3",
            "linecolor": "#A2B1C6",
            "ticks": ""
           },
           "baxis": {
            "gridcolor": "#DFE8F3",
            "linecolor": "#A2B1C6",
            "ticks": ""
           },
           "bgcolor": "white",
           "caxis": {
            "gridcolor": "#DFE8F3",
            "linecolor": "#A2B1C6",
            "ticks": ""
           }
          },
          "title": {
           "x": 0.05
          },
          "xaxis": {
           "automargin": true,
           "gridcolor": "#EBF0F8",
           "linecolor": "#EBF0F8",
           "ticks": "",
           "title": {
            "standoff": 15
           },
           "zerolinecolor": "#EBF0F8",
           "zerolinewidth": 2
          },
          "yaxis": {
           "automargin": true,
           "gridcolor": "#EBF0F8",
           "linecolor": "#EBF0F8",
           "ticks": "",
           "title": {
            "standoff": 15
           },
           "zerolinecolor": "#EBF0F8",
           "zerolinewidth": 2
          }
         }
        },
        "title": {
         "text": "Polynomial Regression Models"
        },
        "width": 1500,
        "xaxis": {
         "anchor": "y",
         "domain": [
          0,
          0.45
         ]
        },
        "xaxis10": {
         "anchor": "y10",
         "domain": [
          0.55,
          1
         ]
        },
        "xaxis2": {
         "anchor": "y2",
         "domain": [
          0.55,
          1
         ]
        },
        "xaxis3": {
         "anchor": "y3",
         "domain": [
          0,
          0.45
         ]
        },
        "xaxis4": {
         "anchor": "y4",
         "domain": [
          0.55,
          1
         ]
        },
        "xaxis5": {
         "anchor": "y5",
         "domain": [
          0,
          0.45
         ]
        },
        "xaxis6": {
         "anchor": "y6",
         "domain": [
          0.55,
          1
         ]
        },
        "xaxis7": {
         "anchor": "y7",
         "domain": [
          0,
          0.45
         ]
        },
        "xaxis8": {
         "anchor": "y8",
         "domain": [
          0.55,
          1
         ]
        },
        "xaxis9": {
         "anchor": "y9",
         "domain": [
          0,
          0.45
         ]
        },
        "yaxis": {
         "anchor": "x",
         "domain": [
          0.88,
          1
         ]
        },
        "yaxis10": {
         "anchor": "x10",
         "domain": [
          0,
          0.12
         ]
        },
        "yaxis2": {
         "anchor": "x2",
         "domain": [
          0.88,
          1
         ]
        },
        "yaxis3": {
         "anchor": "x3",
         "domain": [
          0.66,
          0.78
         ]
        },
        "yaxis4": {
         "anchor": "x4",
         "domain": [
          0.66,
          0.78
         ]
        },
        "yaxis5": {
         "anchor": "x5",
         "domain": [
          0.44,
          0.56
         ]
        },
        "yaxis6": {
         "anchor": "x6",
         "domain": [
          0.44,
          0.56
         ]
        },
        "yaxis7": {
         "anchor": "x7",
         "domain": [
          0.22,
          0.33999999999999997
         ]
        },
        "yaxis8": {
         "anchor": "x8",
         "domain": [
          0.22,
          0.33999999999999997
         ]
        },
        "yaxis9": {
         "anchor": "x9",
         "domain": [
          0,
          0.12
         ]
        }
       }
      }
     },
     "metadata": {},
     "output_type": "display_data"
    }
   ],
   "source": [
    "def lasso_regression(data, predictors, alpha):\n",
    "    scaler = StandardScaler()\n",
    "    \n",
    "    x_train = scaler.fit_transform(data[predictors])\n",
    "    y_train = data['y_noise']\n",
    "    \n",
    "    lassoreg = Lasso(alpha=alpha, max_iter=int(1e5))\n",
    "    \n",
    "    lassoreg.fit(x_train, y_train)\n",
    "    y_pred = lassoreg.predict(x_train)\n",
    "    \n",
    "    rss = sum((y_pred - y_train)**2)\n",
    "    ret = [rss]\n",
    "    ret.extend([lassoreg.intercept_])\n",
    "    ret.extend(lassoreg.coef_)\n",
    "    \n",
    "    return y_pred, ret\n",
    "    \n",
    "predictors = ['x']\n",
    "predictors.extend(['x_%d'%i for i in range(2,16)])\n",
    "\n",
    "alpha_lasso = [1e-15, 1e-10, 1e-8, 1e-4, 1e-3, 1e-2, 1, 5, 10, 20]\n",
    "\n",
    "fig = make_subplots(rows=5, cols=2, subplot_titles=[f'alpha: {a}' for a in alpha_ridge])\n",
    "row, col = 1, 1\n",
    "\n",
    "for i, alpha in enumerate(alpha_ridge):  \n",
    "    y_pred, _ = lasso_regression(data, predictors, alpha)\n",
    "    \n",
    "    fig.add_trace(go.Scatter(x=data['x'], y=y_pred, mode='lines', name=f'Predicted (Alpha {alpha})', showlegend=False), row=row, col=col)\n",
    "    fig.add_trace(go.Scatter(x=data['x'], y=data['y_noise'], mode='markers', name=f'Actual (Alpha {alpha})', showlegend=False), row=row, col=col)\n",
    "\n",
    "    col += 1\n",
    "    if col > 2:  # Move to the next row after 2 columns\n",
    "        col = 1\n",
    "        row += 1\n",
    "        \n",
    "fig.update_layout(\n",
    "    height      =    1500,  \n",
    "    width       =    1500,   \n",
    "    title       =    'Polynomial Regression Models',\n",
    "    template    =    'plotly_white'\n",
    ")  \n",
    "\n",
    "fig.show()"
   ]
  },
  {
   "cell_type": "markdown",
   "metadata": {},
   "source": [
    "We can see some features coeffient beeing complete brought down to 0. "
   ]
  },
  {
   "cell_type": "code",
   "execution_count": 10,
   "metadata": {},
   "outputs": [
    {
     "name": "stderr",
     "output_type": "stream",
     "text": [
      "c:\\Users\\aariz\\.pyenv\\pyenv-win\\versions\\3.12.8\\Lib\\site-packages\\sklearn\\linear_model\\_coordinate_descent.py:695: ConvergenceWarning:\n",
      "\n",
      "Objective did not converge. You might want to increase the number of iterations, check the scale of the features or consider increasing regularisation. Duality gap: 4.784e-01, tolerance: 3.695e-03\n",
      "\n",
      "c:\\Users\\aariz\\.pyenv\\pyenv-win\\versions\\3.12.8\\Lib\\site-packages\\sklearn\\linear_model\\_coordinate_descent.py:695: ConvergenceWarning:\n",
      "\n",
      "Objective did not converge. You might want to increase the number of iterations, check the scale of the features or consider increasing regularisation. Duality gap: 4.783e-01, tolerance: 3.695e-03\n",
      "\n",
      "c:\\Users\\aariz\\.pyenv\\pyenv-win\\versions\\3.12.8\\Lib\\site-packages\\sklearn\\linear_model\\_coordinate_descent.py:695: ConvergenceWarning:\n",
      "\n",
      "Objective did not converge. You might want to increase the number of iterations, check the scale of the features or consider increasing regularisation. Duality gap: 4.774e-01, tolerance: 3.695e-03\n",
      "\n"
     ]
    }
   ],
   "source": [
    "col = ['rss', 'intercept'] + ['coef_x_%d' % i for i in range(1, 16)]\n",
    "ind = ['alpha_%.2g' % i for i in alpha_lasso]\n",
    "\n",
    "coef_matrix_lasso = pd.DataFrame(index=ind, columns=col)\n",
    "\n",
    "for i, alpha in enumerate(alpha_lasso):\n",
    "    preds, rss = lasso_regression(data, predictors, alpha)\n",
    "    \n",
    "    coef_matrix_lasso.iloc[i, 0] = rss[0]  # Assign RSS\n",
    "    coef_matrix_lasso.iloc[i, 1] = rss[1]  # Assign intercept\n",
    "    coef_matrix_lasso.iloc[i, 2:2 + len(rss[2:])] = rss[2:]  # Assign coefficients"
   ]
  },
  {
   "cell_type": "code",
   "execution_count": 13,
   "metadata": {},
   "outputs": [
    {
     "data": {
      "text/html": [
       "<div>\n",
       "<style scoped>\n",
       "    .dataframe tbody tr th:only-of-type {\n",
       "        vertical-align: middle;\n",
       "    }\n",
       "\n",
       "    .dataframe tbody tr th {\n",
       "        vertical-align: top;\n",
       "    }\n",
       "\n",
       "    .dataframe thead th {\n",
       "        text-align: right;\n",
       "    }\n",
       "</style>\n",
       "<table border=\"1\" class=\"dataframe\">\n",
       "  <thead>\n",
       "    <tr style=\"text-align: right;\">\n",
       "      <th></th>\n",
       "      <th>rss</th>\n",
       "      <th>intercept</th>\n",
       "      <th>coef_x_1</th>\n",
       "      <th>coef_x_2</th>\n",
       "      <th>coef_x_3</th>\n",
       "      <th>coef_x_4</th>\n",
       "      <th>coef_x_5</th>\n",
       "      <th>coef_x_6</th>\n",
       "      <th>coef_x_7</th>\n",
       "      <th>coef_x_8</th>\n",
       "      <th>coef_x_9</th>\n",
       "      <th>coef_x_10</th>\n",
       "      <th>coef_x_11</th>\n",
       "      <th>coef_x_12</th>\n",
       "      <th>coef_x_13</th>\n",
       "      <th>coef_x_14</th>\n",
       "      <th>coef_x_15</th>\n",
       "    </tr>\n",
       "  </thead>\n",
       "  <tbody>\n",
       "    <tr>\n",
       "      <th>alpha_1e-15</th>\n",
       "      <td>0.869617</td>\n",
       "      <td>0.038032</td>\n",
       "      <td>477.958096</td>\n",
       "      <td>-7316.830716</td>\n",
       "      <td>48462.232069</td>\n",
       "      <td>-177682.145357</td>\n",
       "      <td>375728.376133</td>\n",
       "      <td>-403774.428409</td>\n",
       "      <td>32340.799707</td>\n",
       "      <td>387829.759394</td>\n",
       "      <td>-210431.527974</td>\n",
       "      <td>-324548.998441</td>\n",
       "      <td>309707.776996</td>\n",
       "      <td>234238.920185</td>\n",
       "      <td>-479766.384855</td>\n",
       "      <td>267844.562642</td>\n",
       "      <td>-53110.821794</td>\n",
       "    </tr>\n",
       "    <tr>\n",
       "      <th>alpha_1e-10</th>\n",
       "      <td>0.887998</td>\n",
       "      <td>0.038032</td>\n",
       "      <td>-150.895504</td>\n",
       "      <td>1121.935809</td>\n",
       "      <td>-3390.824819</td>\n",
       "      <td>4548.528619</td>\n",
       "      <td>-1037.405968</td>\n",
       "      <td>-3087.115419</td>\n",
       "      <td>620.809027</td>\n",
       "      <td>2561.79686</td>\n",
       "      <td>559.219255</td>\n",
       "      <td>-1771.609342</td>\n",
       "      <td>-1358.236832</td>\n",
       "      <td>819.332776</td>\n",
       "      <td>1375.095404</td>\n",
       "      <td>-838.501239</td>\n",
       "      <td>27.187746</td>\n",
       "    </tr>\n",
       "    <tr>\n",
       "      <th>alpha_1e-08</th>\n",
       "      <td>0.929883</td>\n",
       "      <td>0.038032</td>\n",
       "      <td>-25.50625</td>\n",
       "      <td>170.686246</td>\n",
       "      <td>-431.210853</td>\n",
       "      <td>395.169423</td>\n",
       "      <td>132.898017</td>\n",
       "      <td>-302.812704</td>\n",
       "      <td>-195.325661</td>\n",
       "      <td>153.37786</td>\n",
       "      <td>267.7831</td>\n",
       "      <td>62.119811</td>\n",
       "      <td>-201.435452</td>\n",
       "      <td>-224.043012</td>\n",
       "      <td>50.261938</td>\n",
       "      <td>302.429095</td>\n",
       "      <td>-155.060277</td>\n",
       "    </tr>\n",
       "    <tr>\n",
       "      <th>alpha_0.0001</th>\n",
       "      <td>0.953741</td>\n",
       "      <td>0.038032</td>\n",
       "      <td>1.247141</td>\n",
       "      <td>-2.165186</td>\n",
       "      <td>-1.475943</td>\n",
       "      <td>0.465587</td>\n",
       "      <td>1.106084</td>\n",
       "      <td>0.515348</td>\n",
       "      <td>-0.34863</td>\n",
       "      <td>-0.786577</td>\n",
       "      <td>-0.594612</td>\n",
       "      <td>0.070117</td>\n",
       "      <td>0.867111</td>\n",
       "      <td>1.395835</td>\n",
       "      <td>1.263714</td>\n",
       "      <td>0.118885</td>\n",
       "      <td>-2.335929</td>\n",
       "    </tr>\n",
       "    <tr>\n",
       "      <th>alpha_0.001</th>\n",
       "      <td>0.958268</td>\n",
       "      <td>0.038032</td>\n",
       "      <td>0.897594</td>\n",
       "      <td>-1.474605</td>\n",
       "      <td>-1.071473</td>\n",
       "      <td>-0.23712</td>\n",
       "      <td>0.187358</td>\n",
       "      <td>0.245465</td>\n",
       "      <td>0.18315</td>\n",
       "      <td>0.164649</td>\n",
       "      <td>0.232861</td>\n",
       "      <td>0.349233</td>\n",
       "      <td>0.438375</td>\n",
       "      <td>0.417756</td>\n",
       "      <td>0.213187</td>\n",
       "      <td>-0.234881</td>\n",
       "      <td>-0.970055</td>\n",
       "    </tr>\n",
       "    <tr>\n",
       "      <th>alpha_0.01</th>\n",
       "      <td>0.963726</td>\n",
       "      <td>0.038032</td>\n",
       "      <td>0.604839</td>\n",
       "      <td>-0.89069</td>\n",
       "      <td>-1.001363</td>\n",
       "      <td>-0.602379</td>\n",
       "      <td>-0.156591</td>\n",
       "      <td>0.178452</td>\n",
       "      <td>0.382048</td>\n",
       "      <td>0.474821</td>\n",
       "      <td>0.481383</td>\n",
       "      <td>0.4203</td>\n",
       "      <td>0.303634</td>\n",
       "      <td>0.138796</td>\n",
       "      <td>-0.069644</td>\n",
       "      <td>-0.318664</td>\n",
       "      <td>-0.605987</td>\n",
       "    </tr>\n",
       "    <tr>\n",
       "      <th>alpha_1</th>\n",
       "      <td>1.567195</td>\n",
       "      <td>0.038032</td>\n",
       "      <td>-0.182977</td>\n",
       "      <td>-0.34891</td>\n",
       "      <td>-0.333408</td>\n",
       "      <td>-0.23317</td>\n",
       "      <td>-0.11442</td>\n",
       "      <td>-0.010541</td>\n",
       "      <td>0.06589</td>\n",
       "      <td>0.112916</td>\n",
       "      <td>0.133203</td>\n",
       "      <td>0.130996</td>\n",
       "      <td>0.110711</td>\n",
       "      <td>0.076357</td>\n",
       "      <td>0.031351</td>\n",
       "      <td>-0.021496</td>\n",
       "      <td>-0.07992</td>\n",
       "    </tr>\n",
       "    <tr>\n",
       "      <th>alpha_5</th>\n",
       "      <td>1.902341</td>\n",
       "      <td>0.038032</td>\n",
       "      <td>-0.272239</td>\n",
       "      <td>-0.263824</td>\n",
       "      <td>-0.214899</td>\n",
       "      <td>-0.152285</td>\n",
       "      <td>-0.092146</td>\n",
       "      <td>-0.041566</td>\n",
       "      <td>-0.002442</td>\n",
       "      <td>0.025754</td>\n",
       "      <td>0.044468</td>\n",
       "      <td>0.055347</td>\n",
       "      <td>0.059942</td>\n",
       "      <td>0.059595</td>\n",
       "      <td>0.055421</td>\n",
       "      <td>0.04833</td>\n",
       "      <td>0.03905</td>\n",
       "    </tr>\n",
       "    <tr>\n",
       "      <th>alpha_10</th>\n",
       "      <td>2.161507</td>\n",
       "      <td>0.038032</td>\n",
       "      <td>-0.262556</td>\n",
       "      <td>-0.236765</td>\n",
       "      <td>-0.18975</td>\n",
       "      <td>-0.137731</td>\n",
       "      <td>-0.089705</td>\n",
       "      <td>-0.049218</td>\n",
       "      <td>-0.016902</td>\n",
       "      <td>0.007886</td>\n",
       "      <td>0.026222</td>\n",
       "      <td>0.039228</td>\n",
       "      <td>0.047929</td>\n",
       "      <td>0.053195</td>\n",
       "      <td>0.055747</td>\n",
       "      <td>0.056173</td>\n",
       "      <td>0.054942</td>\n",
       "    </tr>\n",
       "    <tr>\n",
       "      <th>alpha_20</th>\n",
       "      <td>2.799428</td>\n",
       "      <td>0.038032</td>\n",
       "      <td>-0.235567</td>\n",
       "      <td>-0.206561</td>\n",
       "      <td>-0.16577</td>\n",
       "      <td>-0.123549</td>\n",
       "      <td>-0.085205</td>\n",
       "      <td>-0.0526</td>\n",
       "      <td>-0.025872</td>\n",
       "      <td>-0.004455</td>\n",
       "      <td>0.012431</td>\n",
       "      <td>0.025556</td>\n",
       "      <td>0.03561</td>\n",
       "      <td>0.043175</td>\n",
       "      <td>0.048732</td>\n",
       "      <td>0.052674</td>\n",
       "      <td>0.055317</td>\n",
       "    </tr>\n",
       "  </tbody>\n",
       "</table>\n",
       "</div>"
      ],
      "text/plain": [
       "                   rss intercept    coef_x_1     coef_x_2      coef_x_3  \\\n",
       "alpha_1e-15   0.869617  0.038032  477.958096 -7316.830716  48462.232069   \n",
       "alpha_1e-10   0.887998  0.038032 -150.895504  1121.935809  -3390.824819   \n",
       "alpha_1e-08   0.929883  0.038032   -25.50625   170.686246   -431.210853   \n",
       "alpha_0.0001  0.953741  0.038032    1.247141    -2.165186     -1.475943   \n",
       "alpha_0.001   0.958268  0.038032    0.897594    -1.474605     -1.071473   \n",
       "alpha_0.01    0.963726  0.038032    0.604839     -0.89069     -1.001363   \n",
       "alpha_1       1.567195  0.038032   -0.182977     -0.34891     -0.333408   \n",
       "alpha_5       1.902341  0.038032   -0.272239    -0.263824     -0.214899   \n",
       "alpha_10      2.161507  0.038032   -0.262556    -0.236765      -0.18975   \n",
       "alpha_20      2.799428  0.038032   -0.235567    -0.206561      -0.16577   \n",
       "\n",
       "                   coef_x_4       coef_x_5       coef_x_6      coef_x_7  \\\n",
       "alpha_1e-15  -177682.145357  375728.376133 -403774.428409  32340.799707   \n",
       "alpha_1e-10     4548.528619   -1037.405968   -3087.115419    620.809027   \n",
       "alpha_1e-08      395.169423     132.898017    -302.812704   -195.325661   \n",
       "alpha_0.0001       0.465587       1.106084       0.515348      -0.34863   \n",
       "alpha_0.001        -0.23712       0.187358       0.245465       0.18315   \n",
       "alpha_0.01        -0.602379      -0.156591       0.178452      0.382048   \n",
       "alpha_1            -0.23317       -0.11442      -0.010541       0.06589   \n",
       "alpha_5           -0.152285      -0.092146      -0.041566     -0.002442   \n",
       "alpha_10          -0.137731      -0.089705      -0.049218     -0.016902   \n",
       "alpha_20          -0.123549      -0.085205        -0.0526     -0.025872   \n",
       "\n",
       "                   coef_x_8       coef_x_9      coef_x_10      coef_x_11  \\\n",
       "alpha_1e-15   387829.759394 -210431.527974 -324548.998441  309707.776996   \n",
       "alpha_1e-10      2561.79686     559.219255   -1771.609342   -1358.236832   \n",
       "alpha_1e-08       153.37786       267.7831      62.119811    -201.435452   \n",
       "alpha_0.0001      -0.786577      -0.594612       0.070117       0.867111   \n",
       "alpha_0.001        0.164649       0.232861       0.349233       0.438375   \n",
       "alpha_0.01         0.474821       0.481383         0.4203       0.303634   \n",
       "alpha_1            0.112916       0.133203       0.130996       0.110711   \n",
       "alpha_5            0.025754       0.044468       0.055347       0.059942   \n",
       "alpha_10           0.007886       0.026222       0.039228       0.047929   \n",
       "alpha_20          -0.004455       0.012431       0.025556        0.03561   \n",
       "\n",
       "                  coef_x_12      coef_x_13      coef_x_14     coef_x_15  \n",
       "alpha_1e-15   234238.920185 -479766.384855  267844.562642 -53110.821794  \n",
       "alpha_1e-10      819.332776    1375.095404    -838.501239     27.187746  \n",
       "alpha_1e-08     -224.043012      50.261938     302.429095   -155.060277  \n",
       "alpha_0.0001       1.395835       1.263714       0.118885     -2.335929  \n",
       "alpha_0.001        0.417756       0.213187      -0.234881     -0.970055  \n",
       "alpha_0.01         0.138796      -0.069644      -0.318664     -0.605987  \n",
       "alpha_1            0.076357       0.031351      -0.021496      -0.07992  \n",
       "alpha_5            0.059595       0.055421        0.04833       0.03905  \n",
       "alpha_10           0.053195       0.055747       0.056173      0.054942  \n",
       "alpha_20           0.043175       0.048732       0.052674      0.055317  "
      ]
     },
     "execution_count": 13,
     "metadata": {},
     "output_type": "execute_result"
    }
   ],
   "source": [
    "coef_matrix_ridge"
   ]
  },
  {
   "cell_type": "markdown",
   "metadata": {},
   "source": [
    "```plaintext\n",
    "we can see that many coeff have become 0. "
   ]
  },
  {
   "cell_type": "markdown",
   "metadata": {},
   "source": [
    "```plaintext\n",
    "counting the number of zeroes in a particular row for an alpha"
   ]
  },
  {
   "cell_type": "code",
   "execution_count": 14,
   "metadata": {},
   "outputs": [
    {
     "data": {
      "text/plain": [
       "alpha_1e-15      0\n",
       "alpha_1e-10      0\n",
       "alpha_1e-08      0\n",
       "alpha_0.0001     9\n",
       "alpha_0.001     10\n",
       "alpha_0.01      12\n",
       "alpha_1         15\n",
       "alpha_5         15\n",
       "alpha_10        15\n",
       "alpha_20        15\n",
       "dtype: int32"
      ]
     },
     "execution_count": 14,
     "metadata": {},
     "output_type": "execute_result"
    }
   ],
   "source": [
    "coef_matrix_lasso.apply(lambda x: sum(x.values==0), axis = 1)"
   ]
  },
  {
   "cell_type": "markdown",
   "metadata": {},
   "source": [
    "```plaintext\n",
    "\n",
    "The phenomenon where most coefficients become zero is called sparsity. Althought lasso performs feature selection. "
   ]
  }
 ],
 "metadata": {
  "kernelspec": {
   "display_name": "Python 3",
   "language": "python",
   "name": "python3"
  },
  "language_info": {
   "codemirror_mode": {
    "name": "ipython",
    "version": 3
   },
   "file_extension": ".py",
   "mimetype": "text/x-python",
   "name": "python",
   "nbconvert_exporter": "python",
   "pygments_lexer": "ipython3",
   "version": "3.12.8"
  }
 },
 "nbformat": 4,
 "nbformat_minor": 2
}
